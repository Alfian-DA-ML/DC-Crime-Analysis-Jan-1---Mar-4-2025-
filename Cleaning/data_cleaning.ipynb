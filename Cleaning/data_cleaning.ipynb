{
 "cells": [
  {
   "cell_type": "markdown",
   "metadata": {},
   "source": [
    "<h3><b>ABOUT DATASET</b></h3>\n",
    "\n",
    "The dataset contains a subset of locations and attributes of incidents reported in the ASAP (Analytical Services Application) crime report database by the District of Columbia Metropolitan Police Department (MPD). Visit crimecards.dc.gov for more information. This data is shared via an automated process where addresses are geocoded to the District's Master Address Repository and assigned to the appropriate street block. Block locations for some crime points could not be automatically assigned resulting in 0,0 for x,y coordinates. These can be interactively assigned using the MAR Geocoder.On February 1 2020, the methodology of geography assignments of crime data was modified to increase accuracy. From January 1 2020 going forward, all crime data will have Ward, ANC, SMD, BID, Neighborhood Cluster, Voting Precinct, Block Group and Census Tract values calculated prior to, rather than after, anonymization to the block level. This change impacts approximately one percent of Ward assignments.\n",
    "\n",
    "Data source: https://catalog.data.gov/dataset/crime-incidents-in-2025"
   ]
  },
  {
   "cell_type": "markdown",
   "metadata": {},
   "source": [
    "<h3><b>DATASET</b></h3>"
   ]
  },
  {
   "cell_type": "code",
   "execution_count": 24,
   "metadata": {},
   "outputs": [
    {
     "data": {
      "application/vnd.microsoft.datawrangler.viewer.v0+json": {
       "columns": [
        {
         "name": "index",
         "rawType": "int64",
         "type": "integer"
        },
        {
         "name": "X",
         "rawType": "float64",
         "type": "float"
        },
        {
         "name": "Y",
         "rawType": "float64",
         "type": "float"
        },
        {
         "name": "CCN",
         "rawType": "int64",
         "type": "integer"
        },
        {
         "name": "REPORT_DAT",
         "rawType": "object",
         "type": "string"
        },
        {
         "name": "SHIFT",
         "rawType": "object",
         "type": "string"
        },
        {
         "name": "METHOD",
         "rawType": "object",
         "type": "string"
        },
        {
         "name": "OFFENSE",
         "rawType": "object",
         "type": "string"
        },
        {
         "name": "BLOCK",
         "rawType": "object",
         "type": "string"
        },
        {
         "name": "XBLOCK",
         "rawType": "float64",
         "type": "float"
        },
        {
         "name": "YBLOCK",
         "rawType": "float64",
         "type": "float"
        },
        {
         "name": "WARD",
         "rawType": "float64",
         "type": "float"
        },
        {
         "name": "ANC",
         "rawType": "object",
         "type": "string"
        },
        {
         "name": "DISTRICT",
         "rawType": "float64",
         "type": "float"
        },
        {
         "name": "PSA",
         "rawType": "float64",
         "type": "float"
        },
        {
         "name": "NEIGHBORHOOD_CLUSTER",
         "rawType": "object",
         "type": "string"
        },
        {
         "name": "BLOCK_GROUP",
         "rawType": "object",
         "type": "string"
        },
        {
         "name": "CENSUS_TRACT",
         "rawType": "float64",
         "type": "float"
        },
        {
         "name": "VOTING_PRECINCT",
         "rawType": "object",
         "type": "string"
        },
        {
         "name": "LATITUDE",
         "rawType": "float64",
         "type": "float"
        },
        {
         "name": "LONGITUDE",
         "rawType": "float64",
         "type": "float"
        },
        {
         "name": "BID",
         "rawType": "object",
         "type": "unknown"
        },
        {
         "name": "START_DATE",
         "rawType": "object",
         "type": "string"
        },
        {
         "name": "END_DATE",
         "rawType": "object",
         "type": "string"
        },
        {
         "name": "OBJECTID",
         "rawType": "int64",
         "type": "integer"
        },
        {
         "name": "OCTO_RECORD_ID",
         "rawType": "float64",
         "type": "float"
        }
       ],
       "conversionMethod": "pd.DataFrame",
       "ref": "84c3df0c-7240-4dff-9f1e-a3ec40c3628b",
       "rows": [
        [
         "0",
         "400046.409999996",
         "137753.649999999",
         "25017503",
         "2025/02/05 19:50:58+00",
         "DAY",
         "OTHERS",
         "MOTOR VEHICLE THEFT",
         "400 - 499 BLOCK OF MORSE STREET NE",
         "400046.41",
         "137753.65",
         "5.0",
         "5D",
         "5.0",
         "501.0",
         "Cluster 23",
         "008803 2",
         "8803.0",
         "Precinct 76",
         "38.907642221",
         "-76.9994649192",
         null,
         "2025/02/05 19:22:00+00",
         "2025/02/05 19:25:00+00",
         "685784661",
         null
        ],
        [
         "1",
         "397868.68",
         "141140.379999999",
         "25013087",
         "2025/01/28 12:08:29+00",
         "DAY",
         "OTHERS",
         "THEFT/OTHER",
         "3800 - 3899 BLOCK OF GEORGIA AVENUE NW",
         "397868.68",
         "141140.38",
         "4.0",
         "4C",
         "4.0",
         "404.0",
         "Cluster 18",
         "002503 2",
         "2503.0",
         "Precinct 47",
         "38.938148387",
         "-77.024583415",
         null,
         "2025/01/28 11:06:00+00",
         "2025/01/28 11:07:00+00",
         "685784675",
         null
        ],
        [
         "2",
         "399489.479999997",
         "137372.649999999",
         "25012701",
         "2025/01/27 17:28:06+00",
         "DAY",
         "OTHERS",
         "ROBBERY",
         "1100 - 1150 BLOCK OF 1ST STREET NE",
         "399489.48",
         "137372.65",
         "6.0",
         "6E",
         "5.0",
         "501.0",
         "Cluster 25",
         "010603 3",
         "10603.0",
         "Precinct 144",
         "38.9042098931",
         "-77.0058857204",
         "NOMA",
         "2025/01/27 15:00:00+00",
         "2025/01/27 15:20:00+00",
         "685784796",
         null
        ]
       ],
       "shape": {
        "columns": 25,
        "rows": 3
       }
      },
      "text/html": [
       "<div>\n",
       "<style scoped>\n",
       "    .dataframe tbody tr th:only-of-type {\n",
       "        vertical-align: middle;\n",
       "    }\n",
       "\n",
       "    .dataframe tbody tr th {\n",
       "        vertical-align: top;\n",
       "    }\n",
       "\n",
       "    .dataframe thead th {\n",
       "        text-align: right;\n",
       "    }\n",
       "</style>\n",
       "<table border=\"1\" class=\"dataframe\">\n",
       "  <thead>\n",
       "    <tr style=\"text-align: right;\">\n",
       "      <th></th>\n",
       "      <th>X</th>\n",
       "      <th>Y</th>\n",
       "      <th>CCN</th>\n",
       "      <th>REPORT_DAT</th>\n",
       "      <th>SHIFT</th>\n",
       "      <th>METHOD</th>\n",
       "      <th>OFFENSE</th>\n",
       "      <th>BLOCK</th>\n",
       "      <th>XBLOCK</th>\n",
       "      <th>YBLOCK</th>\n",
       "      <th>...</th>\n",
       "      <th>BLOCK_GROUP</th>\n",
       "      <th>CENSUS_TRACT</th>\n",
       "      <th>VOTING_PRECINCT</th>\n",
       "      <th>LATITUDE</th>\n",
       "      <th>LONGITUDE</th>\n",
       "      <th>BID</th>\n",
       "      <th>START_DATE</th>\n",
       "      <th>END_DATE</th>\n",
       "      <th>OBJECTID</th>\n",
       "      <th>OCTO_RECORD_ID</th>\n",
       "    </tr>\n",
       "  </thead>\n",
       "  <tbody>\n",
       "    <tr>\n",
       "      <th>0</th>\n",
       "      <td>400046.41</td>\n",
       "      <td>137753.65</td>\n",
       "      <td>25017503</td>\n",
       "      <td>2025/02/05 19:50:58+00</td>\n",
       "      <td>DAY</td>\n",
       "      <td>OTHERS</td>\n",
       "      <td>MOTOR VEHICLE THEFT</td>\n",
       "      <td>400 - 499 BLOCK OF MORSE STREET NE</td>\n",
       "      <td>400046.41</td>\n",
       "      <td>137753.65</td>\n",
       "      <td>...</td>\n",
       "      <td>008803 2</td>\n",
       "      <td>8803.0</td>\n",
       "      <td>Precinct 76</td>\n",
       "      <td>38.907642</td>\n",
       "      <td>-76.999465</td>\n",
       "      <td>NaN</td>\n",
       "      <td>2025/02/05 19:22:00+00</td>\n",
       "      <td>2025/02/05 19:25:00+00</td>\n",
       "      <td>685784661</td>\n",
       "      <td>NaN</td>\n",
       "    </tr>\n",
       "    <tr>\n",
       "      <th>1</th>\n",
       "      <td>397868.68</td>\n",
       "      <td>141140.38</td>\n",
       "      <td>25013087</td>\n",
       "      <td>2025/01/28 12:08:29+00</td>\n",
       "      <td>DAY</td>\n",
       "      <td>OTHERS</td>\n",
       "      <td>THEFT/OTHER</td>\n",
       "      <td>3800 - 3899 BLOCK OF GEORGIA AVENUE NW</td>\n",
       "      <td>397868.68</td>\n",
       "      <td>141140.38</td>\n",
       "      <td>...</td>\n",
       "      <td>002503 2</td>\n",
       "      <td>2503.0</td>\n",
       "      <td>Precinct 47</td>\n",
       "      <td>38.938148</td>\n",
       "      <td>-77.024583</td>\n",
       "      <td>NaN</td>\n",
       "      <td>2025/01/28 11:06:00+00</td>\n",
       "      <td>2025/01/28 11:07:00+00</td>\n",
       "      <td>685784675</td>\n",
       "      <td>NaN</td>\n",
       "    </tr>\n",
       "    <tr>\n",
       "      <th>2</th>\n",
       "      <td>399489.48</td>\n",
       "      <td>137372.65</td>\n",
       "      <td>25012701</td>\n",
       "      <td>2025/01/27 17:28:06+00</td>\n",
       "      <td>DAY</td>\n",
       "      <td>OTHERS</td>\n",
       "      <td>ROBBERY</td>\n",
       "      <td>1100 - 1150 BLOCK OF 1ST STREET NE</td>\n",
       "      <td>399489.48</td>\n",
       "      <td>137372.65</td>\n",
       "      <td>...</td>\n",
       "      <td>010603 3</td>\n",
       "      <td>10603.0</td>\n",
       "      <td>Precinct 144</td>\n",
       "      <td>38.904210</td>\n",
       "      <td>-77.005886</td>\n",
       "      <td>NOMA</td>\n",
       "      <td>2025/01/27 15:00:00+00</td>\n",
       "      <td>2025/01/27 15:20:00+00</td>\n",
       "      <td>685784796</td>\n",
       "      <td>NaN</td>\n",
       "    </tr>\n",
       "  </tbody>\n",
       "</table>\n",
       "<p>3 rows × 25 columns</p>\n",
       "</div>"
      ],
      "text/plain": [
       "           X          Y       CCN              REPORT_DAT SHIFT  METHOD  \\\n",
       "0  400046.41  137753.65  25017503  2025/02/05 19:50:58+00   DAY  OTHERS   \n",
       "1  397868.68  141140.38  25013087  2025/01/28 12:08:29+00   DAY  OTHERS   \n",
       "2  399489.48  137372.65  25012701  2025/01/27 17:28:06+00   DAY  OTHERS   \n",
       "\n",
       "               OFFENSE                                   BLOCK     XBLOCK  \\\n",
       "0  MOTOR VEHICLE THEFT      400 - 499 BLOCK OF MORSE STREET NE  400046.41   \n",
       "1          THEFT/OTHER  3800 - 3899 BLOCK OF GEORGIA AVENUE NW  397868.68   \n",
       "2              ROBBERY      1100 - 1150 BLOCK OF 1ST STREET NE  399489.48   \n",
       "\n",
       "      YBLOCK  ...  BLOCK_GROUP CENSUS_TRACT  VOTING_PRECINCT   LATITUDE  \\\n",
       "0  137753.65  ...     008803 2       8803.0      Precinct 76  38.907642   \n",
       "1  141140.38  ...     002503 2       2503.0      Precinct 47  38.938148   \n",
       "2  137372.65  ...     010603 3      10603.0     Precinct 144  38.904210   \n",
       "\n",
       "   LONGITUDE   BID              START_DATE                END_DATE   OBJECTID  \\\n",
       "0 -76.999465   NaN  2025/02/05 19:22:00+00  2025/02/05 19:25:00+00  685784661   \n",
       "1 -77.024583   NaN  2025/01/28 11:06:00+00  2025/01/28 11:07:00+00  685784675   \n",
       "2 -77.005886  NOMA  2025/01/27 15:00:00+00  2025/01/27 15:20:00+00  685784796   \n",
       "\n",
       "   OCTO_RECORD_ID  \n",
       "0             NaN  \n",
       "1             NaN  \n",
       "2             NaN  \n",
       "\n",
       "[3 rows x 25 columns]"
      ]
     },
     "execution_count": 24,
     "metadata": {},
     "output_type": "execute_result"
    }
   ],
   "source": [
    "import pandas as pd\n",
    "import matplotlib.pyplot as plt \n",
    "import numpy as np\n",
    "import seaborn as sns\n",
    "\n",
    "df = pd.read_csv('crime_incidents_dataset.csv')\n",
    "df.head(3)"
   ]
  },
  {
   "cell_type": "markdown",
   "metadata": {},
   "source": [
    "<h3><b>DATA CLEANING: PART 1</b></h3> "
   ]
  },
  {
   "cell_type": "markdown",
   "metadata": {},
   "source": [
    "Handling missing value"
   ]
  },
  {
   "cell_type": "code",
   "execution_count": 25,
   "metadata": {},
   "outputs": [
    {
     "data": {
      "text/plain": [
       "X                          0\n",
       "Y                          0\n",
       "CCN                        0\n",
       "REPORT_DAT                 0\n",
       "SHIFT                      0\n",
       "METHOD                     0\n",
       "OFFENSE                    0\n",
       "BLOCK                      0\n",
       "XBLOCK                     0\n",
       "YBLOCK                     0\n",
       "WARD                       1\n",
       "ANC                        1\n",
       "DISTRICT                   8\n",
       "PSA                        8\n",
       "NEIGHBORHOOD_CLUSTER       1\n",
       "BLOCK_GROUP                4\n",
       "CENSUS_TRACT               4\n",
       "VOTING_PRECINCT            1\n",
       "LATITUDE                   0\n",
       "LONGITUDE                  0\n",
       "BID                     3429\n",
       "START_DATE                 0\n",
       "END_DATE                 303\n",
       "OBJECTID                   0\n",
       "OCTO_RECORD_ID          4164\n",
       "dtype: int64"
      ]
     },
     "execution_count": 25,
     "metadata": {},
     "output_type": "execute_result"
    }
   ],
   "source": [
    "df.isnull().sum()"
   ]
  },
  {
   "cell_type": "markdown",
   "metadata": {},
   "source": [
    "Drop: OCTO_RECORD_ID and BID"
   ]
  },
  {
   "cell_type": "code",
   "execution_count": 26,
   "metadata": {},
   "outputs": [],
   "source": [
    "df.drop(columns=['BID'], inplace=True)\n",
    "df.drop(columns=['OCTO_RECORD_ID'], inplace=True)"
   ]
  },
  {
   "cell_type": "code",
   "execution_count": 27,
   "metadata": {},
   "outputs": [
    {
     "data": {
      "text/plain": [
       "X                         0\n",
       "Y                         0\n",
       "CCN                       0\n",
       "REPORT_DAT                0\n",
       "SHIFT                     0\n",
       "METHOD                    0\n",
       "OFFENSE                   0\n",
       "BLOCK                     0\n",
       "XBLOCK                    0\n",
       "YBLOCK                    0\n",
       "WARD                      1\n",
       "ANC                       1\n",
       "DISTRICT                  8\n",
       "PSA                       8\n",
       "NEIGHBORHOOD_CLUSTER      1\n",
       "BLOCK_GROUP               4\n",
       "CENSUS_TRACT              4\n",
       "VOTING_PRECINCT           1\n",
       "LATITUDE                  0\n",
       "LONGITUDE                 0\n",
       "START_DATE                0\n",
       "END_DATE                303\n",
       "OBJECTID                  0\n",
       "dtype: int64"
      ]
     },
     "execution_count": 27,
     "metadata": {},
     "output_type": "execute_result"
    }
   ],
   "source": [
    "df.isnull().sum()"
   ]
  },
  {
   "cell_type": "markdown",
   "metadata": {},
   "source": [
    "Filling missing value in WARD and ANC "
   ]
  },
  {
   "cell_type": "code",
   "execution_count": 28,
   "metadata": {},
   "outputs": [
    {
     "name": "stdout",
     "output_type": "stream",
     "text": [
      "      WARD\n",
      "2157   NaN\n"
     ]
    }
   ],
   "source": [
    "missing_ward = df[df['WARD'].isnull()].head(1)\n",
    "print(missing_ward[['WARD']])"
   ]
  },
  {
   "cell_type": "code",
   "execution_count": 29,
   "metadata": {},
   "outputs": [
    {
     "name": "stdout",
     "output_type": "stream",
     "text": [
      "      ANC\n",
      "2157  NaN\n"
     ]
    }
   ],
   "source": [
    "missing_ward = df[df['WARD'].isnull()]\n",
    "print(missing_ward[['ANC']])\n"
   ]
  },
  {
   "cell_type": "code",
   "execution_count": 30,
   "metadata": {},
   "outputs": [
    {
     "name": "stdout",
     "output_type": "stream",
     "text": [
      "      DISTRICT\n",
      "2157       5.0\n"
     ]
    }
   ],
   "source": [
    "print(missing_ward[['DISTRICT']])"
   ]
  },
  {
   "cell_type": "code",
   "execution_count": 31,
   "metadata": {},
   "outputs": [
    {
     "name": "stdout",
     "output_type": "stream",
     "text": [
      "DISTRICT\n",
      "7.0    1\n",
      "6.0    2\n",
      "2.0    3\n",
      "4.0    3\n",
      "5.0    3\n",
      "1.0    4\n",
      "3.0    4\n",
      "Name: WARD, dtype: int64\n",
      "PSA\n",
      "104.0    1\n",
      "105.0    1\n",
      "206.0    1\n",
      "207.0    1\n",
      "205.0    1\n",
      "204.0    1\n",
      "203.0    1\n",
      "202.0    1\n",
      "208.0    1\n",
      "402.0    1\n",
      "403.0    1\n",
      "404.0    1\n",
      "304.0    1\n",
      "303.0    1\n",
      "302.0    1\n",
      "209.0    1\n",
      "407.0    1\n",
      "401.0    1\n",
      "702.0    1\n",
      "703.0    1\n",
      "704.0    1\n",
      "604.0    1\n",
      "602.0    1\n",
      "605.0    1\n",
      "601.0    1\n",
      "506.0    1\n",
      "504.0    1\n",
      "505.0    1\n",
      "503.0    1\n",
      "502.0    1\n",
      "409.0    1\n",
      "408.0    1\n",
      "708.0    1\n",
      "705.0    1\n",
      "706.0    1\n",
      "707.0    1\n",
      "701.0    1\n",
      "608.0    1\n",
      "301.0    2\n",
      "305.0    2\n",
      "101.0    2\n",
      "107.0    2\n",
      "108.0    2\n",
      "103.0    2\n",
      "106.0    2\n",
      "102.0    2\n",
      "307.0    2\n",
      "201.0    2\n",
      "607.0    2\n",
      "606.0    2\n",
      "405.0    2\n",
      "406.0    2\n",
      "501.0    2\n",
      "603.0    2\n",
      "507.0    2\n",
      "306.0    3\n",
      "308.0    3\n",
      "Name: WARD, dtype: int64\n"
     ]
    }
   ],
   "source": [
    "print(df.groupby('DISTRICT')['WARD'].nunique().sort_values())\n",
    "print(df.groupby('PSA')['WARD'].nunique().sort_values())  \n"
   ]
  },
  {
   "cell_type": "code",
   "execution_count": 32,
   "metadata": {},
   "outputs": [],
   "source": [
    "df['WARD'] = df['WARD'].fillna(df.groupby('DISTRICT')['WARD'].transform(lambda x: x.mode()[0] if not x.mode().empty else None))\n",
    "df['ANC'] = df['ANC'].fillna(df.groupby('DISTRICT')['ANC'].transform(lambda x: x.mode()[0] if not x.mode().empty else None))\n"
   ]
  },
  {
   "cell_type": "code",
   "execution_count": 33,
   "metadata": {},
   "outputs": [
    {
     "data": {
      "text/plain": [
       "X                         0\n",
       "Y                         0\n",
       "CCN                       0\n",
       "REPORT_DAT                0\n",
       "SHIFT                     0\n",
       "METHOD                    0\n",
       "OFFENSE                   0\n",
       "BLOCK                     0\n",
       "XBLOCK                    0\n",
       "YBLOCK                    0\n",
       "WARD                      0\n",
       "ANC                       0\n",
       "DISTRICT                  8\n",
       "PSA                       8\n",
       "NEIGHBORHOOD_CLUSTER      1\n",
       "BLOCK_GROUP               4\n",
       "CENSUS_TRACT              4\n",
       "VOTING_PRECINCT           1\n",
       "LATITUDE                  0\n",
       "LONGITUDE                 0\n",
       "START_DATE                0\n",
       "END_DATE                303\n",
       "OBJECTID                  0\n",
       "dtype: int64"
      ]
     },
     "execution_count": 33,
     "metadata": {},
     "output_type": "execute_result"
    }
   ],
   "source": [
    "df.isnull().sum()"
   ]
  },
  {
   "cell_type": "code",
   "execution_count": 34,
   "metadata": {},
   "outputs": [
    {
     "name": "stdout",
     "output_type": "stream",
     "text": [
      "5.0\n"
     ]
    }
   ],
   "source": [
    "print(df['WARD'].loc[2157])"
   ]
  },
  {
   "cell_type": "code",
   "execution_count": 35,
   "metadata": {},
   "outputs": [
    {
     "name": "stdout",
     "output_type": "stream",
     "text": [
      "5D\n"
     ]
    }
   ],
   "source": [
    "print(df['ANC'].loc[2157])"
   ]
  },
  {
   "cell_type": "markdown",
   "metadata": {},
   "source": [
    "Saving data cleaning part 1 result"
   ]
  },
  {
   "cell_type": "code",
   "execution_count": 36,
   "metadata": {},
   "outputs": [],
   "source": [
    "df.to_csv('data_crime_cleaned_1.csv', index=False)"
   ]
  },
  {
   "cell_type": "markdown",
   "metadata": {},
   "source": [
    "<h3><b>DATA CLEANING: PART 2</b></h3> "
   ]
  },
  {
   "cell_type": "markdown",
   "metadata": {},
   "source": [
    "Handling missing value"
   ]
  },
  {
   "cell_type": "code",
   "execution_count": 37,
   "metadata": {},
   "outputs": [
    {
     "data": {
      "application/vnd.microsoft.datawrangler.viewer.v0+json": {
       "columns": [
        {
         "name": "index",
         "rawType": "int64",
         "type": "integer"
        },
        {
         "name": "X",
         "rawType": "float64",
         "type": "float"
        },
        {
         "name": "Y",
         "rawType": "float64",
         "type": "float"
        },
        {
         "name": "CCN",
         "rawType": "int64",
         "type": "integer"
        },
        {
         "name": "REPORT_DAT",
         "rawType": "object",
         "type": "string"
        },
        {
         "name": "SHIFT",
         "rawType": "object",
         "type": "string"
        },
        {
         "name": "METHOD",
         "rawType": "object",
         "type": "string"
        },
        {
         "name": "OFFENSE",
         "rawType": "object",
         "type": "string"
        },
        {
         "name": "BLOCK",
         "rawType": "object",
         "type": "string"
        },
        {
         "name": "XBLOCK",
         "rawType": "float64",
         "type": "float"
        },
        {
         "name": "YBLOCK",
         "rawType": "float64",
         "type": "float"
        },
        {
         "name": "WARD",
         "rawType": "float64",
         "type": "float"
        },
        {
         "name": "ANC",
         "rawType": "object",
         "type": "string"
        },
        {
         "name": "DISTRICT",
         "rawType": "float64",
         "type": "float"
        },
        {
         "name": "PSA",
         "rawType": "float64",
         "type": "float"
        },
        {
         "name": "NEIGHBORHOOD_CLUSTER",
         "rawType": "object",
         "type": "string"
        },
        {
         "name": "BLOCK_GROUP",
         "rawType": "object",
         "type": "string"
        },
        {
         "name": "CENSUS_TRACT",
         "rawType": "float64",
         "type": "float"
        },
        {
         "name": "VOTING_PRECINCT",
         "rawType": "object",
         "type": "string"
        },
        {
         "name": "LATITUDE",
         "rawType": "float64",
         "type": "float"
        },
        {
         "name": "LONGITUDE",
         "rawType": "float64",
         "type": "float"
        },
        {
         "name": "START_DATE",
         "rawType": "object",
         "type": "string"
        },
        {
         "name": "END_DATE",
         "rawType": "object",
         "type": "string"
        },
        {
         "name": "OBJECTID",
         "rawType": "int64",
         "type": "integer"
        }
       ],
       "conversionMethod": "pd.DataFrame",
       "ref": "9ba89ff3-b444-4a0a-80ff-a8bdc866f043",
       "rows": [
        [
         "0",
         "400046.409999996",
         "137753.649999999",
         "25017503",
         "2025/02/05 19:50:58+00",
         "DAY",
         "OTHERS",
         "MOTOR VEHICLE THEFT",
         "400 - 499 BLOCK OF MORSE STREET NE",
         "400046.41",
         "137753.65",
         "5.0",
         "5D",
         "5.0",
         "501.0",
         "Cluster 23",
         "008803 2",
         "8803.0",
         "Precinct 76",
         "38.907642221",
         "-76.9994649192",
         "2025/02/05 19:22:00+00",
         "2025/02/05 19:25:00+00",
         "685784661"
        ],
        [
         "1",
         "397868.68",
         "141140.379999999",
         "25013087",
         "2025/01/28 12:08:29+00",
         "DAY",
         "OTHERS",
         "THEFT/OTHER",
         "3800 - 3899 BLOCK OF GEORGIA AVENUE NW",
         "397868.68",
         "141140.38",
         "4.0",
         "4C",
         "4.0",
         "404.0",
         "Cluster 18",
         "002503 2",
         "2503.0",
         "Precinct 47",
         "38.938148387",
         "-77.024583415",
         "2025/01/28 11:06:00+00",
         "2025/01/28 11:07:00+00",
         "685784675"
        ],
        [
         "2",
         "399489.479999997",
         "137372.649999999",
         "25012701",
         "2025/01/27 17:28:06+00",
         "DAY",
         "OTHERS",
         "ROBBERY",
         "1100 - 1150 BLOCK OF 1ST STREET NE",
         "399489.48",
         "137372.65",
         "6.0",
         "6E",
         "5.0",
         "501.0",
         "Cluster 25",
         "010603 3",
         "10603.0",
         "Precinct 144",
         "38.9042098931",
         "-77.0058857204",
         "2025/01/27 15:00:00+00",
         "2025/01/27 15:20:00+00",
         "685784796"
        ],
        [
         "3",
         "401498.969999999",
         "138734.57",
         "25008887",
         "2025/01/19 19:59:51+00",
         "DAY",
         "OTHERS",
         "THEFT/OTHER",
         "1500 - 1599 BLOCK OF NEW YORK AVENUE NE",
         "401498.97",
         "138734.57",
         "5.0",
         "5D",
         "5.0",
         "506.0",
         "Cluster 23",
         "008803 1",
         "8803.0",
         "Precinct 76",
         "38.9164774036",
         "-76.9827155922",
         "2025/01/19 19:22:00+00",
         "2025/01/19 19:32:00+00",
         "685784829"
        ]
       ],
       "shape": {
        "columns": 23,
        "rows": 4
       }
      },
      "text/html": [
       "<div>\n",
       "<style scoped>\n",
       "    .dataframe tbody tr th:only-of-type {\n",
       "        vertical-align: middle;\n",
       "    }\n",
       "\n",
       "    .dataframe tbody tr th {\n",
       "        vertical-align: top;\n",
       "    }\n",
       "\n",
       "    .dataframe thead th {\n",
       "        text-align: right;\n",
       "    }\n",
       "</style>\n",
       "<table border=\"1\" class=\"dataframe\">\n",
       "  <thead>\n",
       "    <tr style=\"text-align: right;\">\n",
       "      <th></th>\n",
       "      <th>X</th>\n",
       "      <th>Y</th>\n",
       "      <th>CCN</th>\n",
       "      <th>REPORT_DAT</th>\n",
       "      <th>SHIFT</th>\n",
       "      <th>METHOD</th>\n",
       "      <th>OFFENSE</th>\n",
       "      <th>BLOCK</th>\n",
       "      <th>XBLOCK</th>\n",
       "      <th>YBLOCK</th>\n",
       "      <th>...</th>\n",
       "      <th>PSA</th>\n",
       "      <th>NEIGHBORHOOD_CLUSTER</th>\n",
       "      <th>BLOCK_GROUP</th>\n",
       "      <th>CENSUS_TRACT</th>\n",
       "      <th>VOTING_PRECINCT</th>\n",
       "      <th>LATITUDE</th>\n",
       "      <th>LONGITUDE</th>\n",
       "      <th>START_DATE</th>\n",
       "      <th>END_DATE</th>\n",
       "      <th>OBJECTID</th>\n",
       "    </tr>\n",
       "  </thead>\n",
       "  <tbody>\n",
       "    <tr>\n",
       "      <th>0</th>\n",
       "      <td>400046.41</td>\n",
       "      <td>137753.65</td>\n",
       "      <td>25017503</td>\n",
       "      <td>2025/02/05 19:50:58+00</td>\n",
       "      <td>DAY</td>\n",
       "      <td>OTHERS</td>\n",
       "      <td>MOTOR VEHICLE THEFT</td>\n",
       "      <td>400 - 499 BLOCK OF MORSE STREET NE</td>\n",
       "      <td>400046.41</td>\n",
       "      <td>137753.65</td>\n",
       "      <td>...</td>\n",
       "      <td>501.0</td>\n",
       "      <td>Cluster 23</td>\n",
       "      <td>008803 2</td>\n",
       "      <td>8803.0</td>\n",
       "      <td>Precinct 76</td>\n",
       "      <td>38.907642</td>\n",
       "      <td>-76.999465</td>\n",
       "      <td>2025/02/05 19:22:00+00</td>\n",
       "      <td>2025/02/05 19:25:00+00</td>\n",
       "      <td>685784661</td>\n",
       "    </tr>\n",
       "    <tr>\n",
       "      <th>1</th>\n",
       "      <td>397868.68</td>\n",
       "      <td>141140.38</td>\n",
       "      <td>25013087</td>\n",
       "      <td>2025/01/28 12:08:29+00</td>\n",
       "      <td>DAY</td>\n",
       "      <td>OTHERS</td>\n",
       "      <td>THEFT/OTHER</td>\n",
       "      <td>3800 - 3899 BLOCK OF GEORGIA AVENUE NW</td>\n",
       "      <td>397868.68</td>\n",
       "      <td>141140.38</td>\n",
       "      <td>...</td>\n",
       "      <td>404.0</td>\n",
       "      <td>Cluster 18</td>\n",
       "      <td>002503 2</td>\n",
       "      <td>2503.0</td>\n",
       "      <td>Precinct 47</td>\n",
       "      <td>38.938148</td>\n",
       "      <td>-77.024583</td>\n",
       "      <td>2025/01/28 11:06:00+00</td>\n",
       "      <td>2025/01/28 11:07:00+00</td>\n",
       "      <td>685784675</td>\n",
       "    </tr>\n",
       "    <tr>\n",
       "      <th>2</th>\n",
       "      <td>399489.48</td>\n",
       "      <td>137372.65</td>\n",
       "      <td>25012701</td>\n",
       "      <td>2025/01/27 17:28:06+00</td>\n",
       "      <td>DAY</td>\n",
       "      <td>OTHERS</td>\n",
       "      <td>ROBBERY</td>\n",
       "      <td>1100 - 1150 BLOCK OF 1ST STREET NE</td>\n",
       "      <td>399489.48</td>\n",
       "      <td>137372.65</td>\n",
       "      <td>...</td>\n",
       "      <td>501.0</td>\n",
       "      <td>Cluster 25</td>\n",
       "      <td>010603 3</td>\n",
       "      <td>10603.0</td>\n",
       "      <td>Precinct 144</td>\n",
       "      <td>38.904210</td>\n",
       "      <td>-77.005886</td>\n",
       "      <td>2025/01/27 15:00:00+00</td>\n",
       "      <td>2025/01/27 15:20:00+00</td>\n",
       "      <td>685784796</td>\n",
       "    </tr>\n",
       "    <tr>\n",
       "      <th>3</th>\n",
       "      <td>401498.97</td>\n",
       "      <td>138734.57</td>\n",
       "      <td>25008887</td>\n",
       "      <td>2025/01/19 19:59:51+00</td>\n",
       "      <td>DAY</td>\n",
       "      <td>OTHERS</td>\n",
       "      <td>THEFT/OTHER</td>\n",
       "      <td>1500 - 1599 BLOCK OF NEW YORK AVENUE NE</td>\n",
       "      <td>401498.97</td>\n",
       "      <td>138734.57</td>\n",
       "      <td>...</td>\n",
       "      <td>506.0</td>\n",
       "      <td>Cluster 23</td>\n",
       "      <td>008803 1</td>\n",
       "      <td>8803.0</td>\n",
       "      <td>Precinct 76</td>\n",
       "      <td>38.916477</td>\n",
       "      <td>-76.982716</td>\n",
       "      <td>2025/01/19 19:22:00+00</td>\n",
       "      <td>2025/01/19 19:32:00+00</td>\n",
       "      <td>685784829</td>\n",
       "    </tr>\n",
       "  </tbody>\n",
       "</table>\n",
       "<p>4 rows × 23 columns</p>\n",
       "</div>"
      ],
      "text/plain": [
       "           X          Y       CCN              REPORT_DAT SHIFT  METHOD  \\\n",
       "0  400046.41  137753.65  25017503  2025/02/05 19:50:58+00   DAY  OTHERS   \n",
       "1  397868.68  141140.38  25013087  2025/01/28 12:08:29+00   DAY  OTHERS   \n",
       "2  399489.48  137372.65  25012701  2025/01/27 17:28:06+00   DAY  OTHERS   \n",
       "3  401498.97  138734.57  25008887  2025/01/19 19:59:51+00   DAY  OTHERS   \n",
       "\n",
       "               OFFENSE                                    BLOCK     XBLOCK  \\\n",
       "0  MOTOR VEHICLE THEFT       400 - 499 BLOCK OF MORSE STREET NE  400046.41   \n",
       "1          THEFT/OTHER   3800 - 3899 BLOCK OF GEORGIA AVENUE NW  397868.68   \n",
       "2              ROBBERY       1100 - 1150 BLOCK OF 1ST STREET NE  399489.48   \n",
       "3          THEFT/OTHER  1500 - 1599 BLOCK OF NEW YORK AVENUE NE  401498.97   \n",
       "\n",
       "      YBLOCK  ...    PSA NEIGHBORHOOD_CLUSTER  BLOCK_GROUP  CENSUS_TRACT  \\\n",
       "0  137753.65  ...  501.0           Cluster 23     008803 2        8803.0   \n",
       "1  141140.38  ...  404.0           Cluster 18     002503 2        2503.0   \n",
       "2  137372.65  ...  501.0           Cluster 25     010603 3       10603.0   \n",
       "3  138734.57  ...  506.0           Cluster 23     008803 1        8803.0   \n",
       "\n",
       "  VOTING_PRECINCT   LATITUDE  LONGITUDE              START_DATE  \\\n",
       "0     Precinct 76  38.907642 -76.999465  2025/02/05 19:22:00+00   \n",
       "1     Precinct 47  38.938148 -77.024583  2025/01/28 11:06:00+00   \n",
       "2    Precinct 144  38.904210 -77.005886  2025/01/27 15:00:00+00   \n",
       "3     Precinct 76  38.916477 -76.982716  2025/01/19 19:22:00+00   \n",
       "\n",
       "                 END_DATE   OBJECTID  \n",
       "0  2025/02/05 19:25:00+00  685784661  \n",
       "1  2025/01/28 11:07:00+00  685784675  \n",
       "2  2025/01/27 15:20:00+00  685784796  \n",
       "3  2025/01/19 19:32:00+00  685784829  \n",
       "\n",
       "[4 rows x 23 columns]"
      ]
     },
     "execution_count": 37,
     "metadata": {},
     "output_type": "execute_result"
    }
   ],
   "source": [
    "import pandas as pd \n",
    "import matplotlib.pyplot as plt\n",
    "import numpy as np\n",
    "import seaborn as sns \n",
    "\n",
    "df_new = pd.read_csv('data_crime_cleaned_1.csv')\n",
    "df_new.head(4)"
   ]
  },
  {
   "cell_type": "code",
   "execution_count": 38,
   "metadata": {},
   "outputs": [
    {
     "data": {
      "text/plain": [
       "X                         0\n",
       "Y                         0\n",
       "CCN                       0\n",
       "REPORT_DAT                0\n",
       "SHIFT                     0\n",
       "METHOD                    0\n",
       "OFFENSE                   0\n",
       "BLOCK                     0\n",
       "XBLOCK                    0\n",
       "YBLOCK                    0\n",
       "WARD                      0\n",
       "ANC                       0\n",
       "DISTRICT                  8\n",
       "PSA                       8\n",
       "NEIGHBORHOOD_CLUSTER      1\n",
       "BLOCK_GROUP               4\n",
       "CENSUS_TRACT              4\n",
       "VOTING_PRECINCT           1\n",
       "LATITUDE                  0\n",
       "LONGITUDE                 0\n",
       "START_DATE                0\n",
       "END_DATE                303\n",
       "OBJECTID                  0\n",
       "dtype: int64"
      ]
     },
     "execution_count": 38,
     "metadata": {},
     "output_type": "execute_result"
    }
   ],
   "source": [
    "df_new.isnull().sum()"
   ]
  },
  {
   "cell_type": "markdown",
   "metadata": {},
   "source": [
    "Missing value handling in DISTRICT and PSA"
   ]
  },
  {
   "cell_type": "code",
   "execution_count": 39,
   "metadata": {},
   "outputs": [
    {
     "name": "stdout",
     "output_type": "stream",
     "text": [
      "      DISTRICT\n",
      "383        NaN\n",
      "523        NaN\n",
      "1550       NaN\n",
      "1555       NaN\n",
      "2598       NaN\n",
      "2627       NaN\n",
      "2789       NaN\n",
      "3125       NaN\n"
     ]
    }
   ],
   "source": [
    "missing_district = df_new[df_new['DISTRICT'].isnull()].head(10)\n",
    "print(missing_district[['DISTRICT']])"
   ]
  },
  {
   "cell_type": "code",
   "execution_count": 40,
   "metadata": {},
   "outputs": [
    {
     "name": "stdout",
     "output_type": "stream",
     "text": [
      "      PSA\n",
      "383   NaN\n",
      "523   NaN\n",
      "1550  NaN\n",
      "1555  NaN\n",
      "2598  NaN\n",
      "2627  NaN\n",
      "2789  NaN\n",
      "3125  NaN\n"
     ]
    }
   ],
   "source": [
    "missing_district = df_new[df_new['PSA'].isnull()].head(10)\n",
    "print(missing_district[['PSA']])"
   ]
  },
  {
   "cell_type": "code",
   "execution_count": 41,
   "metadata": {},
   "outputs": [],
   "source": [
    "df_new['DISTRICT'] = df_new.groupby(['WARD', 'ANC'])['DISTRICT'].transform(lambda x: x.fillna(x.mode()[0] if not x.mode().empty else x))\n",
    "df_new['PSA'] = df_new.groupby(['WARD', 'ANC'])['PSA'].transform(lambda x: x.fillna(x.mode()[0] if not x.mode().empty else x))"
   ]
  },
  {
   "cell_type": "code",
   "execution_count": 42,
   "metadata": {},
   "outputs": [
    {
     "data": {
      "text/plain": [
       "X                         0\n",
       "Y                         0\n",
       "CCN                       0\n",
       "REPORT_DAT                0\n",
       "SHIFT                     0\n",
       "METHOD                    0\n",
       "OFFENSE                   0\n",
       "BLOCK                     0\n",
       "XBLOCK                    0\n",
       "YBLOCK                    0\n",
       "WARD                      0\n",
       "ANC                       0\n",
       "DISTRICT                  0\n",
       "PSA                       0\n",
       "NEIGHBORHOOD_CLUSTER      1\n",
       "BLOCK_GROUP               4\n",
       "CENSUS_TRACT              4\n",
       "VOTING_PRECINCT           1\n",
       "LATITUDE                  0\n",
       "LONGITUDE                 0\n",
       "START_DATE                0\n",
       "END_DATE                303\n",
       "OBJECTID                  0\n",
       "dtype: int64"
      ]
     },
     "execution_count": 42,
     "metadata": {},
     "output_type": "execute_result"
    }
   ],
   "source": [
    "df_new.isnull().sum()"
   ]
  },
  {
   "cell_type": "markdown",
   "metadata": {},
   "source": [
    "Handling Missing value handling in NEIGHBORHOOD_CLUSTER"
   ]
  },
  {
   "cell_type": "code",
   "execution_count": 43,
   "metadata": {},
   "outputs": [
    {
     "name": "stdout",
     "output_type": "stream",
     "text": [
      "     NEIGHBORHOOD_CLUSTER\n",
      "2157                  NaN\n"
     ]
    }
   ],
   "source": [
    "missing_neighborhood_cluster = df_new[df_new['NEIGHBORHOOD_CLUSTER'].isnull()].head(10)\n",
    "print(missing_neighborhood_cluster[['NEIGHBORHOOD_CLUSTER']])"
   ]
  },
  {
   "cell_type": "code",
   "execution_count": 44,
   "metadata": {},
   "outputs": [
    {
     "name": "stderr",
     "output_type": "stream",
     "text": [
      "C:\\Users\\LOQ\\AppData\\Local\\Temp\\ipykernel_6204\\2760611688.py:1: FutureWarning: A value is trying to be set on a copy of a DataFrame or Series through chained assignment using an inplace method.\n",
      "The behavior will change in pandas 3.0. This inplace method will never work because the intermediate object on which we are setting values always behaves as a copy.\n",
      "\n",
      "For example, when doing 'df[col].method(value, inplace=True)', try using 'df.method({col: value}, inplace=True)' or df[col] = df[col].method(value) instead, to perform the operation inplace on the original object.\n",
      "\n",
      "\n",
      "  df_new['NEIGHBORHOOD_CLUSTER'].fillna(df_new['NEIGHBORHOOD_CLUSTER'].mode()[0], inplace=True)\n"
     ]
    }
   ],
   "source": [
    "df_new['NEIGHBORHOOD_CLUSTER'].fillna(df_new['NEIGHBORHOOD_CLUSTER'].mode()[0], inplace=True)"
   ]
  },
  {
   "cell_type": "code",
   "execution_count": 45,
   "metadata": {},
   "outputs": [
    {
     "data": {
      "text/plain": [
       "X                         0\n",
       "Y                         0\n",
       "CCN                       0\n",
       "REPORT_DAT                0\n",
       "SHIFT                     0\n",
       "METHOD                    0\n",
       "OFFENSE                   0\n",
       "BLOCK                     0\n",
       "XBLOCK                    0\n",
       "YBLOCK                    0\n",
       "WARD                      0\n",
       "ANC                       0\n",
       "DISTRICT                  0\n",
       "PSA                       0\n",
       "NEIGHBORHOOD_CLUSTER      0\n",
       "BLOCK_GROUP               4\n",
       "CENSUS_TRACT              4\n",
       "VOTING_PRECINCT           1\n",
       "LATITUDE                  0\n",
       "LONGITUDE                 0\n",
       "START_DATE                0\n",
       "END_DATE                303\n",
       "OBJECTID                  0\n",
       "dtype: int64"
      ]
     },
     "execution_count": 45,
     "metadata": {},
     "output_type": "execute_result"
    }
   ],
   "source": [
    "df_new.isnull().sum()"
   ]
  },
  {
   "cell_type": "markdown",
   "metadata": {},
   "source": [
    "Missing value handling in BLOCK_GROUP and CENCUS_TRACT"
   ]
  },
  {
   "cell_type": "code",
   "execution_count": 46,
   "metadata": {},
   "outputs": [
    {
     "name": "stdout",
     "output_type": "stream",
     "text": [
      "     BLOCK_GROUP\n",
      "734          NaN\n",
      "2157         NaN\n",
      "2454         NaN\n",
      "3389         NaN\n"
     ]
    }
   ],
   "source": [
    "missing_block_group = df_new[df_new['BLOCK_GROUP'].isnull()].head(10)\n",
    "print(missing_block_group[['BLOCK_GROUP']])"
   ]
  },
  {
   "cell_type": "code",
   "execution_count": 47,
   "metadata": {},
   "outputs": [
    {
     "name": "stdout",
     "output_type": "stream",
     "text": [
      "      CENSUS_TRACT\n",
      "734            NaN\n",
      "2157           NaN\n",
      "2454           NaN\n",
      "3389           NaN\n"
     ]
    }
   ],
   "source": [
    "missing_cencus_tract = df_new[df_new['CENSUS_TRACT'].isnull()].head(10)\n",
    "print(missing_cencus_tract[['CENSUS_TRACT']])"
   ]
  },
  {
   "cell_type": "code",
   "execution_count": 48,
   "metadata": {},
   "outputs": [
    {
     "name": "stderr",
     "output_type": "stream",
     "text": [
      "C:\\Users\\LOQ\\AppData\\Local\\Temp\\ipykernel_6204\\1425372933.py:1: FutureWarning: Downcasting object dtype arrays on .fillna, .ffill, .bfill is deprecated and will change in a future version. Call result.infer_objects(copy=False) instead. To opt-in to the future behavior, set `pd.set_option('future.no_silent_downcasting', True)`\n",
      "  df_new['BLOCK_GROUP'] = df_new.groupby(['WARD', 'ANC', 'DISTRICT', 'PSA'])['BLOCK_GROUP'].transform(lambda x: x.fillna(x.mode()[0] if not x.mode().empty else x))\n"
     ]
    }
   ],
   "source": [
    "df_new['BLOCK_GROUP'] = df_new.groupby(['WARD', 'ANC', 'DISTRICT', 'PSA'])['BLOCK_GROUP'].transform(lambda x: x.fillna(x.mode()[0] if not x.mode().empty else x))\n",
    "df_new['CENSUS_TRACT'] = df_new.groupby(['WARD', 'ANC', 'DISTRICT', 'PSA'])['CENSUS_TRACT'].transform(lambda x: x.fillna(x.mode()[0] if not x.mode().empty else x))"
   ]
  },
  {
   "cell_type": "code",
   "execution_count": 49,
   "metadata": {},
   "outputs": [
    {
     "data": {
      "text/plain": [
       "X                         0\n",
       "Y                         0\n",
       "CCN                       0\n",
       "REPORT_DAT                0\n",
       "SHIFT                     0\n",
       "METHOD                    0\n",
       "OFFENSE                   0\n",
       "BLOCK                     0\n",
       "XBLOCK                    0\n",
       "YBLOCK                    0\n",
       "WARD                      0\n",
       "ANC                       0\n",
       "DISTRICT                  0\n",
       "PSA                       0\n",
       "NEIGHBORHOOD_CLUSTER      0\n",
       "BLOCK_GROUP               1\n",
       "CENSUS_TRACT              1\n",
       "VOTING_PRECINCT           1\n",
       "LATITUDE                  0\n",
       "LONGITUDE                 0\n",
       "START_DATE                0\n",
       "END_DATE                303\n",
       "OBJECTID                  0\n",
       "dtype: int64"
      ]
     },
     "execution_count": 49,
     "metadata": {},
     "output_type": "execute_result"
    }
   ],
   "source": [
    "df_new.isnull().sum()"
   ]
  },
  {
   "cell_type": "code",
   "execution_count": 50,
   "metadata": {},
   "outputs": [
    {
     "name": "stdout",
     "output_type": "stream",
     "text": [
      "     BLOCK_GROUP\n",
      "2157         NaN\n"
     ]
    }
   ],
   "source": [
    "missing_block_group = df_new[df_new['BLOCK_GROUP'].isnull()].head(10)\n",
    "print(missing_block_group[['BLOCK_GROUP']])"
   ]
  },
  {
   "cell_type": "code",
   "execution_count": 51,
   "metadata": {},
   "outputs": [
    {
     "name": "stdout",
     "output_type": "stream",
     "text": [
      "      CENSUS_TRACT\n",
      "2157           NaN\n"
     ]
    }
   ],
   "source": [
    "missing_cencus_tract = df_new[df_new['CENSUS_TRACT'].isnull()].head(10)\n",
    "print(missing_cencus_tract[['CENSUS_TRACT']])"
   ]
  },
  {
   "cell_type": "code",
   "execution_count": 52,
   "metadata": {},
   "outputs": [
    {
     "name": "stderr",
     "output_type": "stream",
     "text": [
      "C:\\Users\\LOQ\\AppData\\Local\\Temp\\ipykernel_6204\\3786789559.py:1: FutureWarning: A value is trying to be set on a copy of a DataFrame or Series through chained assignment using an inplace method.\n",
      "The behavior will change in pandas 3.0. This inplace method will never work because the intermediate object on which we are setting values always behaves as a copy.\n",
      "\n",
      "For example, when doing 'df[col].method(value, inplace=True)', try using 'df.method({col: value}, inplace=True)' or df[col] = df[col].method(value) instead, to perform the operation inplace on the original object.\n",
      "\n",
      "\n",
      "  df_new['BLOCK_GROUP'].fillna(df_new.groupby('NEIGHBORHOOD_CLUSTER')['BLOCK_GROUP'].transform(lambda x: x.mode().iloc[0] if not x.mode().empty else x), inplace=True)\n",
      "C:\\Users\\LOQ\\AppData\\Local\\Temp\\ipykernel_6204\\3786789559.py:2: FutureWarning: A value is trying to be set on a copy of a DataFrame or Series through chained assignment using an inplace method.\n",
      "The behavior will change in pandas 3.0. This inplace method will never work because the intermediate object on which we are setting values always behaves as a copy.\n",
      "\n",
      "For example, when doing 'df[col].method(value, inplace=True)', try using 'df.method({col: value}, inplace=True)' or df[col] = df[col].method(value) instead, to perform the operation inplace on the original object.\n",
      "\n",
      "\n",
      "  df_new['CENSUS_TRACT'].fillna(df_new.groupby('NEIGHBORHOOD_CLUSTER')['CENSUS_TRACT'].transform(lambda x: x.mode().iloc[0] if not x.mode().empty else x), inplace=True)\n"
     ]
    }
   ],
   "source": [
    "df_new['BLOCK_GROUP'].fillna(df_new.groupby('NEIGHBORHOOD_CLUSTER')['BLOCK_GROUP'].transform(lambda x: x.mode().iloc[0] if not x.mode().empty else x), inplace=True)\n",
    "df_new['CENSUS_TRACT'].fillna(df_new.groupby('NEIGHBORHOOD_CLUSTER')['CENSUS_TRACT'].transform(lambda x: x.mode().iloc[0] if not x.mode().empty else x), inplace=True)"
   ]
  },
  {
   "cell_type": "code",
   "execution_count": 53,
   "metadata": {},
   "outputs": [
    {
     "data": {
      "text/plain": [
       "X                         0\n",
       "Y                         0\n",
       "CCN                       0\n",
       "REPORT_DAT                0\n",
       "SHIFT                     0\n",
       "METHOD                    0\n",
       "OFFENSE                   0\n",
       "BLOCK                     0\n",
       "XBLOCK                    0\n",
       "YBLOCK                    0\n",
       "WARD                      0\n",
       "ANC                       0\n",
       "DISTRICT                  0\n",
       "PSA                       0\n",
       "NEIGHBORHOOD_CLUSTER      0\n",
       "BLOCK_GROUP               0\n",
       "CENSUS_TRACT              0\n",
       "VOTING_PRECINCT           1\n",
       "LATITUDE                  0\n",
       "LONGITUDE                 0\n",
       "START_DATE                0\n",
       "END_DATE                303\n",
       "OBJECTID                  0\n",
       "dtype: int64"
      ]
     },
     "execution_count": 53,
     "metadata": {},
     "output_type": "execute_result"
    }
   ],
   "source": [
    "df_new.isnull().sum()"
   ]
  },
  {
   "cell_type": "markdown",
   "metadata": {},
   "source": [
    "Missing value handling in VOTING_PRECINCT"
   ]
  },
  {
   "cell_type": "code",
   "execution_count": 54,
   "metadata": {},
   "outputs": [
    {
     "name": "stdout",
     "output_type": "stream",
     "text": [
      "     VOTING_PRECINCT\n",
      "2157             NaN\n"
     ]
    }
   ],
   "source": [
    "missing_voting_precinct = df_new[df_new['VOTING_PRECINCT'].isnull()].head(10)\n",
    "print(missing_voting_precinct[['VOTING_PRECINCT']])"
   ]
  },
  {
   "cell_type": "code",
   "execution_count": 55,
   "metadata": {},
   "outputs": [
    {
     "name": "stderr",
     "output_type": "stream",
     "text": [
      "C:\\Users\\LOQ\\AppData\\Local\\Temp\\ipykernel_6204\\2591348092.py:2: FutureWarning: A value is trying to be set on a copy of a DataFrame or Series through chained assignment using an inplace method.\n",
      "The behavior will change in pandas 3.0. This inplace method will never work because the intermediate object on which we are setting values always behaves as a copy.\n",
      "\n",
      "For example, when doing 'df[col].method(value, inplace=True)', try using 'df.method({col: value}, inplace=True)' or df[col] = df[col].method(value) instead, to perform the operation inplace on the original object.\n",
      "\n",
      "\n",
      "  df_new['VOTING_PRECINCT'].fillna(voting_percint_mode, inplace=True)\n"
     ]
    }
   ],
   "source": [
    "voting_percint_mode = df_new['VOTING_PRECINCT'].mode()[0]\n",
    "df_new['VOTING_PRECINCT'].fillna(voting_percint_mode, inplace=True)"
   ]
  },
  {
   "cell_type": "code",
   "execution_count": 56,
   "metadata": {},
   "outputs": [
    {
     "data": {
      "text/plain": [
       "X                         0\n",
       "Y                         0\n",
       "CCN                       0\n",
       "REPORT_DAT                0\n",
       "SHIFT                     0\n",
       "METHOD                    0\n",
       "OFFENSE                   0\n",
       "BLOCK                     0\n",
       "XBLOCK                    0\n",
       "YBLOCK                    0\n",
       "WARD                      0\n",
       "ANC                       0\n",
       "DISTRICT                  0\n",
       "PSA                       0\n",
       "NEIGHBORHOOD_CLUSTER      0\n",
       "BLOCK_GROUP               0\n",
       "CENSUS_TRACT              0\n",
       "VOTING_PRECINCT           0\n",
       "LATITUDE                  0\n",
       "LONGITUDE                 0\n",
       "START_DATE                0\n",
       "END_DATE                303\n",
       "OBJECTID                  0\n",
       "dtype: int64"
      ]
     },
     "execution_count": 56,
     "metadata": {},
     "output_type": "execute_result"
    }
   ],
   "source": [
    "df_new.isnull().sum()"
   ]
  },
  {
   "cell_type": "markdown",
   "metadata": {},
   "source": [
    "Fill with temp value"
   ]
  },
  {
   "cell_type": "code",
   "execution_count": 57,
   "metadata": {},
   "outputs": [],
   "source": [
    "df_new['END_DATE'] = df_new['END_DATE'].fillna(\"1900/01/01 00:00:00+00\")"
   ]
  },
  {
   "cell_type": "code",
   "execution_count": 58,
   "metadata": {},
   "outputs": [
    {
     "data": {
      "text/plain": [
       "X                       0\n",
       "Y                       0\n",
       "CCN                     0\n",
       "REPORT_DAT              0\n",
       "SHIFT                   0\n",
       "METHOD                  0\n",
       "OFFENSE                 0\n",
       "BLOCK                   0\n",
       "XBLOCK                  0\n",
       "YBLOCK                  0\n",
       "WARD                    0\n",
       "ANC                     0\n",
       "DISTRICT                0\n",
       "PSA                     0\n",
       "NEIGHBORHOOD_CLUSTER    0\n",
       "BLOCK_GROUP             0\n",
       "CENSUS_TRACT            0\n",
       "VOTING_PRECINCT         0\n",
       "LATITUDE                0\n",
       "LONGITUDE               0\n",
       "START_DATE              0\n",
       "END_DATE                0\n",
       "OBJECTID                0\n",
       "dtype: int64"
      ]
     },
     "execution_count": 58,
     "metadata": {},
     "output_type": "execute_result"
    }
   ],
   "source": [
    "df_new.isnull().sum()"
   ]
  },
  {
   "cell_type": "markdown",
   "metadata": {},
   "source": [
    "Saving data cleaning part 2 result"
   ]
  },
  {
   "cell_type": "code",
   "execution_count": 59,
   "metadata": {},
   "outputs": [],
   "source": [
    "df_new.to_csv('data_crime_cleaned_2.csv', index=False)"
   ]
  },
  {
   "cell_type": "markdown",
   "metadata": {},
   "source": [
    "<h3><b>DATA CLEANING: PART 3</b></h3> "
   ]
  },
  {
   "cell_type": "markdown",
   "metadata": {},
   "source": [
    "Changing data types"
   ]
  },
  {
   "cell_type": "code",
   "execution_count": 60,
   "metadata": {},
   "outputs": [
    {
     "data": {
      "application/vnd.microsoft.datawrangler.viewer.v0+json": {
       "columns": [
        {
         "name": "index",
         "rawType": "int64",
         "type": "integer"
        },
        {
         "name": "X",
         "rawType": "float64",
         "type": "float"
        },
        {
         "name": "Y",
         "rawType": "float64",
         "type": "float"
        },
        {
         "name": "CCN",
         "rawType": "int64",
         "type": "integer"
        },
        {
         "name": "REPORT_DAT",
         "rawType": "object",
         "type": "string"
        },
        {
         "name": "SHIFT",
         "rawType": "object",
         "type": "string"
        },
        {
         "name": "METHOD",
         "rawType": "object",
         "type": "string"
        },
        {
         "name": "OFFENSE",
         "rawType": "object",
         "type": "string"
        },
        {
         "name": "BLOCK",
         "rawType": "object",
         "type": "string"
        },
        {
         "name": "XBLOCK",
         "rawType": "float64",
         "type": "float"
        },
        {
         "name": "YBLOCK",
         "rawType": "float64",
         "type": "float"
        },
        {
         "name": "WARD",
         "rawType": "float64",
         "type": "float"
        },
        {
         "name": "ANC",
         "rawType": "object",
         "type": "string"
        },
        {
         "name": "DISTRICT",
         "rawType": "float64",
         "type": "float"
        },
        {
         "name": "PSA",
         "rawType": "float64",
         "type": "float"
        },
        {
         "name": "NEIGHBORHOOD_CLUSTER",
         "rawType": "object",
         "type": "string"
        },
        {
         "name": "BLOCK_GROUP",
         "rawType": "object",
         "type": "string"
        },
        {
         "name": "CENSUS_TRACT",
         "rawType": "float64",
         "type": "float"
        },
        {
         "name": "VOTING_PRECINCT",
         "rawType": "object",
         "type": "string"
        },
        {
         "name": "LATITUDE",
         "rawType": "float64",
         "type": "float"
        },
        {
         "name": "LONGITUDE",
         "rawType": "float64",
         "type": "float"
        },
        {
         "name": "START_DATE",
         "rawType": "object",
         "type": "string"
        },
        {
         "name": "END_DATE",
         "rawType": "object",
         "type": "string"
        },
        {
         "name": "OBJECTID",
         "rawType": "int64",
         "type": "integer"
        }
       ],
       "conversionMethod": "pd.DataFrame",
       "ref": "d9235402-9146-47f2-96ae-e91c4f360bb8",
       "rows": [
        [
         "0",
         "400046.409999996",
         "137753.649999999",
         "25017503",
         "2025/02/05 19:50:58+00",
         "DAY",
         "OTHERS",
         "MOTOR VEHICLE THEFT",
         "400 - 499 BLOCK OF MORSE STREET NE",
         "400046.41",
         "137753.65",
         "5.0",
         "5D",
         "5.0",
         "501.0",
         "Cluster 23",
         "008803 2",
         "8803.0",
         "Precinct 76",
         "38.907642221",
         "-76.9994649192",
         "2025/02/05 19:22:00+00",
         "2025/02/05 19:25:00+00",
         "685784661"
        ],
        [
         "1",
         "397868.68",
         "141140.379999999",
         "25013087",
         "2025/01/28 12:08:29+00",
         "DAY",
         "OTHERS",
         "THEFT/OTHER",
         "3800 - 3899 BLOCK OF GEORGIA AVENUE NW",
         "397868.68",
         "141140.38",
         "4.0",
         "4C",
         "4.0",
         "404.0",
         "Cluster 18",
         "002503 2",
         "2503.0",
         "Precinct 47",
         "38.938148387",
         "-77.024583415",
         "2025/01/28 11:06:00+00",
         "2025/01/28 11:07:00+00",
         "685784675"
        ],
        [
         "2",
         "399489.479999997",
         "137372.649999999",
         "25012701",
         "2025/01/27 17:28:06+00",
         "DAY",
         "OTHERS",
         "ROBBERY",
         "1100 - 1150 BLOCK OF 1ST STREET NE",
         "399489.48",
         "137372.65",
         "6.0",
         "6E",
         "5.0",
         "501.0",
         "Cluster 25",
         "010603 3",
         "10603.0",
         "Precinct 144",
         "38.9042098931",
         "-77.0058857204",
         "2025/01/27 15:00:00+00",
         "2025/01/27 15:20:00+00",
         "685784796"
        ],
        [
         "3",
         "401498.969999999",
         "138734.57",
         "25008887",
         "2025/01/19 19:59:51+00",
         "DAY",
         "OTHERS",
         "THEFT/OTHER",
         "1500 - 1599 BLOCK OF NEW YORK AVENUE NE",
         "401498.97",
         "138734.57",
         "5.0",
         "5D",
         "5.0",
         "506.0",
         "Cluster 23",
         "008803 1",
         "8803.0",
         "Precinct 76",
         "38.9164774036",
         "-76.9827155922",
         "2025/01/19 19:22:00+00",
         "2025/01/19 19:32:00+00",
         "685784829"
        ]
       ],
       "shape": {
        "columns": 23,
        "rows": 4
       }
      },
      "text/html": [
       "<div>\n",
       "<style scoped>\n",
       "    .dataframe tbody tr th:only-of-type {\n",
       "        vertical-align: middle;\n",
       "    }\n",
       "\n",
       "    .dataframe tbody tr th {\n",
       "        vertical-align: top;\n",
       "    }\n",
       "\n",
       "    .dataframe thead th {\n",
       "        text-align: right;\n",
       "    }\n",
       "</style>\n",
       "<table border=\"1\" class=\"dataframe\">\n",
       "  <thead>\n",
       "    <tr style=\"text-align: right;\">\n",
       "      <th></th>\n",
       "      <th>X</th>\n",
       "      <th>Y</th>\n",
       "      <th>CCN</th>\n",
       "      <th>REPORT_DAT</th>\n",
       "      <th>SHIFT</th>\n",
       "      <th>METHOD</th>\n",
       "      <th>OFFENSE</th>\n",
       "      <th>BLOCK</th>\n",
       "      <th>XBLOCK</th>\n",
       "      <th>YBLOCK</th>\n",
       "      <th>...</th>\n",
       "      <th>PSA</th>\n",
       "      <th>NEIGHBORHOOD_CLUSTER</th>\n",
       "      <th>BLOCK_GROUP</th>\n",
       "      <th>CENSUS_TRACT</th>\n",
       "      <th>VOTING_PRECINCT</th>\n",
       "      <th>LATITUDE</th>\n",
       "      <th>LONGITUDE</th>\n",
       "      <th>START_DATE</th>\n",
       "      <th>END_DATE</th>\n",
       "      <th>OBJECTID</th>\n",
       "    </tr>\n",
       "  </thead>\n",
       "  <tbody>\n",
       "    <tr>\n",
       "      <th>0</th>\n",
       "      <td>400046.41</td>\n",
       "      <td>137753.65</td>\n",
       "      <td>25017503</td>\n",
       "      <td>2025/02/05 19:50:58+00</td>\n",
       "      <td>DAY</td>\n",
       "      <td>OTHERS</td>\n",
       "      <td>MOTOR VEHICLE THEFT</td>\n",
       "      <td>400 - 499 BLOCK OF MORSE STREET NE</td>\n",
       "      <td>400046.41</td>\n",
       "      <td>137753.65</td>\n",
       "      <td>...</td>\n",
       "      <td>501.0</td>\n",
       "      <td>Cluster 23</td>\n",
       "      <td>008803 2</td>\n",
       "      <td>8803.0</td>\n",
       "      <td>Precinct 76</td>\n",
       "      <td>38.907642</td>\n",
       "      <td>-76.999465</td>\n",
       "      <td>2025/02/05 19:22:00+00</td>\n",
       "      <td>2025/02/05 19:25:00+00</td>\n",
       "      <td>685784661</td>\n",
       "    </tr>\n",
       "    <tr>\n",
       "      <th>1</th>\n",
       "      <td>397868.68</td>\n",
       "      <td>141140.38</td>\n",
       "      <td>25013087</td>\n",
       "      <td>2025/01/28 12:08:29+00</td>\n",
       "      <td>DAY</td>\n",
       "      <td>OTHERS</td>\n",
       "      <td>THEFT/OTHER</td>\n",
       "      <td>3800 - 3899 BLOCK OF GEORGIA AVENUE NW</td>\n",
       "      <td>397868.68</td>\n",
       "      <td>141140.38</td>\n",
       "      <td>...</td>\n",
       "      <td>404.0</td>\n",
       "      <td>Cluster 18</td>\n",
       "      <td>002503 2</td>\n",
       "      <td>2503.0</td>\n",
       "      <td>Precinct 47</td>\n",
       "      <td>38.938148</td>\n",
       "      <td>-77.024583</td>\n",
       "      <td>2025/01/28 11:06:00+00</td>\n",
       "      <td>2025/01/28 11:07:00+00</td>\n",
       "      <td>685784675</td>\n",
       "    </tr>\n",
       "    <tr>\n",
       "      <th>2</th>\n",
       "      <td>399489.48</td>\n",
       "      <td>137372.65</td>\n",
       "      <td>25012701</td>\n",
       "      <td>2025/01/27 17:28:06+00</td>\n",
       "      <td>DAY</td>\n",
       "      <td>OTHERS</td>\n",
       "      <td>ROBBERY</td>\n",
       "      <td>1100 - 1150 BLOCK OF 1ST STREET NE</td>\n",
       "      <td>399489.48</td>\n",
       "      <td>137372.65</td>\n",
       "      <td>...</td>\n",
       "      <td>501.0</td>\n",
       "      <td>Cluster 25</td>\n",
       "      <td>010603 3</td>\n",
       "      <td>10603.0</td>\n",
       "      <td>Precinct 144</td>\n",
       "      <td>38.904210</td>\n",
       "      <td>-77.005886</td>\n",
       "      <td>2025/01/27 15:00:00+00</td>\n",
       "      <td>2025/01/27 15:20:00+00</td>\n",
       "      <td>685784796</td>\n",
       "    </tr>\n",
       "    <tr>\n",
       "      <th>3</th>\n",
       "      <td>401498.97</td>\n",
       "      <td>138734.57</td>\n",
       "      <td>25008887</td>\n",
       "      <td>2025/01/19 19:59:51+00</td>\n",
       "      <td>DAY</td>\n",
       "      <td>OTHERS</td>\n",
       "      <td>THEFT/OTHER</td>\n",
       "      <td>1500 - 1599 BLOCK OF NEW YORK AVENUE NE</td>\n",
       "      <td>401498.97</td>\n",
       "      <td>138734.57</td>\n",
       "      <td>...</td>\n",
       "      <td>506.0</td>\n",
       "      <td>Cluster 23</td>\n",
       "      <td>008803 1</td>\n",
       "      <td>8803.0</td>\n",
       "      <td>Precinct 76</td>\n",
       "      <td>38.916477</td>\n",
       "      <td>-76.982716</td>\n",
       "      <td>2025/01/19 19:22:00+00</td>\n",
       "      <td>2025/01/19 19:32:00+00</td>\n",
       "      <td>685784829</td>\n",
       "    </tr>\n",
       "  </tbody>\n",
       "</table>\n",
       "<p>4 rows × 23 columns</p>\n",
       "</div>"
      ],
      "text/plain": [
       "           X          Y       CCN              REPORT_DAT SHIFT  METHOD  \\\n",
       "0  400046.41  137753.65  25017503  2025/02/05 19:50:58+00   DAY  OTHERS   \n",
       "1  397868.68  141140.38  25013087  2025/01/28 12:08:29+00   DAY  OTHERS   \n",
       "2  399489.48  137372.65  25012701  2025/01/27 17:28:06+00   DAY  OTHERS   \n",
       "3  401498.97  138734.57  25008887  2025/01/19 19:59:51+00   DAY  OTHERS   \n",
       "\n",
       "               OFFENSE                                    BLOCK     XBLOCK  \\\n",
       "0  MOTOR VEHICLE THEFT       400 - 499 BLOCK OF MORSE STREET NE  400046.41   \n",
       "1          THEFT/OTHER   3800 - 3899 BLOCK OF GEORGIA AVENUE NW  397868.68   \n",
       "2              ROBBERY       1100 - 1150 BLOCK OF 1ST STREET NE  399489.48   \n",
       "3          THEFT/OTHER  1500 - 1599 BLOCK OF NEW YORK AVENUE NE  401498.97   \n",
       "\n",
       "      YBLOCK  ...    PSA NEIGHBORHOOD_CLUSTER  BLOCK_GROUP  CENSUS_TRACT  \\\n",
       "0  137753.65  ...  501.0           Cluster 23     008803 2        8803.0   \n",
       "1  141140.38  ...  404.0           Cluster 18     002503 2        2503.0   \n",
       "2  137372.65  ...  501.0           Cluster 25     010603 3       10603.0   \n",
       "3  138734.57  ...  506.0           Cluster 23     008803 1        8803.0   \n",
       "\n",
       "  VOTING_PRECINCT   LATITUDE  LONGITUDE              START_DATE  \\\n",
       "0     Precinct 76  38.907642 -76.999465  2025/02/05 19:22:00+00   \n",
       "1     Precinct 47  38.938148 -77.024583  2025/01/28 11:06:00+00   \n",
       "2    Precinct 144  38.904210 -77.005886  2025/01/27 15:00:00+00   \n",
       "3     Precinct 76  38.916477 -76.982716  2025/01/19 19:22:00+00   \n",
       "\n",
       "                 END_DATE   OBJECTID  \n",
       "0  2025/02/05 19:25:00+00  685784661  \n",
       "1  2025/01/28 11:07:00+00  685784675  \n",
       "2  2025/01/27 15:20:00+00  685784796  \n",
       "3  2025/01/19 19:32:00+00  685784829  \n",
       "\n",
       "[4 rows x 23 columns]"
      ]
     },
     "execution_count": 60,
     "metadata": {},
     "output_type": "execute_result"
    }
   ],
   "source": [
    "import pandas as pd\n",
    "import matplotlib.pyplot as plt \n",
    "import numpy as np\n",
    "import seaborn as sns\n",
    "\n",
    "df_new_2 = pd.read_csv('data_crime_cleaned_2.csv')\n",
    "df_new_2.head(4)"
   ]
  },
  {
   "cell_type": "code",
   "execution_count": 61,
   "metadata": {},
   "outputs": [
    {
     "data": {
      "text/plain": [
       "X                       0\n",
       "Y                       0\n",
       "CCN                     0\n",
       "REPORT_DAT              0\n",
       "SHIFT                   0\n",
       "METHOD                  0\n",
       "OFFENSE                 0\n",
       "BLOCK                   0\n",
       "XBLOCK                  0\n",
       "YBLOCK                  0\n",
       "WARD                    0\n",
       "ANC                     0\n",
       "DISTRICT                0\n",
       "PSA                     0\n",
       "NEIGHBORHOOD_CLUSTER    0\n",
       "BLOCK_GROUP             0\n",
       "CENSUS_TRACT            0\n",
       "VOTING_PRECINCT         0\n",
       "LATITUDE                0\n",
       "LONGITUDE               0\n",
       "START_DATE              0\n",
       "END_DATE                0\n",
       "OBJECTID                0\n",
       "dtype: int64"
      ]
     },
     "execution_count": 61,
     "metadata": {},
     "output_type": "execute_result"
    }
   ],
   "source": [
    "df_new_2.isnull().sum()"
   ]
  },
  {
   "cell_type": "code",
   "execution_count": 62,
   "metadata": {},
   "outputs": [
    {
     "name": "stdout",
     "output_type": "stream",
     "text": [
      "<class 'pandas.core.frame.DataFrame'>\n",
      "RangeIndex: 4164 entries, 0 to 4163\n",
      "Data columns (total 23 columns):\n",
      " #   Column                Non-Null Count  Dtype  \n",
      "---  ------                --------------  -----  \n",
      " 0   X                     4164 non-null   float64\n",
      " 1   Y                     4164 non-null   float64\n",
      " 2   CCN                   4164 non-null   int64  \n",
      " 3   REPORT_DAT            4164 non-null   object \n",
      " 4   SHIFT                 4164 non-null   object \n",
      " 5   METHOD                4164 non-null   object \n",
      " 6   OFFENSE               4164 non-null   object \n",
      " 7   BLOCK                 4164 non-null   object \n",
      " 8   XBLOCK                4164 non-null   float64\n",
      " 9   YBLOCK                4164 non-null   float64\n",
      " 10  WARD                  4164 non-null   float64\n",
      " 11  ANC                   4164 non-null   object \n",
      " 12  DISTRICT              4164 non-null   float64\n",
      " 13  PSA                   4164 non-null   float64\n",
      " 14  NEIGHBORHOOD_CLUSTER  4164 non-null   object \n",
      " 15  BLOCK_GROUP           4164 non-null   object \n",
      " 16  CENSUS_TRACT          4164 non-null   float64\n",
      " 17  VOTING_PRECINCT       4164 non-null   object \n",
      " 18  LATITUDE              4164 non-null   float64\n",
      " 19  LONGITUDE             4164 non-null   float64\n",
      " 20  START_DATE            4164 non-null   object \n",
      " 21  END_DATE              4164 non-null   object \n",
      " 22  OBJECTID              4164 non-null   int64  \n",
      "dtypes: float64(10), int64(2), object(11)\n",
      "memory usage: 748.3+ KB\n"
     ]
    }
   ],
   "source": [
    "df_new_2.info()"
   ]
  },
  {
   "cell_type": "markdown",
   "metadata": {},
   "source": [
    "Date time columns: 'REPORT_DAT', 'START_DATE', 'END_DATE'"
   ]
  },
  {
   "cell_type": "code",
   "execution_count": 63,
   "metadata": {},
   "outputs": [],
   "source": [
    "date_cols = ['REPORT_DAT', 'START_DATE', 'END_DATE']\n",
    "for col in date_cols:\n",
    "    df_new_2[col] = pd.to_datetime(df_new_2[col], errors='coerce')"
   ]
  },
  {
   "cell_type": "code",
   "execution_count": 64,
   "metadata": {},
   "outputs": [
    {
     "name": "stdout",
     "output_type": "stream",
     "text": [
      "<class 'pandas.core.frame.DataFrame'>\n",
      "RangeIndex: 4164 entries, 0 to 4163\n",
      "Data columns (total 23 columns):\n",
      " #   Column                Non-Null Count  Dtype              \n",
      "---  ------                --------------  -----              \n",
      " 0   X                     4164 non-null   float64            \n",
      " 1   Y                     4164 non-null   float64            \n",
      " 2   CCN                   4164 non-null   int64              \n",
      " 3   REPORT_DAT            4164 non-null   datetime64[ns, UTC]\n",
      " 4   SHIFT                 4164 non-null   object             \n",
      " 5   METHOD                4164 non-null   object             \n",
      " 6   OFFENSE               4164 non-null   object             \n",
      " 7   BLOCK                 4164 non-null   object             \n",
      " 8   XBLOCK                4164 non-null   float64            \n",
      " 9   YBLOCK                4164 non-null   float64            \n",
      " 10  WARD                  4164 non-null   float64            \n",
      " 11  ANC                   4164 non-null   object             \n",
      " 12  DISTRICT              4164 non-null   float64            \n",
      " 13  PSA                   4164 non-null   float64            \n",
      " 14  NEIGHBORHOOD_CLUSTER  4164 non-null   object             \n",
      " 15  BLOCK_GROUP           4164 non-null   object             \n",
      " 16  CENSUS_TRACT          4164 non-null   float64            \n",
      " 17  VOTING_PRECINCT       4164 non-null   object             \n",
      " 18  LATITUDE              4164 non-null   float64            \n",
      " 19  LONGITUDE             4164 non-null   float64            \n",
      " 20  START_DATE            4164 non-null   datetime64[ns, UTC]\n",
      " 21  END_DATE              4164 non-null   datetime64[ns, UTC]\n",
      " 22  OBJECTID              4164 non-null   int64              \n",
      "dtypes: datetime64[ns, UTC](3), float64(10), int64(2), object(8)\n",
      "memory usage: 748.3+ KB\n"
     ]
    }
   ],
   "source": [
    "df_new_2.info()"
   ]
  },
  {
   "cell_type": "markdown",
   "metadata": {},
   "source": [
    "Categorical columns: 'SHIFT', 'METHOD', 'OFFENSE', 'ANC'"
   ]
  },
  {
   "cell_type": "code",
   "execution_count": 65,
   "metadata": {},
   "outputs": [],
   "source": [
    "df_new_2.drop(columns=['VOTING_PRECINCT'], inplace=True)"
   ]
  },
  {
   "cell_type": "code",
   "execution_count": 66,
   "metadata": {},
   "outputs": [],
   "source": [
    "categorical_cols = ['SHIFT', 'METHOD', 'OFFENSE', 'ANC']\n",
    "for col in categorical_cols:\n",
    "    df_new_2[col] = df_new_2[col].astype('category')"
   ]
  },
  {
   "cell_type": "code",
   "execution_count": 67,
   "metadata": {},
   "outputs": [
    {
     "name": "stdout",
     "output_type": "stream",
     "text": [
      "<class 'pandas.core.frame.DataFrame'>\n",
      "RangeIndex: 4164 entries, 0 to 4163\n",
      "Data columns (total 22 columns):\n",
      " #   Column                Non-Null Count  Dtype              \n",
      "---  ------                --------------  -----              \n",
      " 0   X                     4164 non-null   float64            \n",
      " 1   Y                     4164 non-null   float64            \n",
      " 2   CCN                   4164 non-null   int64              \n",
      " 3   REPORT_DAT            4164 non-null   datetime64[ns, UTC]\n",
      " 4   SHIFT                 4164 non-null   category           \n",
      " 5   METHOD                4164 non-null   category           \n",
      " 6   OFFENSE               4164 non-null   category           \n",
      " 7   BLOCK                 4164 non-null   object             \n",
      " 8   XBLOCK                4164 non-null   float64            \n",
      " 9   YBLOCK                4164 non-null   float64            \n",
      " 10  WARD                  4164 non-null   float64            \n",
      " 11  ANC                   4164 non-null   category           \n",
      " 12  DISTRICT              4164 non-null   float64            \n",
      " 13  PSA                   4164 non-null   float64            \n",
      " 14  NEIGHBORHOOD_CLUSTER  4164 non-null   object             \n",
      " 15  BLOCK_GROUP           4164 non-null   object             \n",
      " 16  CENSUS_TRACT          4164 non-null   float64            \n",
      " 17  LATITUDE              4164 non-null   float64            \n",
      " 18  LONGITUDE             4164 non-null   float64            \n",
      " 19  START_DATE            4164 non-null   datetime64[ns, UTC]\n",
      " 20  END_DATE              4164 non-null   datetime64[ns, UTC]\n",
      " 21  OBJECTID              4164 non-null   int64              \n",
      "dtypes: category(4), datetime64[ns, UTC](3), float64(10), int64(2), object(3)\n",
      "memory usage: 604.0+ KB\n"
     ]
    }
   ],
   "source": [
    "df_new_2.info()"
   ]
  },
  {
   "cell_type": "markdown",
   "metadata": {},
   "source": [
    "Integer64 columns: 'CCN', 'WARD', 'DISTRICT', 'PSA', 'NEIGHBORHOOD_CLUSTER', 'BLOCK_GROUP', 'CENSUS_TRACT', 'OBJECTID'"
   ]
  },
  {
   "cell_type": "code",
   "execution_count": 68,
   "metadata": {},
   "outputs": [],
   "source": [
    "df_new_2[['BLOCK_CODE', 'BLOCK_GROUP']] = df_new_2['BLOCK_GROUP'].str.split(' ', expand=True)"
   ]
  },
  {
   "cell_type": "code",
   "execution_count": 69,
   "metadata": {},
   "outputs": [],
   "source": [
    "integer_columns = ['CCN', 'WARD', 'DISTRICT', 'PSA', 'BLOCK_GROUP', 'CENSUS_TRACT', 'OBJECTID']\n",
    "for col in integer_columns:\n",
    "    df_new_2[col] = df_new_2[col].astype('int')"
   ]
  },
  {
   "cell_type": "code",
   "execution_count": 70,
   "metadata": {},
   "outputs": [],
   "source": [
    "df_new_2['NEIGHBORHOOD_CLUSTER'] = df_new_2['NEIGHBORHOOD_CLUSTER'].str.extract('(\\d+)').astype('Int64')"
   ]
  },
  {
   "cell_type": "code",
   "execution_count": 71,
   "metadata": {},
   "outputs": [
    {
     "name": "stdout",
     "output_type": "stream",
     "text": [
      "<class 'pandas.core.frame.DataFrame'>\n",
      "RangeIndex: 4164 entries, 0 to 4163\n",
      "Data columns (total 23 columns):\n",
      " #   Column                Non-Null Count  Dtype              \n",
      "---  ------                --------------  -----              \n",
      " 0   X                     4164 non-null   float64            \n",
      " 1   Y                     4164 non-null   float64            \n",
      " 2   CCN                   4164 non-null   int64              \n",
      " 3   REPORT_DAT            4164 non-null   datetime64[ns, UTC]\n",
      " 4   SHIFT                 4164 non-null   category           \n",
      " 5   METHOD                4164 non-null   category           \n",
      " 6   OFFENSE               4164 non-null   category           \n",
      " 7   BLOCK                 4164 non-null   object             \n",
      " 8   XBLOCK                4164 non-null   float64            \n",
      " 9   YBLOCK                4164 non-null   float64            \n",
      " 10  WARD                  4164 non-null   int64              \n",
      " 11  ANC                   4164 non-null   category           \n",
      " 12  DISTRICT              4164 non-null   int64              \n",
      " 13  PSA                   4164 non-null   int64              \n",
      " 14  NEIGHBORHOOD_CLUSTER  4164 non-null   Int64              \n",
      " 15  BLOCK_GROUP           4164 non-null   int64              \n",
      " 16  CENSUS_TRACT          4164 non-null   int64              \n",
      " 17  LATITUDE              4164 non-null   float64            \n",
      " 18  LONGITUDE             4164 non-null   float64            \n",
      " 19  START_DATE            4164 non-null   datetime64[ns, UTC]\n",
      " 20  END_DATE              4164 non-null   datetime64[ns, UTC]\n",
      " 21  OBJECTID              4164 non-null   int64              \n",
      " 22  BLOCK_CODE            4164 non-null   object             \n",
      "dtypes: Int64(1), category(4), datetime64[ns, UTC](3), float64(6), int64(7), object(2)\n",
      "memory usage: 640.6+ KB\n"
     ]
    }
   ],
   "source": [
    "df_new_2.info()"
   ]
  },
  {
   "cell_type": "code",
   "execution_count": 72,
   "metadata": {},
   "outputs": [
    {
     "data": {
      "text/plain": [
       "X                       0\n",
       "Y                       0\n",
       "CCN                     0\n",
       "REPORT_DAT              0\n",
       "SHIFT                   0\n",
       "METHOD                  0\n",
       "OFFENSE                 0\n",
       "BLOCK                   0\n",
       "XBLOCK                  0\n",
       "YBLOCK                  0\n",
       "WARD                    0\n",
       "ANC                     0\n",
       "DISTRICT                0\n",
       "PSA                     0\n",
       "NEIGHBORHOOD_CLUSTER    0\n",
       "BLOCK_GROUP             0\n",
       "CENSUS_TRACT            0\n",
       "LATITUDE                0\n",
       "LONGITUDE               0\n",
       "START_DATE              0\n",
       "END_DATE                0\n",
       "OBJECTID                0\n",
       "BLOCK_CODE              0\n",
       "dtype: int64"
      ]
     },
     "execution_count": 72,
     "metadata": {},
     "output_type": "execute_result"
    }
   ],
   "source": [
    "df_new_2.isnull().sum()"
   ]
  },
  {
   "cell_type": "code",
   "execution_count": 73,
   "metadata": {},
   "outputs": [],
   "source": [
    "df_new_2.drop(columns=['BLOCK_CODE'], inplace=True)"
   ]
  },
  {
   "cell_type": "code",
   "execution_count": 74,
   "metadata": {},
   "outputs": [
    {
     "data": {
      "text/plain": [
       "X                       0\n",
       "Y                       0\n",
       "CCN                     0\n",
       "REPORT_DAT              0\n",
       "SHIFT                   0\n",
       "METHOD                  0\n",
       "OFFENSE                 0\n",
       "BLOCK                   0\n",
       "XBLOCK                  0\n",
       "YBLOCK                  0\n",
       "WARD                    0\n",
       "ANC                     0\n",
       "DISTRICT                0\n",
       "PSA                     0\n",
       "NEIGHBORHOOD_CLUSTER    0\n",
       "BLOCK_GROUP             0\n",
       "CENSUS_TRACT            0\n",
       "LATITUDE                0\n",
       "LONGITUDE               0\n",
       "START_DATE              0\n",
       "END_DATE                0\n",
       "OBJECTID                0\n",
       "dtype: int64"
      ]
     },
     "execution_count": 74,
     "metadata": {},
     "output_type": "execute_result"
    }
   ],
   "source": [
    "df_new_2.isnull().sum()   "
   ]
  },
  {
   "cell_type": "code",
   "execution_count": 75,
   "metadata": {},
   "outputs": [],
   "source": [
    "df_new_2.to_csv('data_crime_final.csv', index=False)"
   ]
  },
  {
   "cell_type": "code",
   "execution_count": 76,
   "metadata": {},
   "outputs": [],
   "source": [
    "df_new_2.to_parquet('data_crime_final.parquet', engine='pyarrow')"
   ]
  },
  {
   "cell_type": "markdown",
   "metadata": {},
   "source": [
    "<h3><b>ADD NEW COLUMN</b></h3> "
   ]
  },
  {
   "cell_type": "code",
   "execution_count": 77,
   "metadata": {},
   "outputs": [
    {
     "data": {
      "application/vnd.microsoft.datawrangler.viewer.v0+json": {
       "columns": [
        {
         "name": "index",
         "rawType": "int64",
         "type": "integer"
        },
        {
         "name": "X",
         "rawType": "float64",
         "type": "float"
        },
        {
         "name": "Y",
         "rawType": "float64",
         "type": "float"
        },
        {
         "name": "CCN",
         "rawType": "int64",
         "type": "integer"
        },
        {
         "name": "REPORT_DAT",
         "rawType": "datetime64[ns, UTC]",
         "type": "unknown"
        },
        {
         "name": "SHIFT",
         "rawType": "category",
         "type": "unknown"
        },
        {
         "name": "METHOD",
         "rawType": "category",
         "type": "unknown"
        },
        {
         "name": "OFFENSE",
         "rawType": "category",
         "type": "unknown"
        },
        {
         "name": "BLOCK",
         "rawType": "object",
         "type": "string"
        },
        {
         "name": "XBLOCK",
         "rawType": "float64",
         "type": "float"
        },
        {
         "name": "YBLOCK",
         "rawType": "float64",
         "type": "float"
        },
        {
         "name": "WARD",
         "rawType": "int64",
         "type": "integer"
        },
        {
         "name": "ANC",
         "rawType": "category",
         "type": "unknown"
        },
        {
         "name": "DISTRICT",
         "rawType": "int64",
         "type": "integer"
        },
        {
         "name": "PSA",
         "rawType": "int64",
         "type": "integer"
        },
        {
         "name": "NEIGHBORHOOD_CLUSTER",
         "rawType": "Int64",
         "type": "integer"
        },
        {
         "name": "BLOCK_GROUP",
         "rawType": "int64",
         "type": "integer"
        },
        {
         "name": "CENSUS_TRACT",
         "rawType": "int64",
         "type": "integer"
        },
        {
         "name": "LATITUDE",
         "rawType": "float64",
         "type": "float"
        },
        {
         "name": "LONGITUDE",
         "rawType": "float64",
         "type": "float"
        },
        {
         "name": "START_DATE",
         "rawType": "datetime64[ns, UTC]",
         "type": "unknown"
        },
        {
         "name": "END_DATE",
         "rawType": "datetime64[ns, UTC]",
         "type": "unknown"
        },
        {
         "name": "OBJECTID",
         "rawType": "int64",
         "type": "integer"
        }
       ],
       "conversionMethod": "pd.DataFrame",
       "ref": "a770f74c-566c-4a7b-bd1b-55c28611c4b5",
       "rows": [
        [
         "0",
         "400046.409999996",
         "137753.649999999",
         "25017503",
         "2025-02-05 19:50:58+00:00",
         "DAY",
         "OTHERS",
         "MOTOR VEHICLE THEFT",
         "400 - 499 BLOCK OF MORSE STREET NE",
         "400046.41",
         "137753.65",
         "5",
         "5D",
         "5",
         "501",
         "23",
         "2",
         "8803",
         "38.907642221",
         "-76.9994649192",
         "2025-02-05 19:22:00+00:00",
         "2025-02-05 19:25:00+00:00",
         "685784661"
        ],
        [
         "1",
         "397868.68",
         "141140.379999999",
         "25013087",
         "2025-01-28 12:08:29+00:00",
         "DAY",
         "OTHERS",
         "THEFT/OTHER",
         "3800 - 3899 BLOCK OF GEORGIA AVENUE NW",
         "397868.68",
         "141140.38",
         "4",
         "4C",
         "4",
         "404",
         "18",
         "2",
         "2503",
         "38.938148387",
         "-77.024583415",
         "2025-01-28 11:06:00+00:00",
         "2025-01-28 11:07:00+00:00",
         "685784675"
        ],
        [
         "2",
         "399489.479999997",
         "137372.649999999",
         "25012701",
         "2025-01-27 17:28:06+00:00",
         "DAY",
         "OTHERS",
         "ROBBERY",
         "1100 - 1150 BLOCK OF 1ST STREET NE",
         "399489.48",
         "137372.65",
         "6",
         "6E",
         "5",
         "501",
         "25",
         "3",
         "10603",
         "38.9042098931",
         "-77.0058857204",
         "2025-01-27 15:00:00+00:00",
         "2025-01-27 15:20:00+00:00",
         "685784796"
        ],
        [
         "3",
         "401498.969999999",
         "138734.57",
         "25008887",
         "2025-01-19 19:59:51+00:00",
         "DAY",
         "OTHERS",
         "THEFT/OTHER",
         "1500 - 1599 BLOCK OF NEW YORK AVENUE NE",
         "401498.97",
         "138734.57",
         "5",
         "5D",
         "5",
         "506",
         "23",
         "1",
         "8803",
         "38.9164774036",
         "-76.9827155922",
         "2025-01-19 19:22:00+00:00",
         "2025-01-19 19:32:00+00:00",
         "685784829"
        ],
        [
         "4",
         "400212.850000001",
         "137949.329999998",
         "25011684",
         "2025-01-25 15:45:47+00:00",
         "DAY",
         "OTHERS",
         "THEFT F/AUTO",
         "1300 - 1399 BLOCK OF 5TH STREET NE",
         "400212.85",
         "137949.33",
         "5",
         "5D",
         "5",
         "501",
         "23",
         "2",
         "8803",
         "38.9094049494",
         "-76.9975459006",
         "2025-01-24 00:00:00+00:00",
         "2025-01-24 03:30:00+00:00",
         "685784830"
        ],
        [
         "5",
         "397655.460000001",
         "139302.91",
         "25013283",
         "2025-01-28 20:29:39+00:00",
         "EVENING",
         "GUN",
         "ROBBERY",
         "2300 - 2499 BLOCK OF 11TH STREET NW",
         "397655.46",
         "139302.91",
         "1",
         "1B",
         "3",
         "304",
         "2",
         "3",
         "3600",
         "38.9215953471",
         "-77.0270364945",
         "2025-01-28 17:50:00+00:00",
         "2025-01-28 17:52:00+00:00",
         "685784831"
        ],
        [
         "6",
         "397921.520000003",
         "138712.809999999",
         "25002549",
         "2025-01-06 03:12:43+00:00",
         "EVENING",
         "OTHERS",
         "THEFT/OTHER",
         "1900 - 1999 BLOCK OF 9TH STREET NW",
         "397921.52",
         "138712.81",
         "1",
         "1B",
         "3",
         "305",
         "3",
         "2",
         "4402",
         "38.9162802028",
         "-77.0239665883",
         "2025-01-05 11:00:00+00:00",
         "2025-01-05 11:30:00+00:00",
         "685784832"
        ],
        [
         "7",
         "401627.936999999",
         "132937.326900002",
         "25420547",
         "2025-02-06 12:01:12+00:00",
         "DAY",
         "OTHERS",
         "THEFT/OTHER",
         "1600 - 1699 BLOCK OF V STREET SE",
         "401627.936959464",
         "132937.326936797",
         "8",
         "8A",
         "7",
         "701",
         "28",
         "2",
         "7504",
         "38.8642534441",
         "-76.9812422284",
         "2025-02-05 21:31:00+00:00",
         "2025-02-05 21:40:00+00:00",
         "685784987"
        ],
        [
         "8",
         "393619.539999999",
         "143740.09",
         "25420388",
         "2025-01-30 11:31:22+00:00",
         "MIDNIGHT",
         "OTHERS",
         "THEFT/OTHER",
         "5400 - 5419 BLOCK OF CONNECTICUT AVENUE NW",
         "393619.54",
         "143740.09",
         "3",
         "3/4G",
         "2",
         "201",
         "10",
         "1",
         "1100",
         "38.9615466978",
         "-77.073618699",
         "2024-12-23 15:00:00+00:00",
         "2025-01-22 00:50:00+00:00",
         "685785027"
        ],
        [
         "9",
         "399868.920000002",
         "143373.539999999",
         "25018642",
         "2025-02-08 02:07:45+00:00",
         "EVENING",
         "OTHERS",
         "THEFT/OTHER",
         "310 - 399 BLOCK OF RIGGS ROAD NE",
         "399868.92",
         "143373.54",
         "4",
         "4B",
         "4",
         "406",
         "19",
         "3",
         "9505",
         "38.9582678873",
         "-77.0015123508",
         "2025-02-07 22:34:00+00:00",
         "2025-02-07 23:56:00+00:00",
         "685785032"
        ]
       ],
       "shape": {
        "columns": 22,
        "rows": 10
       }
      },
      "text/html": [
       "<div>\n",
       "<style scoped>\n",
       "    .dataframe tbody tr th:only-of-type {\n",
       "        vertical-align: middle;\n",
       "    }\n",
       "\n",
       "    .dataframe tbody tr th {\n",
       "        vertical-align: top;\n",
       "    }\n",
       "\n",
       "    .dataframe thead th {\n",
       "        text-align: right;\n",
       "    }\n",
       "</style>\n",
       "<table border=\"1\" class=\"dataframe\">\n",
       "  <thead>\n",
       "    <tr style=\"text-align: right;\">\n",
       "      <th></th>\n",
       "      <th>X</th>\n",
       "      <th>Y</th>\n",
       "      <th>CCN</th>\n",
       "      <th>REPORT_DAT</th>\n",
       "      <th>SHIFT</th>\n",
       "      <th>METHOD</th>\n",
       "      <th>OFFENSE</th>\n",
       "      <th>BLOCK</th>\n",
       "      <th>XBLOCK</th>\n",
       "      <th>YBLOCK</th>\n",
       "      <th>...</th>\n",
       "      <th>DISTRICT</th>\n",
       "      <th>PSA</th>\n",
       "      <th>NEIGHBORHOOD_CLUSTER</th>\n",
       "      <th>BLOCK_GROUP</th>\n",
       "      <th>CENSUS_TRACT</th>\n",
       "      <th>LATITUDE</th>\n",
       "      <th>LONGITUDE</th>\n",
       "      <th>START_DATE</th>\n",
       "      <th>END_DATE</th>\n",
       "      <th>OBJECTID</th>\n",
       "    </tr>\n",
       "  </thead>\n",
       "  <tbody>\n",
       "    <tr>\n",
       "      <th>0</th>\n",
       "      <td>400046.410</td>\n",
       "      <td>137753.6500</td>\n",
       "      <td>25017503</td>\n",
       "      <td>2025-02-05 19:50:58+00:00</td>\n",
       "      <td>DAY</td>\n",
       "      <td>OTHERS</td>\n",
       "      <td>MOTOR VEHICLE THEFT</td>\n",
       "      <td>400 - 499 BLOCK OF MORSE STREET NE</td>\n",
       "      <td>400046.410000</td>\n",
       "      <td>137753.650000</td>\n",
       "      <td>...</td>\n",
       "      <td>5</td>\n",
       "      <td>501</td>\n",
       "      <td>23</td>\n",
       "      <td>2</td>\n",
       "      <td>8803</td>\n",
       "      <td>38.907642</td>\n",
       "      <td>-76.999465</td>\n",
       "      <td>2025-02-05 19:22:00+00:00</td>\n",
       "      <td>2025-02-05 19:25:00+00:00</td>\n",
       "      <td>685784661</td>\n",
       "    </tr>\n",
       "    <tr>\n",
       "      <th>1</th>\n",
       "      <td>397868.680</td>\n",
       "      <td>141140.3800</td>\n",
       "      <td>25013087</td>\n",
       "      <td>2025-01-28 12:08:29+00:00</td>\n",
       "      <td>DAY</td>\n",
       "      <td>OTHERS</td>\n",
       "      <td>THEFT/OTHER</td>\n",
       "      <td>3800 - 3899 BLOCK OF GEORGIA AVENUE NW</td>\n",
       "      <td>397868.680000</td>\n",
       "      <td>141140.380000</td>\n",
       "      <td>...</td>\n",
       "      <td>4</td>\n",
       "      <td>404</td>\n",
       "      <td>18</td>\n",
       "      <td>2</td>\n",
       "      <td>2503</td>\n",
       "      <td>38.938148</td>\n",
       "      <td>-77.024583</td>\n",
       "      <td>2025-01-28 11:06:00+00:00</td>\n",
       "      <td>2025-01-28 11:07:00+00:00</td>\n",
       "      <td>685784675</td>\n",
       "    </tr>\n",
       "    <tr>\n",
       "      <th>2</th>\n",
       "      <td>399489.480</td>\n",
       "      <td>137372.6500</td>\n",
       "      <td>25012701</td>\n",
       "      <td>2025-01-27 17:28:06+00:00</td>\n",
       "      <td>DAY</td>\n",
       "      <td>OTHERS</td>\n",
       "      <td>ROBBERY</td>\n",
       "      <td>1100 - 1150 BLOCK OF 1ST STREET NE</td>\n",
       "      <td>399489.480000</td>\n",
       "      <td>137372.650000</td>\n",
       "      <td>...</td>\n",
       "      <td>5</td>\n",
       "      <td>501</td>\n",
       "      <td>25</td>\n",
       "      <td>3</td>\n",
       "      <td>10603</td>\n",
       "      <td>38.904210</td>\n",
       "      <td>-77.005886</td>\n",
       "      <td>2025-01-27 15:00:00+00:00</td>\n",
       "      <td>2025-01-27 15:20:00+00:00</td>\n",
       "      <td>685784796</td>\n",
       "    </tr>\n",
       "    <tr>\n",
       "      <th>3</th>\n",
       "      <td>401498.970</td>\n",
       "      <td>138734.5700</td>\n",
       "      <td>25008887</td>\n",
       "      <td>2025-01-19 19:59:51+00:00</td>\n",
       "      <td>DAY</td>\n",
       "      <td>OTHERS</td>\n",
       "      <td>THEFT/OTHER</td>\n",
       "      <td>1500 - 1599 BLOCK OF NEW YORK AVENUE NE</td>\n",
       "      <td>401498.970000</td>\n",
       "      <td>138734.570000</td>\n",
       "      <td>...</td>\n",
       "      <td>5</td>\n",
       "      <td>506</td>\n",
       "      <td>23</td>\n",
       "      <td>1</td>\n",
       "      <td>8803</td>\n",
       "      <td>38.916477</td>\n",
       "      <td>-76.982716</td>\n",
       "      <td>2025-01-19 19:22:00+00:00</td>\n",
       "      <td>2025-01-19 19:32:00+00:00</td>\n",
       "      <td>685784829</td>\n",
       "    </tr>\n",
       "    <tr>\n",
       "      <th>4</th>\n",
       "      <td>400212.850</td>\n",
       "      <td>137949.3300</td>\n",
       "      <td>25011684</td>\n",
       "      <td>2025-01-25 15:45:47+00:00</td>\n",
       "      <td>DAY</td>\n",
       "      <td>OTHERS</td>\n",
       "      <td>THEFT F/AUTO</td>\n",
       "      <td>1300 - 1399 BLOCK OF 5TH STREET NE</td>\n",
       "      <td>400212.850000</td>\n",
       "      <td>137949.330000</td>\n",
       "      <td>...</td>\n",
       "      <td>5</td>\n",
       "      <td>501</td>\n",
       "      <td>23</td>\n",
       "      <td>2</td>\n",
       "      <td>8803</td>\n",
       "      <td>38.909405</td>\n",
       "      <td>-76.997546</td>\n",
       "      <td>2025-01-24 00:00:00+00:00</td>\n",
       "      <td>2025-01-24 03:30:00+00:00</td>\n",
       "      <td>685784830</td>\n",
       "    </tr>\n",
       "    <tr>\n",
       "      <th>5</th>\n",
       "      <td>397655.460</td>\n",
       "      <td>139302.9100</td>\n",
       "      <td>25013283</td>\n",
       "      <td>2025-01-28 20:29:39+00:00</td>\n",
       "      <td>EVENING</td>\n",
       "      <td>GUN</td>\n",
       "      <td>ROBBERY</td>\n",
       "      <td>2300 - 2499 BLOCK OF 11TH STREET NW</td>\n",
       "      <td>397655.460000</td>\n",
       "      <td>139302.910000</td>\n",
       "      <td>...</td>\n",
       "      <td>3</td>\n",
       "      <td>304</td>\n",
       "      <td>2</td>\n",
       "      <td>3</td>\n",
       "      <td>3600</td>\n",
       "      <td>38.921595</td>\n",
       "      <td>-77.027036</td>\n",
       "      <td>2025-01-28 17:50:00+00:00</td>\n",
       "      <td>2025-01-28 17:52:00+00:00</td>\n",
       "      <td>685784831</td>\n",
       "    </tr>\n",
       "    <tr>\n",
       "      <th>6</th>\n",
       "      <td>397921.520</td>\n",
       "      <td>138712.8100</td>\n",
       "      <td>25002549</td>\n",
       "      <td>2025-01-06 03:12:43+00:00</td>\n",
       "      <td>EVENING</td>\n",
       "      <td>OTHERS</td>\n",
       "      <td>THEFT/OTHER</td>\n",
       "      <td>1900 - 1999 BLOCK OF 9TH STREET NW</td>\n",
       "      <td>397921.520000</td>\n",
       "      <td>138712.810000</td>\n",
       "      <td>...</td>\n",
       "      <td>3</td>\n",
       "      <td>305</td>\n",
       "      <td>3</td>\n",
       "      <td>2</td>\n",
       "      <td>4402</td>\n",
       "      <td>38.916280</td>\n",
       "      <td>-77.023967</td>\n",
       "      <td>2025-01-05 11:00:00+00:00</td>\n",
       "      <td>2025-01-05 11:30:00+00:00</td>\n",
       "      <td>685784832</td>\n",
       "    </tr>\n",
       "    <tr>\n",
       "      <th>7</th>\n",
       "      <td>401627.937</td>\n",
       "      <td>132937.3269</td>\n",
       "      <td>25420547</td>\n",
       "      <td>2025-02-06 12:01:12+00:00</td>\n",
       "      <td>DAY</td>\n",
       "      <td>OTHERS</td>\n",
       "      <td>THEFT/OTHER</td>\n",
       "      <td>1600 - 1699 BLOCK OF V STREET SE</td>\n",
       "      <td>401627.936959</td>\n",
       "      <td>132937.326937</td>\n",
       "      <td>...</td>\n",
       "      <td>7</td>\n",
       "      <td>701</td>\n",
       "      <td>28</td>\n",
       "      <td>2</td>\n",
       "      <td>7504</td>\n",
       "      <td>38.864253</td>\n",
       "      <td>-76.981242</td>\n",
       "      <td>2025-02-05 21:31:00+00:00</td>\n",
       "      <td>2025-02-05 21:40:00+00:00</td>\n",
       "      <td>685784987</td>\n",
       "    </tr>\n",
       "    <tr>\n",
       "      <th>8</th>\n",
       "      <td>393619.540</td>\n",
       "      <td>143740.0900</td>\n",
       "      <td>25420388</td>\n",
       "      <td>2025-01-30 11:31:22+00:00</td>\n",
       "      <td>MIDNIGHT</td>\n",
       "      <td>OTHERS</td>\n",
       "      <td>THEFT/OTHER</td>\n",
       "      <td>5400 - 5419 BLOCK OF CONNECTICUT AVENUE NW</td>\n",
       "      <td>393619.540000</td>\n",
       "      <td>143740.090000</td>\n",
       "      <td>...</td>\n",
       "      <td>2</td>\n",
       "      <td>201</td>\n",
       "      <td>10</td>\n",
       "      <td>1</td>\n",
       "      <td>1100</td>\n",
       "      <td>38.961547</td>\n",
       "      <td>-77.073619</td>\n",
       "      <td>2024-12-23 15:00:00+00:00</td>\n",
       "      <td>2025-01-22 00:50:00+00:00</td>\n",
       "      <td>685785027</td>\n",
       "    </tr>\n",
       "    <tr>\n",
       "      <th>9</th>\n",
       "      <td>399868.920</td>\n",
       "      <td>143373.5400</td>\n",
       "      <td>25018642</td>\n",
       "      <td>2025-02-08 02:07:45+00:00</td>\n",
       "      <td>EVENING</td>\n",
       "      <td>OTHERS</td>\n",
       "      <td>THEFT/OTHER</td>\n",
       "      <td>310 - 399 BLOCK OF RIGGS ROAD NE</td>\n",
       "      <td>399868.920000</td>\n",
       "      <td>143373.540000</td>\n",
       "      <td>...</td>\n",
       "      <td>4</td>\n",
       "      <td>406</td>\n",
       "      <td>19</td>\n",
       "      <td>3</td>\n",
       "      <td>9505</td>\n",
       "      <td>38.958268</td>\n",
       "      <td>-77.001512</td>\n",
       "      <td>2025-02-07 22:34:00+00:00</td>\n",
       "      <td>2025-02-07 23:56:00+00:00</td>\n",
       "      <td>685785032</td>\n",
       "    </tr>\n",
       "  </tbody>\n",
       "</table>\n",
       "<p>10 rows × 22 columns</p>\n",
       "</div>"
      ],
      "text/plain": [
       "            X            Y       CCN                REPORT_DAT     SHIFT  \\\n",
       "0  400046.410  137753.6500  25017503 2025-02-05 19:50:58+00:00       DAY   \n",
       "1  397868.680  141140.3800  25013087 2025-01-28 12:08:29+00:00       DAY   \n",
       "2  399489.480  137372.6500  25012701 2025-01-27 17:28:06+00:00       DAY   \n",
       "3  401498.970  138734.5700  25008887 2025-01-19 19:59:51+00:00       DAY   \n",
       "4  400212.850  137949.3300  25011684 2025-01-25 15:45:47+00:00       DAY   \n",
       "5  397655.460  139302.9100  25013283 2025-01-28 20:29:39+00:00   EVENING   \n",
       "6  397921.520  138712.8100  25002549 2025-01-06 03:12:43+00:00   EVENING   \n",
       "7  401627.937  132937.3269  25420547 2025-02-06 12:01:12+00:00       DAY   \n",
       "8  393619.540  143740.0900  25420388 2025-01-30 11:31:22+00:00  MIDNIGHT   \n",
       "9  399868.920  143373.5400  25018642 2025-02-08 02:07:45+00:00   EVENING   \n",
       "\n",
       "   METHOD              OFFENSE                                       BLOCK  \\\n",
       "0  OTHERS  MOTOR VEHICLE THEFT          400 - 499 BLOCK OF MORSE STREET NE   \n",
       "1  OTHERS          THEFT/OTHER      3800 - 3899 BLOCK OF GEORGIA AVENUE NW   \n",
       "2  OTHERS              ROBBERY          1100 - 1150 BLOCK OF 1ST STREET NE   \n",
       "3  OTHERS          THEFT/OTHER     1500 - 1599 BLOCK OF NEW YORK AVENUE NE   \n",
       "4  OTHERS         THEFT F/AUTO          1300 - 1399 BLOCK OF 5TH STREET NE   \n",
       "5     GUN              ROBBERY         2300 - 2499 BLOCK OF 11TH STREET NW   \n",
       "6  OTHERS          THEFT/OTHER          1900 - 1999 BLOCK OF 9TH STREET NW   \n",
       "7  OTHERS          THEFT/OTHER            1600 - 1699 BLOCK OF V STREET SE   \n",
       "8  OTHERS          THEFT/OTHER  5400 - 5419 BLOCK OF CONNECTICUT AVENUE NW   \n",
       "9  OTHERS          THEFT/OTHER            310 - 399 BLOCK OF RIGGS ROAD NE   \n",
       "\n",
       "          XBLOCK         YBLOCK  ...  DISTRICT  PSA  NEIGHBORHOOD_CLUSTER  \\\n",
       "0  400046.410000  137753.650000  ...         5  501                    23   \n",
       "1  397868.680000  141140.380000  ...         4  404                    18   \n",
       "2  399489.480000  137372.650000  ...         5  501                    25   \n",
       "3  401498.970000  138734.570000  ...         5  506                    23   \n",
       "4  400212.850000  137949.330000  ...         5  501                    23   \n",
       "5  397655.460000  139302.910000  ...         3  304                     2   \n",
       "6  397921.520000  138712.810000  ...         3  305                     3   \n",
       "7  401627.936959  132937.326937  ...         7  701                    28   \n",
       "8  393619.540000  143740.090000  ...         2  201                    10   \n",
       "9  399868.920000  143373.540000  ...         4  406                    19   \n",
       "\n",
       "   BLOCK_GROUP  CENSUS_TRACT   LATITUDE  LONGITUDE                START_DATE  \\\n",
       "0            2          8803  38.907642 -76.999465 2025-02-05 19:22:00+00:00   \n",
       "1            2          2503  38.938148 -77.024583 2025-01-28 11:06:00+00:00   \n",
       "2            3         10603  38.904210 -77.005886 2025-01-27 15:00:00+00:00   \n",
       "3            1          8803  38.916477 -76.982716 2025-01-19 19:22:00+00:00   \n",
       "4            2          8803  38.909405 -76.997546 2025-01-24 00:00:00+00:00   \n",
       "5            3          3600  38.921595 -77.027036 2025-01-28 17:50:00+00:00   \n",
       "6            2          4402  38.916280 -77.023967 2025-01-05 11:00:00+00:00   \n",
       "7            2          7504  38.864253 -76.981242 2025-02-05 21:31:00+00:00   \n",
       "8            1          1100  38.961547 -77.073619 2024-12-23 15:00:00+00:00   \n",
       "9            3          9505  38.958268 -77.001512 2025-02-07 22:34:00+00:00   \n",
       "\n",
       "                   END_DATE   OBJECTID  \n",
       "0 2025-02-05 19:25:00+00:00  685784661  \n",
       "1 2025-01-28 11:07:00+00:00  685784675  \n",
       "2 2025-01-27 15:20:00+00:00  685784796  \n",
       "3 2025-01-19 19:32:00+00:00  685784829  \n",
       "4 2025-01-24 03:30:00+00:00  685784830  \n",
       "5 2025-01-28 17:52:00+00:00  685784831  \n",
       "6 2025-01-05 11:30:00+00:00  685784832  \n",
       "7 2025-02-05 21:40:00+00:00  685784987  \n",
       "8 2025-01-22 00:50:00+00:00  685785027  \n",
       "9 2025-02-07 23:56:00+00:00  685785032  \n",
       "\n",
       "[10 rows x 22 columns]"
      ]
     },
     "execution_count": 77,
     "metadata": {},
     "output_type": "execute_result"
    }
   ],
   "source": [
    "import pandas as pd\n",
    "import matplotlib.pyplot as plt\n",
    "import numpy as np  \n",
    "import seaborn as sns\n",
    "\n",
    "df_new_3 = pd.read_parquet('data_crime_final.parquet')\n",
    "df_new_3.head(10)"
   ]
  },
  {
   "cell_type": "markdown",
   "metadata": {},
   "source": [
    "Add new columns: 'DATE(REPORT)', 'DATE(START)', 'DATE(END)' "
   ]
  },
  {
   "cell_type": "code",
   "execution_count": 78,
   "metadata": {},
   "outputs": [],
   "source": [
    "df_new_3['DATE(REPORT)'] = df_new_3['REPORT_DAT'].dt.date\n",
    "df_new_3['DATE(START)'] = df_new_3['START_DATE'].dt.date\n",
    "df_new_3['DATE(END)'] = df_new_3['END_DATE'].dt.date"
   ]
  },
  {
   "cell_type": "code",
   "execution_count": 79,
   "metadata": {},
   "outputs": [
    {
     "data": {
      "application/vnd.microsoft.datawrangler.viewer.v0+json": {
       "columns": [
        {
         "name": "index",
         "rawType": "int64",
         "type": "integer"
        },
        {
         "name": "X",
         "rawType": "float64",
         "type": "float"
        },
        {
         "name": "Y",
         "rawType": "float64",
         "type": "float"
        },
        {
         "name": "CCN",
         "rawType": "int64",
         "type": "integer"
        },
        {
         "name": "REPORT_DAT",
         "rawType": "datetime64[ns, UTC]",
         "type": "unknown"
        },
        {
         "name": "SHIFT",
         "rawType": "category",
         "type": "unknown"
        },
        {
         "name": "METHOD",
         "rawType": "category",
         "type": "unknown"
        },
        {
         "name": "OFFENSE",
         "rawType": "category",
         "type": "unknown"
        },
        {
         "name": "BLOCK",
         "rawType": "object",
         "type": "string"
        },
        {
         "name": "XBLOCK",
         "rawType": "float64",
         "type": "float"
        },
        {
         "name": "YBLOCK",
         "rawType": "float64",
         "type": "float"
        },
        {
         "name": "WARD",
         "rawType": "int64",
         "type": "integer"
        },
        {
         "name": "ANC",
         "rawType": "category",
         "type": "unknown"
        },
        {
         "name": "DISTRICT",
         "rawType": "int64",
         "type": "integer"
        },
        {
         "name": "PSA",
         "rawType": "int64",
         "type": "integer"
        },
        {
         "name": "NEIGHBORHOOD_CLUSTER",
         "rawType": "Int64",
         "type": "integer"
        },
        {
         "name": "BLOCK_GROUP",
         "rawType": "int64",
         "type": "integer"
        },
        {
         "name": "CENSUS_TRACT",
         "rawType": "int64",
         "type": "integer"
        },
        {
         "name": "LATITUDE",
         "rawType": "float64",
         "type": "float"
        },
        {
         "name": "LONGITUDE",
         "rawType": "float64",
         "type": "float"
        },
        {
         "name": "START_DATE",
         "rawType": "datetime64[ns, UTC]",
         "type": "unknown"
        },
        {
         "name": "END_DATE",
         "rawType": "datetime64[ns, UTC]",
         "type": "unknown"
        },
        {
         "name": "OBJECTID",
         "rawType": "int64",
         "type": "integer"
        },
        {
         "name": "DATE(REPORT)",
         "rawType": "object",
         "type": "unknown"
        },
        {
         "name": "DATE(START)",
         "rawType": "object",
         "type": "unknown"
        },
        {
         "name": "DATE(END)",
         "rawType": "object",
         "type": "unknown"
        }
       ],
       "conversionMethod": "pd.DataFrame",
       "ref": "d764456c-942c-4a31-a98c-960b91989141",
       "rows": [
        [
         "0",
         "400046.409999996",
         "137753.649999999",
         "25017503",
         "2025-02-05 19:50:58+00:00",
         "DAY",
         "OTHERS",
         "MOTOR VEHICLE THEFT",
         "400 - 499 BLOCK OF MORSE STREET NE",
         "400046.41",
         "137753.65",
         "5",
         "5D",
         "5",
         "501",
         "23",
         "2",
         "8803",
         "38.907642221",
         "-76.9994649192",
         "2025-02-05 19:22:00+00:00",
         "2025-02-05 19:25:00+00:00",
         "685784661",
         "2025-02-05",
         "2025-02-05",
         "2025-02-05"
        ],
        [
         "1",
         "397868.68",
         "141140.379999999",
         "25013087",
         "2025-01-28 12:08:29+00:00",
         "DAY",
         "OTHERS",
         "THEFT/OTHER",
         "3800 - 3899 BLOCK OF GEORGIA AVENUE NW",
         "397868.68",
         "141140.38",
         "4",
         "4C",
         "4",
         "404",
         "18",
         "2",
         "2503",
         "38.938148387",
         "-77.024583415",
         "2025-01-28 11:06:00+00:00",
         "2025-01-28 11:07:00+00:00",
         "685784675",
         "2025-01-28",
         "2025-01-28",
         "2025-01-28"
        ],
        [
         "2",
         "399489.479999997",
         "137372.649999999",
         "25012701",
         "2025-01-27 17:28:06+00:00",
         "DAY",
         "OTHERS",
         "ROBBERY",
         "1100 - 1150 BLOCK OF 1ST STREET NE",
         "399489.48",
         "137372.65",
         "6",
         "6E",
         "5",
         "501",
         "25",
         "3",
         "10603",
         "38.9042098931",
         "-77.0058857204",
         "2025-01-27 15:00:00+00:00",
         "2025-01-27 15:20:00+00:00",
         "685784796",
         "2025-01-27",
         "2025-01-27",
         "2025-01-27"
        ],
        [
         "3",
         "401498.969999999",
         "138734.57",
         "25008887",
         "2025-01-19 19:59:51+00:00",
         "DAY",
         "OTHERS",
         "THEFT/OTHER",
         "1500 - 1599 BLOCK OF NEW YORK AVENUE NE",
         "401498.97",
         "138734.57",
         "5",
         "5D",
         "5",
         "506",
         "23",
         "1",
         "8803",
         "38.9164774036",
         "-76.9827155922",
         "2025-01-19 19:22:00+00:00",
         "2025-01-19 19:32:00+00:00",
         "685784829",
         "2025-01-19",
         "2025-01-19",
         "2025-01-19"
        ],
        [
         "4",
         "400212.850000001",
         "137949.329999998",
         "25011684",
         "2025-01-25 15:45:47+00:00",
         "DAY",
         "OTHERS",
         "THEFT F/AUTO",
         "1300 - 1399 BLOCK OF 5TH STREET NE",
         "400212.85",
         "137949.33",
         "5",
         "5D",
         "5",
         "501",
         "23",
         "2",
         "8803",
         "38.9094049494",
         "-76.9975459006",
         "2025-01-24 00:00:00+00:00",
         "2025-01-24 03:30:00+00:00",
         "685784830",
         "2025-01-25",
         "2025-01-24",
         "2025-01-24"
        ]
       ],
       "shape": {
        "columns": 25,
        "rows": 5
       }
      },
      "text/html": [
       "<div>\n",
       "<style scoped>\n",
       "    .dataframe tbody tr th:only-of-type {\n",
       "        vertical-align: middle;\n",
       "    }\n",
       "\n",
       "    .dataframe tbody tr th {\n",
       "        vertical-align: top;\n",
       "    }\n",
       "\n",
       "    .dataframe thead th {\n",
       "        text-align: right;\n",
       "    }\n",
       "</style>\n",
       "<table border=\"1\" class=\"dataframe\">\n",
       "  <thead>\n",
       "    <tr style=\"text-align: right;\">\n",
       "      <th></th>\n",
       "      <th>X</th>\n",
       "      <th>Y</th>\n",
       "      <th>CCN</th>\n",
       "      <th>REPORT_DAT</th>\n",
       "      <th>SHIFT</th>\n",
       "      <th>METHOD</th>\n",
       "      <th>OFFENSE</th>\n",
       "      <th>BLOCK</th>\n",
       "      <th>XBLOCK</th>\n",
       "      <th>YBLOCK</th>\n",
       "      <th>...</th>\n",
       "      <th>BLOCK_GROUP</th>\n",
       "      <th>CENSUS_TRACT</th>\n",
       "      <th>LATITUDE</th>\n",
       "      <th>LONGITUDE</th>\n",
       "      <th>START_DATE</th>\n",
       "      <th>END_DATE</th>\n",
       "      <th>OBJECTID</th>\n",
       "      <th>DATE(REPORT)</th>\n",
       "      <th>DATE(START)</th>\n",
       "      <th>DATE(END)</th>\n",
       "    </tr>\n",
       "  </thead>\n",
       "  <tbody>\n",
       "    <tr>\n",
       "      <th>0</th>\n",
       "      <td>400046.41</td>\n",
       "      <td>137753.65</td>\n",
       "      <td>25017503</td>\n",
       "      <td>2025-02-05 19:50:58+00:00</td>\n",
       "      <td>DAY</td>\n",
       "      <td>OTHERS</td>\n",
       "      <td>MOTOR VEHICLE THEFT</td>\n",
       "      <td>400 - 499 BLOCK OF MORSE STREET NE</td>\n",
       "      <td>400046.41</td>\n",
       "      <td>137753.65</td>\n",
       "      <td>...</td>\n",
       "      <td>2</td>\n",
       "      <td>8803</td>\n",
       "      <td>38.907642</td>\n",
       "      <td>-76.999465</td>\n",
       "      <td>2025-02-05 19:22:00+00:00</td>\n",
       "      <td>2025-02-05 19:25:00+00:00</td>\n",
       "      <td>685784661</td>\n",
       "      <td>2025-02-05</td>\n",
       "      <td>2025-02-05</td>\n",
       "      <td>2025-02-05</td>\n",
       "    </tr>\n",
       "    <tr>\n",
       "      <th>1</th>\n",
       "      <td>397868.68</td>\n",
       "      <td>141140.38</td>\n",
       "      <td>25013087</td>\n",
       "      <td>2025-01-28 12:08:29+00:00</td>\n",
       "      <td>DAY</td>\n",
       "      <td>OTHERS</td>\n",
       "      <td>THEFT/OTHER</td>\n",
       "      <td>3800 - 3899 BLOCK OF GEORGIA AVENUE NW</td>\n",
       "      <td>397868.68</td>\n",
       "      <td>141140.38</td>\n",
       "      <td>...</td>\n",
       "      <td>2</td>\n",
       "      <td>2503</td>\n",
       "      <td>38.938148</td>\n",
       "      <td>-77.024583</td>\n",
       "      <td>2025-01-28 11:06:00+00:00</td>\n",
       "      <td>2025-01-28 11:07:00+00:00</td>\n",
       "      <td>685784675</td>\n",
       "      <td>2025-01-28</td>\n",
       "      <td>2025-01-28</td>\n",
       "      <td>2025-01-28</td>\n",
       "    </tr>\n",
       "    <tr>\n",
       "      <th>2</th>\n",
       "      <td>399489.48</td>\n",
       "      <td>137372.65</td>\n",
       "      <td>25012701</td>\n",
       "      <td>2025-01-27 17:28:06+00:00</td>\n",
       "      <td>DAY</td>\n",
       "      <td>OTHERS</td>\n",
       "      <td>ROBBERY</td>\n",
       "      <td>1100 - 1150 BLOCK OF 1ST STREET NE</td>\n",
       "      <td>399489.48</td>\n",
       "      <td>137372.65</td>\n",
       "      <td>...</td>\n",
       "      <td>3</td>\n",
       "      <td>10603</td>\n",
       "      <td>38.904210</td>\n",
       "      <td>-77.005886</td>\n",
       "      <td>2025-01-27 15:00:00+00:00</td>\n",
       "      <td>2025-01-27 15:20:00+00:00</td>\n",
       "      <td>685784796</td>\n",
       "      <td>2025-01-27</td>\n",
       "      <td>2025-01-27</td>\n",
       "      <td>2025-01-27</td>\n",
       "    </tr>\n",
       "    <tr>\n",
       "      <th>3</th>\n",
       "      <td>401498.97</td>\n",
       "      <td>138734.57</td>\n",
       "      <td>25008887</td>\n",
       "      <td>2025-01-19 19:59:51+00:00</td>\n",
       "      <td>DAY</td>\n",
       "      <td>OTHERS</td>\n",
       "      <td>THEFT/OTHER</td>\n",
       "      <td>1500 - 1599 BLOCK OF NEW YORK AVENUE NE</td>\n",
       "      <td>401498.97</td>\n",
       "      <td>138734.57</td>\n",
       "      <td>...</td>\n",
       "      <td>1</td>\n",
       "      <td>8803</td>\n",
       "      <td>38.916477</td>\n",
       "      <td>-76.982716</td>\n",
       "      <td>2025-01-19 19:22:00+00:00</td>\n",
       "      <td>2025-01-19 19:32:00+00:00</td>\n",
       "      <td>685784829</td>\n",
       "      <td>2025-01-19</td>\n",
       "      <td>2025-01-19</td>\n",
       "      <td>2025-01-19</td>\n",
       "    </tr>\n",
       "    <tr>\n",
       "      <th>4</th>\n",
       "      <td>400212.85</td>\n",
       "      <td>137949.33</td>\n",
       "      <td>25011684</td>\n",
       "      <td>2025-01-25 15:45:47+00:00</td>\n",
       "      <td>DAY</td>\n",
       "      <td>OTHERS</td>\n",
       "      <td>THEFT F/AUTO</td>\n",
       "      <td>1300 - 1399 BLOCK OF 5TH STREET NE</td>\n",
       "      <td>400212.85</td>\n",
       "      <td>137949.33</td>\n",
       "      <td>...</td>\n",
       "      <td>2</td>\n",
       "      <td>8803</td>\n",
       "      <td>38.909405</td>\n",
       "      <td>-76.997546</td>\n",
       "      <td>2025-01-24 00:00:00+00:00</td>\n",
       "      <td>2025-01-24 03:30:00+00:00</td>\n",
       "      <td>685784830</td>\n",
       "      <td>2025-01-25</td>\n",
       "      <td>2025-01-24</td>\n",
       "      <td>2025-01-24</td>\n",
       "    </tr>\n",
       "  </tbody>\n",
       "</table>\n",
       "<p>5 rows × 25 columns</p>\n",
       "</div>"
      ],
      "text/plain": [
       "           X          Y       CCN                REPORT_DAT SHIFT  METHOD  \\\n",
       "0  400046.41  137753.65  25017503 2025-02-05 19:50:58+00:00   DAY  OTHERS   \n",
       "1  397868.68  141140.38  25013087 2025-01-28 12:08:29+00:00   DAY  OTHERS   \n",
       "2  399489.48  137372.65  25012701 2025-01-27 17:28:06+00:00   DAY  OTHERS   \n",
       "3  401498.97  138734.57  25008887 2025-01-19 19:59:51+00:00   DAY  OTHERS   \n",
       "4  400212.85  137949.33  25011684 2025-01-25 15:45:47+00:00   DAY  OTHERS   \n",
       "\n",
       "               OFFENSE                                    BLOCK     XBLOCK  \\\n",
       "0  MOTOR VEHICLE THEFT       400 - 499 BLOCK OF MORSE STREET NE  400046.41   \n",
       "1          THEFT/OTHER   3800 - 3899 BLOCK OF GEORGIA AVENUE NW  397868.68   \n",
       "2              ROBBERY       1100 - 1150 BLOCK OF 1ST STREET NE  399489.48   \n",
       "3          THEFT/OTHER  1500 - 1599 BLOCK OF NEW YORK AVENUE NE  401498.97   \n",
       "4         THEFT F/AUTO       1300 - 1399 BLOCK OF 5TH STREET NE  400212.85   \n",
       "\n",
       "      YBLOCK  ...  BLOCK_GROUP CENSUS_TRACT   LATITUDE  LONGITUDE  \\\n",
       "0  137753.65  ...            2         8803  38.907642 -76.999465   \n",
       "1  141140.38  ...            2         2503  38.938148 -77.024583   \n",
       "2  137372.65  ...            3        10603  38.904210 -77.005886   \n",
       "3  138734.57  ...            1         8803  38.916477 -76.982716   \n",
       "4  137949.33  ...            2         8803  38.909405 -76.997546   \n",
       "\n",
       "                 START_DATE                  END_DATE   OBJECTID  \\\n",
       "0 2025-02-05 19:22:00+00:00 2025-02-05 19:25:00+00:00  685784661   \n",
       "1 2025-01-28 11:06:00+00:00 2025-01-28 11:07:00+00:00  685784675   \n",
       "2 2025-01-27 15:00:00+00:00 2025-01-27 15:20:00+00:00  685784796   \n",
       "3 2025-01-19 19:22:00+00:00 2025-01-19 19:32:00+00:00  685784829   \n",
       "4 2025-01-24 00:00:00+00:00 2025-01-24 03:30:00+00:00  685784830   \n",
       "\n",
       "   DATE(REPORT)  DATE(START)   DATE(END)  \n",
       "0    2025-02-05   2025-02-05  2025-02-05  \n",
       "1    2025-01-28   2025-01-28  2025-01-28  \n",
       "2    2025-01-27   2025-01-27  2025-01-27  \n",
       "3    2025-01-19   2025-01-19  2025-01-19  \n",
       "4    2025-01-25   2025-01-24  2025-01-24  \n",
       "\n",
       "[5 rows x 25 columns]"
      ]
     },
     "execution_count": 79,
     "metadata": {},
     "output_type": "execute_result"
    }
   ],
   "source": [
    "df_new_3.head()"
   ]
  },
  {
   "cell_type": "code",
   "execution_count": 80,
   "metadata": {},
   "outputs": [],
   "source": [
    "df_new_3['DATE(REPORT)'] = pd.to_datetime(df_new_3['DATE(REPORT)'])\n",
    "df_new_3['DATE(START)'] = pd.to_datetime(df_new_3['DATE(START)'])\n",
    "df_new_3['DATE(END)'] = pd.to_datetime(df_new_3['DATE(END)'])"
   ]
  },
  {
   "cell_type": "markdown",
   "metadata": {},
   "source": [
    "Add new columns: 'TIME(REPORT)', 'TIME(START)', 'TIME(END)' "
   ]
  },
  {
   "cell_type": "code",
   "execution_count": 81,
   "metadata": {},
   "outputs": [],
   "source": [
    "df_new_3['TIME(REPORT)'] = df_new_3['REPORT_DAT'].dt.time\n",
    "df_new_3['TIME(START)'] = df_new_3['START_DATE'].dt.time    \n",
    "df_new_3['TIME(END)'] = df_new_3['END_DATE'].dt.time"
   ]
  },
  {
   "cell_type": "code",
   "execution_count": 82,
   "metadata": {},
   "outputs": [
    {
     "data": {
      "application/vnd.microsoft.datawrangler.viewer.v0+json": {
       "columns": [
        {
         "name": "index",
         "rawType": "int64",
         "type": "integer"
        },
        {
         "name": "X",
         "rawType": "float64",
         "type": "float"
        },
        {
         "name": "Y",
         "rawType": "float64",
         "type": "float"
        },
        {
         "name": "CCN",
         "rawType": "int64",
         "type": "integer"
        },
        {
         "name": "REPORT_DAT",
         "rawType": "datetime64[ns, UTC]",
         "type": "unknown"
        },
        {
         "name": "SHIFT",
         "rawType": "category",
         "type": "unknown"
        },
        {
         "name": "METHOD",
         "rawType": "category",
         "type": "unknown"
        },
        {
         "name": "OFFENSE",
         "rawType": "category",
         "type": "unknown"
        },
        {
         "name": "BLOCK",
         "rawType": "object",
         "type": "string"
        },
        {
         "name": "XBLOCK",
         "rawType": "float64",
         "type": "float"
        },
        {
         "name": "YBLOCK",
         "rawType": "float64",
         "type": "float"
        },
        {
         "name": "WARD",
         "rawType": "int64",
         "type": "integer"
        },
        {
         "name": "ANC",
         "rawType": "category",
         "type": "unknown"
        },
        {
         "name": "DISTRICT",
         "rawType": "int64",
         "type": "integer"
        },
        {
         "name": "PSA",
         "rawType": "int64",
         "type": "integer"
        },
        {
         "name": "NEIGHBORHOOD_CLUSTER",
         "rawType": "Int64",
         "type": "integer"
        },
        {
         "name": "BLOCK_GROUP",
         "rawType": "int64",
         "type": "integer"
        },
        {
         "name": "CENSUS_TRACT",
         "rawType": "int64",
         "type": "integer"
        },
        {
         "name": "LATITUDE",
         "rawType": "float64",
         "type": "float"
        },
        {
         "name": "LONGITUDE",
         "rawType": "float64",
         "type": "float"
        },
        {
         "name": "START_DATE",
         "rawType": "datetime64[ns, UTC]",
         "type": "unknown"
        },
        {
         "name": "END_DATE",
         "rawType": "datetime64[ns, UTC]",
         "type": "unknown"
        },
        {
         "name": "OBJECTID",
         "rawType": "int64",
         "type": "integer"
        },
        {
         "name": "DATE(REPORT)",
         "rawType": "datetime64[ns]",
         "type": "datetime"
        },
        {
         "name": "DATE(START)",
         "rawType": "datetime64[ns]",
         "type": "datetime"
        },
        {
         "name": "DATE(END)",
         "rawType": "datetime64[ns]",
         "type": "datetime"
        },
        {
         "name": "TIME(REPORT)",
         "rawType": "object",
         "type": "unknown"
        },
        {
         "name": "TIME(START)",
         "rawType": "object",
         "type": "unknown"
        },
        {
         "name": "TIME(END)",
         "rawType": "object",
         "type": "unknown"
        }
       ],
       "conversionMethod": "pd.DataFrame",
       "ref": "0ed1f111-151d-4849-8025-bb3b01a26bee",
       "rows": [
        [
         "0",
         "400046.409999996",
         "137753.649999999",
         "25017503",
         "2025-02-05 19:50:58+00:00",
         "DAY",
         "OTHERS",
         "MOTOR VEHICLE THEFT",
         "400 - 499 BLOCK OF MORSE STREET NE",
         "400046.41",
         "137753.65",
         "5",
         "5D",
         "5",
         "501",
         "23",
         "2",
         "8803",
         "38.907642221",
         "-76.9994649192",
         "2025-02-05 19:22:00+00:00",
         "2025-02-05 19:25:00+00:00",
         "685784661",
         "2025-02-05 00:00:00",
         "2025-02-05 00:00:00",
         "2025-02-05 00:00:00",
         "19:50:58",
         "19:22:00",
         "19:25:00"
        ],
        [
         "1",
         "397868.68",
         "141140.379999999",
         "25013087",
         "2025-01-28 12:08:29+00:00",
         "DAY",
         "OTHERS",
         "THEFT/OTHER",
         "3800 - 3899 BLOCK OF GEORGIA AVENUE NW",
         "397868.68",
         "141140.38",
         "4",
         "4C",
         "4",
         "404",
         "18",
         "2",
         "2503",
         "38.938148387",
         "-77.024583415",
         "2025-01-28 11:06:00+00:00",
         "2025-01-28 11:07:00+00:00",
         "685784675",
         "2025-01-28 00:00:00",
         "2025-01-28 00:00:00",
         "2025-01-28 00:00:00",
         "12:08:29",
         "11:06:00",
         "11:07:00"
        ],
        [
         "2",
         "399489.479999997",
         "137372.649999999",
         "25012701",
         "2025-01-27 17:28:06+00:00",
         "DAY",
         "OTHERS",
         "ROBBERY",
         "1100 - 1150 BLOCK OF 1ST STREET NE",
         "399489.48",
         "137372.65",
         "6",
         "6E",
         "5",
         "501",
         "25",
         "3",
         "10603",
         "38.9042098931",
         "-77.0058857204",
         "2025-01-27 15:00:00+00:00",
         "2025-01-27 15:20:00+00:00",
         "685784796",
         "2025-01-27 00:00:00",
         "2025-01-27 00:00:00",
         "2025-01-27 00:00:00",
         "17:28:06",
         "15:00:00",
         "15:20:00"
        ],
        [
         "3",
         "401498.969999999",
         "138734.57",
         "25008887",
         "2025-01-19 19:59:51+00:00",
         "DAY",
         "OTHERS",
         "THEFT/OTHER",
         "1500 - 1599 BLOCK OF NEW YORK AVENUE NE",
         "401498.97",
         "138734.57",
         "5",
         "5D",
         "5",
         "506",
         "23",
         "1",
         "8803",
         "38.9164774036",
         "-76.9827155922",
         "2025-01-19 19:22:00+00:00",
         "2025-01-19 19:32:00+00:00",
         "685784829",
         "2025-01-19 00:00:00",
         "2025-01-19 00:00:00",
         "2025-01-19 00:00:00",
         "19:59:51",
         "19:22:00",
         "19:32:00"
        ],
        [
         "4",
         "400212.850000001",
         "137949.329999998",
         "25011684",
         "2025-01-25 15:45:47+00:00",
         "DAY",
         "OTHERS",
         "THEFT F/AUTO",
         "1300 - 1399 BLOCK OF 5TH STREET NE",
         "400212.85",
         "137949.33",
         "5",
         "5D",
         "5",
         "501",
         "23",
         "2",
         "8803",
         "38.9094049494",
         "-76.9975459006",
         "2025-01-24 00:00:00+00:00",
         "2025-01-24 03:30:00+00:00",
         "685784830",
         "2025-01-25 00:00:00",
         "2025-01-24 00:00:00",
         "2025-01-24 00:00:00",
         "15:45:47",
         "00:00:00",
         "03:30:00"
        ],
        [
         "5",
         "397655.460000001",
         "139302.91",
         "25013283",
         "2025-01-28 20:29:39+00:00",
         "EVENING",
         "GUN",
         "ROBBERY",
         "2300 - 2499 BLOCK OF 11TH STREET NW",
         "397655.46",
         "139302.91",
         "1",
         "1B",
         "3",
         "304",
         "2",
         "3",
         "3600",
         "38.9215953471",
         "-77.0270364945",
         "2025-01-28 17:50:00+00:00",
         "2025-01-28 17:52:00+00:00",
         "685784831",
         "2025-01-28 00:00:00",
         "2025-01-28 00:00:00",
         "2025-01-28 00:00:00",
         "20:29:39",
         "17:50:00",
         "17:52:00"
        ],
        [
         "6",
         "397921.520000003",
         "138712.809999999",
         "25002549",
         "2025-01-06 03:12:43+00:00",
         "EVENING",
         "OTHERS",
         "THEFT/OTHER",
         "1900 - 1999 BLOCK OF 9TH STREET NW",
         "397921.52",
         "138712.81",
         "1",
         "1B",
         "3",
         "305",
         "3",
         "2",
         "4402",
         "38.9162802028",
         "-77.0239665883",
         "2025-01-05 11:00:00+00:00",
         "2025-01-05 11:30:00+00:00",
         "685784832",
         "2025-01-06 00:00:00",
         "2025-01-05 00:00:00",
         "2025-01-05 00:00:00",
         "03:12:43",
         "11:00:00",
         "11:30:00"
        ],
        [
         "7",
         "401627.936999999",
         "132937.326900002",
         "25420547",
         "2025-02-06 12:01:12+00:00",
         "DAY",
         "OTHERS",
         "THEFT/OTHER",
         "1600 - 1699 BLOCK OF V STREET SE",
         "401627.936959464",
         "132937.326936797",
         "8",
         "8A",
         "7",
         "701",
         "28",
         "2",
         "7504",
         "38.8642534441",
         "-76.9812422284",
         "2025-02-05 21:31:00+00:00",
         "2025-02-05 21:40:00+00:00",
         "685784987",
         "2025-02-06 00:00:00",
         "2025-02-05 00:00:00",
         "2025-02-05 00:00:00",
         "12:01:12",
         "21:31:00",
         "21:40:00"
        ],
        [
         "8",
         "393619.539999999",
         "143740.09",
         "25420388",
         "2025-01-30 11:31:22+00:00",
         "MIDNIGHT",
         "OTHERS",
         "THEFT/OTHER",
         "5400 - 5419 BLOCK OF CONNECTICUT AVENUE NW",
         "393619.54",
         "143740.09",
         "3",
         "3/4G",
         "2",
         "201",
         "10",
         "1",
         "1100",
         "38.9615466978",
         "-77.073618699",
         "2024-12-23 15:00:00+00:00",
         "2025-01-22 00:50:00+00:00",
         "685785027",
         "2025-01-30 00:00:00",
         "2024-12-23 00:00:00",
         "2025-01-22 00:00:00",
         "11:31:22",
         "15:00:00",
         "00:50:00"
        ],
        [
         "9",
         "399868.920000002",
         "143373.539999999",
         "25018642",
         "2025-02-08 02:07:45+00:00",
         "EVENING",
         "OTHERS",
         "THEFT/OTHER",
         "310 - 399 BLOCK OF RIGGS ROAD NE",
         "399868.92",
         "143373.54",
         "4",
         "4B",
         "4",
         "406",
         "19",
         "3",
         "9505",
         "38.9582678873",
         "-77.0015123508",
         "2025-02-07 22:34:00+00:00",
         "2025-02-07 23:56:00+00:00",
         "685785032",
         "2025-02-08 00:00:00",
         "2025-02-07 00:00:00",
         "2025-02-07 00:00:00",
         "02:07:45",
         "22:34:00",
         "23:56:00"
        ]
       ],
       "shape": {
        "columns": 28,
        "rows": 10
       }
      },
      "text/html": [
       "<div>\n",
       "<style scoped>\n",
       "    .dataframe tbody tr th:only-of-type {\n",
       "        vertical-align: middle;\n",
       "    }\n",
       "\n",
       "    .dataframe tbody tr th {\n",
       "        vertical-align: top;\n",
       "    }\n",
       "\n",
       "    .dataframe thead th {\n",
       "        text-align: right;\n",
       "    }\n",
       "</style>\n",
       "<table border=\"1\" class=\"dataframe\">\n",
       "  <thead>\n",
       "    <tr style=\"text-align: right;\">\n",
       "      <th></th>\n",
       "      <th>X</th>\n",
       "      <th>Y</th>\n",
       "      <th>CCN</th>\n",
       "      <th>REPORT_DAT</th>\n",
       "      <th>SHIFT</th>\n",
       "      <th>METHOD</th>\n",
       "      <th>OFFENSE</th>\n",
       "      <th>BLOCK</th>\n",
       "      <th>XBLOCK</th>\n",
       "      <th>YBLOCK</th>\n",
       "      <th>...</th>\n",
       "      <th>LONGITUDE</th>\n",
       "      <th>START_DATE</th>\n",
       "      <th>END_DATE</th>\n",
       "      <th>OBJECTID</th>\n",
       "      <th>DATE(REPORT)</th>\n",
       "      <th>DATE(START)</th>\n",
       "      <th>DATE(END)</th>\n",
       "      <th>TIME(REPORT)</th>\n",
       "      <th>TIME(START)</th>\n",
       "      <th>TIME(END)</th>\n",
       "    </tr>\n",
       "  </thead>\n",
       "  <tbody>\n",
       "    <tr>\n",
       "      <th>0</th>\n",
       "      <td>400046.410</td>\n",
       "      <td>137753.6500</td>\n",
       "      <td>25017503</td>\n",
       "      <td>2025-02-05 19:50:58+00:00</td>\n",
       "      <td>DAY</td>\n",
       "      <td>OTHERS</td>\n",
       "      <td>MOTOR VEHICLE THEFT</td>\n",
       "      <td>400 - 499 BLOCK OF MORSE STREET NE</td>\n",
       "      <td>400046.410000</td>\n",
       "      <td>137753.650000</td>\n",
       "      <td>...</td>\n",
       "      <td>-76.999465</td>\n",
       "      <td>2025-02-05 19:22:00+00:00</td>\n",
       "      <td>2025-02-05 19:25:00+00:00</td>\n",
       "      <td>685784661</td>\n",
       "      <td>2025-02-05</td>\n",
       "      <td>2025-02-05</td>\n",
       "      <td>2025-02-05</td>\n",
       "      <td>19:50:58</td>\n",
       "      <td>19:22:00</td>\n",
       "      <td>19:25:00</td>\n",
       "    </tr>\n",
       "    <tr>\n",
       "      <th>1</th>\n",
       "      <td>397868.680</td>\n",
       "      <td>141140.3800</td>\n",
       "      <td>25013087</td>\n",
       "      <td>2025-01-28 12:08:29+00:00</td>\n",
       "      <td>DAY</td>\n",
       "      <td>OTHERS</td>\n",
       "      <td>THEFT/OTHER</td>\n",
       "      <td>3800 - 3899 BLOCK OF GEORGIA AVENUE NW</td>\n",
       "      <td>397868.680000</td>\n",
       "      <td>141140.380000</td>\n",
       "      <td>...</td>\n",
       "      <td>-77.024583</td>\n",
       "      <td>2025-01-28 11:06:00+00:00</td>\n",
       "      <td>2025-01-28 11:07:00+00:00</td>\n",
       "      <td>685784675</td>\n",
       "      <td>2025-01-28</td>\n",
       "      <td>2025-01-28</td>\n",
       "      <td>2025-01-28</td>\n",
       "      <td>12:08:29</td>\n",
       "      <td>11:06:00</td>\n",
       "      <td>11:07:00</td>\n",
       "    </tr>\n",
       "    <tr>\n",
       "      <th>2</th>\n",
       "      <td>399489.480</td>\n",
       "      <td>137372.6500</td>\n",
       "      <td>25012701</td>\n",
       "      <td>2025-01-27 17:28:06+00:00</td>\n",
       "      <td>DAY</td>\n",
       "      <td>OTHERS</td>\n",
       "      <td>ROBBERY</td>\n",
       "      <td>1100 - 1150 BLOCK OF 1ST STREET NE</td>\n",
       "      <td>399489.480000</td>\n",
       "      <td>137372.650000</td>\n",
       "      <td>...</td>\n",
       "      <td>-77.005886</td>\n",
       "      <td>2025-01-27 15:00:00+00:00</td>\n",
       "      <td>2025-01-27 15:20:00+00:00</td>\n",
       "      <td>685784796</td>\n",
       "      <td>2025-01-27</td>\n",
       "      <td>2025-01-27</td>\n",
       "      <td>2025-01-27</td>\n",
       "      <td>17:28:06</td>\n",
       "      <td>15:00:00</td>\n",
       "      <td>15:20:00</td>\n",
       "    </tr>\n",
       "    <tr>\n",
       "      <th>3</th>\n",
       "      <td>401498.970</td>\n",
       "      <td>138734.5700</td>\n",
       "      <td>25008887</td>\n",
       "      <td>2025-01-19 19:59:51+00:00</td>\n",
       "      <td>DAY</td>\n",
       "      <td>OTHERS</td>\n",
       "      <td>THEFT/OTHER</td>\n",
       "      <td>1500 - 1599 BLOCK OF NEW YORK AVENUE NE</td>\n",
       "      <td>401498.970000</td>\n",
       "      <td>138734.570000</td>\n",
       "      <td>...</td>\n",
       "      <td>-76.982716</td>\n",
       "      <td>2025-01-19 19:22:00+00:00</td>\n",
       "      <td>2025-01-19 19:32:00+00:00</td>\n",
       "      <td>685784829</td>\n",
       "      <td>2025-01-19</td>\n",
       "      <td>2025-01-19</td>\n",
       "      <td>2025-01-19</td>\n",
       "      <td>19:59:51</td>\n",
       "      <td>19:22:00</td>\n",
       "      <td>19:32:00</td>\n",
       "    </tr>\n",
       "    <tr>\n",
       "      <th>4</th>\n",
       "      <td>400212.850</td>\n",
       "      <td>137949.3300</td>\n",
       "      <td>25011684</td>\n",
       "      <td>2025-01-25 15:45:47+00:00</td>\n",
       "      <td>DAY</td>\n",
       "      <td>OTHERS</td>\n",
       "      <td>THEFT F/AUTO</td>\n",
       "      <td>1300 - 1399 BLOCK OF 5TH STREET NE</td>\n",
       "      <td>400212.850000</td>\n",
       "      <td>137949.330000</td>\n",
       "      <td>...</td>\n",
       "      <td>-76.997546</td>\n",
       "      <td>2025-01-24 00:00:00+00:00</td>\n",
       "      <td>2025-01-24 03:30:00+00:00</td>\n",
       "      <td>685784830</td>\n",
       "      <td>2025-01-25</td>\n",
       "      <td>2025-01-24</td>\n",
       "      <td>2025-01-24</td>\n",
       "      <td>15:45:47</td>\n",
       "      <td>00:00:00</td>\n",
       "      <td>03:30:00</td>\n",
       "    </tr>\n",
       "    <tr>\n",
       "      <th>5</th>\n",
       "      <td>397655.460</td>\n",
       "      <td>139302.9100</td>\n",
       "      <td>25013283</td>\n",
       "      <td>2025-01-28 20:29:39+00:00</td>\n",
       "      <td>EVENING</td>\n",
       "      <td>GUN</td>\n",
       "      <td>ROBBERY</td>\n",
       "      <td>2300 - 2499 BLOCK OF 11TH STREET NW</td>\n",
       "      <td>397655.460000</td>\n",
       "      <td>139302.910000</td>\n",
       "      <td>...</td>\n",
       "      <td>-77.027036</td>\n",
       "      <td>2025-01-28 17:50:00+00:00</td>\n",
       "      <td>2025-01-28 17:52:00+00:00</td>\n",
       "      <td>685784831</td>\n",
       "      <td>2025-01-28</td>\n",
       "      <td>2025-01-28</td>\n",
       "      <td>2025-01-28</td>\n",
       "      <td>20:29:39</td>\n",
       "      <td>17:50:00</td>\n",
       "      <td>17:52:00</td>\n",
       "    </tr>\n",
       "    <tr>\n",
       "      <th>6</th>\n",
       "      <td>397921.520</td>\n",
       "      <td>138712.8100</td>\n",
       "      <td>25002549</td>\n",
       "      <td>2025-01-06 03:12:43+00:00</td>\n",
       "      <td>EVENING</td>\n",
       "      <td>OTHERS</td>\n",
       "      <td>THEFT/OTHER</td>\n",
       "      <td>1900 - 1999 BLOCK OF 9TH STREET NW</td>\n",
       "      <td>397921.520000</td>\n",
       "      <td>138712.810000</td>\n",
       "      <td>...</td>\n",
       "      <td>-77.023967</td>\n",
       "      <td>2025-01-05 11:00:00+00:00</td>\n",
       "      <td>2025-01-05 11:30:00+00:00</td>\n",
       "      <td>685784832</td>\n",
       "      <td>2025-01-06</td>\n",
       "      <td>2025-01-05</td>\n",
       "      <td>2025-01-05</td>\n",
       "      <td>03:12:43</td>\n",
       "      <td>11:00:00</td>\n",
       "      <td>11:30:00</td>\n",
       "    </tr>\n",
       "    <tr>\n",
       "      <th>7</th>\n",
       "      <td>401627.937</td>\n",
       "      <td>132937.3269</td>\n",
       "      <td>25420547</td>\n",
       "      <td>2025-02-06 12:01:12+00:00</td>\n",
       "      <td>DAY</td>\n",
       "      <td>OTHERS</td>\n",
       "      <td>THEFT/OTHER</td>\n",
       "      <td>1600 - 1699 BLOCK OF V STREET SE</td>\n",
       "      <td>401627.936959</td>\n",
       "      <td>132937.326937</td>\n",
       "      <td>...</td>\n",
       "      <td>-76.981242</td>\n",
       "      <td>2025-02-05 21:31:00+00:00</td>\n",
       "      <td>2025-02-05 21:40:00+00:00</td>\n",
       "      <td>685784987</td>\n",
       "      <td>2025-02-06</td>\n",
       "      <td>2025-02-05</td>\n",
       "      <td>2025-02-05</td>\n",
       "      <td>12:01:12</td>\n",
       "      <td>21:31:00</td>\n",
       "      <td>21:40:00</td>\n",
       "    </tr>\n",
       "    <tr>\n",
       "      <th>8</th>\n",
       "      <td>393619.540</td>\n",
       "      <td>143740.0900</td>\n",
       "      <td>25420388</td>\n",
       "      <td>2025-01-30 11:31:22+00:00</td>\n",
       "      <td>MIDNIGHT</td>\n",
       "      <td>OTHERS</td>\n",
       "      <td>THEFT/OTHER</td>\n",
       "      <td>5400 - 5419 BLOCK OF CONNECTICUT AVENUE NW</td>\n",
       "      <td>393619.540000</td>\n",
       "      <td>143740.090000</td>\n",
       "      <td>...</td>\n",
       "      <td>-77.073619</td>\n",
       "      <td>2024-12-23 15:00:00+00:00</td>\n",
       "      <td>2025-01-22 00:50:00+00:00</td>\n",
       "      <td>685785027</td>\n",
       "      <td>2025-01-30</td>\n",
       "      <td>2024-12-23</td>\n",
       "      <td>2025-01-22</td>\n",
       "      <td>11:31:22</td>\n",
       "      <td>15:00:00</td>\n",
       "      <td>00:50:00</td>\n",
       "    </tr>\n",
       "    <tr>\n",
       "      <th>9</th>\n",
       "      <td>399868.920</td>\n",
       "      <td>143373.5400</td>\n",
       "      <td>25018642</td>\n",
       "      <td>2025-02-08 02:07:45+00:00</td>\n",
       "      <td>EVENING</td>\n",
       "      <td>OTHERS</td>\n",
       "      <td>THEFT/OTHER</td>\n",
       "      <td>310 - 399 BLOCK OF RIGGS ROAD NE</td>\n",
       "      <td>399868.920000</td>\n",
       "      <td>143373.540000</td>\n",
       "      <td>...</td>\n",
       "      <td>-77.001512</td>\n",
       "      <td>2025-02-07 22:34:00+00:00</td>\n",
       "      <td>2025-02-07 23:56:00+00:00</td>\n",
       "      <td>685785032</td>\n",
       "      <td>2025-02-08</td>\n",
       "      <td>2025-02-07</td>\n",
       "      <td>2025-02-07</td>\n",
       "      <td>02:07:45</td>\n",
       "      <td>22:34:00</td>\n",
       "      <td>23:56:00</td>\n",
       "    </tr>\n",
       "  </tbody>\n",
       "</table>\n",
       "<p>10 rows × 28 columns</p>\n",
       "</div>"
      ],
      "text/plain": [
       "            X            Y       CCN                REPORT_DAT     SHIFT  \\\n",
       "0  400046.410  137753.6500  25017503 2025-02-05 19:50:58+00:00       DAY   \n",
       "1  397868.680  141140.3800  25013087 2025-01-28 12:08:29+00:00       DAY   \n",
       "2  399489.480  137372.6500  25012701 2025-01-27 17:28:06+00:00       DAY   \n",
       "3  401498.970  138734.5700  25008887 2025-01-19 19:59:51+00:00       DAY   \n",
       "4  400212.850  137949.3300  25011684 2025-01-25 15:45:47+00:00       DAY   \n",
       "5  397655.460  139302.9100  25013283 2025-01-28 20:29:39+00:00   EVENING   \n",
       "6  397921.520  138712.8100  25002549 2025-01-06 03:12:43+00:00   EVENING   \n",
       "7  401627.937  132937.3269  25420547 2025-02-06 12:01:12+00:00       DAY   \n",
       "8  393619.540  143740.0900  25420388 2025-01-30 11:31:22+00:00  MIDNIGHT   \n",
       "9  399868.920  143373.5400  25018642 2025-02-08 02:07:45+00:00   EVENING   \n",
       "\n",
       "   METHOD              OFFENSE                                       BLOCK  \\\n",
       "0  OTHERS  MOTOR VEHICLE THEFT          400 - 499 BLOCK OF MORSE STREET NE   \n",
       "1  OTHERS          THEFT/OTHER      3800 - 3899 BLOCK OF GEORGIA AVENUE NW   \n",
       "2  OTHERS              ROBBERY          1100 - 1150 BLOCK OF 1ST STREET NE   \n",
       "3  OTHERS          THEFT/OTHER     1500 - 1599 BLOCK OF NEW YORK AVENUE NE   \n",
       "4  OTHERS         THEFT F/AUTO          1300 - 1399 BLOCK OF 5TH STREET NE   \n",
       "5     GUN              ROBBERY         2300 - 2499 BLOCK OF 11TH STREET NW   \n",
       "6  OTHERS          THEFT/OTHER          1900 - 1999 BLOCK OF 9TH STREET NW   \n",
       "7  OTHERS          THEFT/OTHER            1600 - 1699 BLOCK OF V STREET SE   \n",
       "8  OTHERS          THEFT/OTHER  5400 - 5419 BLOCK OF CONNECTICUT AVENUE NW   \n",
       "9  OTHERS          THEFT/OTHER            310 - 399 BLOCK OF RIGGS ROAD NE   \n",
       "\n",
       "          XBLOCK         YBLOCK  ...  LONGITUDE                START_DATE  \\\n",
       "0  400046.410000  137753.650000  ... -76.999465 2025-02-05 19:22:00+00:00   \n",
       "1  397868.680000  141140.380000  ... -77.024583 2025-01-28 11:06:00+00:00   \n",
       "2  399489.480000  137372.650000  ... -77.005886 2025-01-27 15:00:00+00:00   \n",
       "3  401498.970000  138734.570000  ... -76.982716 2025-01-19 19:22:00+00:00   \n",
       "4  400212.850000  137949.330000  ... -76.997546 2025-01-24 00:00:00+00:00   \n",
       "5  397655.460000  139302.910000  ... -77.027036 2025-01-28 17:50:00+00:00   \n",
       "6  397921.520000  138712.810000  ... -77.023967 2025-01-05 11:00:00+00:00   \n",
       "7  401627.936959  132937.326937  ... -76.981242 2025-02-05 21:31:00+00:00   \n",
       "8  393619.540000  143740.090000  ... -77.073619 2024-12-23 15:00:00+00:00   \n",
       "9  399868.920000  143373.540000  ... -77.001512 2025-02-07 22:34:00+00:00   \n",
       "\n",
       "                   END_DATE   OBJECTID  DATE(REPORT)  DATE(START)  DATE(END)  \\\n",
       "0 2025-02-05 19:25:00+00:00  685784661    2025-02-05   2025-02-05 2025-02-05   \n",
       "1 2025-01-28 11:07:00+00:00  685784675    2025-01-28   2025-01-28 2025-01-28   \n",
       "2 2025-01-27 15:20:00+00:00  685784796    2025-01-27   2025-01-27 2025-01-27   \n",
       "3 2025-01-19 19:32:00+00:00  685784829    2025-01-19   2025-01-19 2025-01-19   \n",
       "4 2025-01-24 03:30:00+00:00  685784830    2025-01-25   2025-01-24 2025-01-24   \n",
       "5 2025-01-28 17:52:00+00:00  685784831    2025-01-28   2025-01-28 2025-01-28   \n",
       "6 2025-01-05 11:30:00+00:00  685784832    2025-01-06   2025-01-05 2025-01-05   \n",
       "7 2025-02-05 21:40:00+00:00  685784987    2025-02-06   2025-02-05 2025-02-05   \n",
       "8 2025-01-22 00:50:00+00:00  685785027    2025-01-30   2024-12-23 2025-01-22   \n",
       "9 2025-02-07 23:56:00+00:00  685785032    2025-02-08   2025-02-07 2025-02-07   \n",
       "\n",
       "   TIME(REPORT)  TIME(START) TIME(END)  \n",
       "0      19:50:58     19:22:00  19:25:00  \n",
       "1      12:08:29     11:06:00  11:07:00  \n",
       "2      17:28:06     15:00:00  15:20:00  \n",
       "3      19:59:51     19:22:00  19:32:00  \n",
       "4      15:45:47     00:00:00  03:30:00  \n",
       "5      20:29:39     17:50:00  17:52:00  \n",
       "6      03:12:43     11:00:00  11:30:00  \n",
       "7      12:01:12     21:31:00  21:40:00  \n",
       "8      11:31:22     15:00:00  00:50:00  \n",
       "9      02:07:45     22:34:00  23:56:00  \n",
       "\n",
       "[10 rows x 28 columns]"
      ]
     },
     "execution_count": 82,
     "metadata": {},
     "output_type": "execute_result"
    }
   ],
   "source": [
    "df_new_3.head(10)"
   ]
  },
  {
   "cell_type": "code",
   "execution_count": 83,
   "metadata": {},
   "outputs": [
    {
     "name": "stdout",
     "output_type": "stream",
     "text": [
      "<class 'pandas.core.frame.DataFrame'>\n",
      "RangeIndex: 4164 entries, 0 to 4163\n",
      "Data columns (total 28 columns):\n",
      " #   Column                Non-Null Count  Dtype              \n",
      "---  ------                --------------  -----              \n",
      " 0   X                     4164 non-null   float64            \n",
      " 1   Y                     4164 non-null   float64            \n",
      " 2   CCN                   4164 non-null   int64              \n",
      " 3   REPORT_DAT            4164 non-null   datetime64[ns, UTC]\n",
      " 4   SHIFT                 4164 non-null   category           \n",
      " 5   METHOD                4164 non-null   category           \n",
      " 6   OFFENSE               4164 non-null   category           \n",
      " 7   BLOCK                 4164 non-null   object             \n",
      " 8   XBLOCK                4164 non-null   float64            \n",
      " 9   YBLOCK                4164 non-null   float64            \n",
      " 10  WARD                  4164 non-null   int64              \n",
      " 11  ANC                   4164 non-null   category           \n",
      " 12  DISTRICT              4164 non-null   int64              \n",
      " 13  PSA                   4164 non-null   int64              \n",
      " 14  NEIGHBORHOOD_CLUSTER  4164 non-null   Int64              \n",
      " 15  BLOCK_GROUP           4164 non-null   int64              \n",
      " 16  CENSUS_TRACT          4164 non-null   int64              \n",
      " 17  LATITUDE              4164 non-null   float64            \n",
      " 18  LONGITUDE             4164 non-null   float64            \n",
      " 19  START_DATE            4164 non-null   datetime64[ns, UTC]\n",
      " 20  END_DATE              4164 non-null   datetime64[ns, UTC]\n",
      " 21  OBJECTID              4164 non-null   int64              \n",
      " 22  DATE(REPORT)          4164 non-null   datetime64[ns]     \n",
      " 23  DATE(START)           4164 non-null   datetime64[ns]     \n",
      " 24  DATE(END)             4164 non-null   datetime64[ns]     \n",
      " 25  TIME(REPORT)          4164 non-null   object             \n",
      " 26  TIME(START)           4164 non-null   object             \n",
      " 27  TIME(END)             4164 non-null   object             \n",
      "dtypes: Int64(1), category(4), datetime64[ns, UTC](3), datetime64[ns](3), float64(6), int64(7), object(4)\n",
      "memory usage: 803.2+ KB\n"
     ]
    }
   ],
   "source": [
    "df_new_3.info()"
   ]
  },
  {
   "cell_type": "code",
   "execution_count": 84,
   "metadata": {},
   "outputs": [],
   "source": [
    "time_column = ['TIME(REPORT)', 'TIME(START)', 'TIME(END)']\n",
    "for col in time_column:\n",
    "    df_new_3[col] = pd.to_timedelta(df_new_3[col].astype(str))"
   ]
  },
  {
   "cell_type": "code",
   "execution_count": 85,
   "metadata": {},
   "outputs": [
    {
     "name": "stdout",
     "output_type": "stream",
     "text": [
      "<class 'pandas.core.frame.DataFrame'>\n",
      "RangeIndex: 4164 entries, 0 to 4163\n",
      "Data columns (total 28 columns):\n",
      " #   Column                Non-Null Count  Dtype              \n",
      "---  ------                --------------  -----              \n",
      " 0   X                     4164 non-null   float64            \n",
      " 1   Y                     4164 non-null   float64            \n",
      " 2   CCN                   4164 non-null   int64              \n",
      " 3   REPORT_DAT            4164 non-null   datetime64[ns, UTC]\n",
      " 4   SHIFT                 4164 non-null   category           \n",
      " 5   METHOD                4164 non-null   category           \n",
      " 6   OFFENSE               4164 non-null   category           \n",
      " 7   BLOCK                 4164 non-null   object             \n",
      " 8   XBLOCK                4164 non-null   float64            \n",
      " 9   YBLOCK                4164 non-null   float64            \n",
      " 10  WARD                  4164 non-null   int64              \n",
      " 11  ANC                   4164 non-null   category           \n",
      " 12  DISTRICT              4164 non-null   int64              \n",
      " 13  PSA                   4164 non-null   int64              \n",
      " 14  NEIGHBORHOOD_CLUSTER  4164 non-null   Int64              \n",
      " 15  BLOCK_GROUP           4164 non-null   int64              \n",
      " 16  CENSUS_TRACT          4164 non-null   int64              \n",
      " 17  LATITUDE              4164 non-null   float64            \n",
      " 18  LONGITUDE             4164 non-null   float64            \n",
      " 19  START_DATE            4164 non-null   datetime64[ns, UTC]\n",
      " 20  END_DATE              4164 non-null   datetime64[ns, UTC]\n",
      " 21  OBJECTID              4164 non-null   int64              \n",
      " 22  DATE(REPORT)          4164 non-null   datetime64[ns]     \n",
      " 23  DATE(START)           4164 non-null   datetime64[ns]     \n",
      " 24  DATE(END)             4164 non-null   datetime64[ns]     \n",
      " 25  TIME(REPORT)          4164 non-null   timedelta64[ns]    \n",
      " 26  TIME(START)           4164 non-null   timedelta64[ns]    \n",
      " 27  TIME(END)             4164 non-null   timedelta64[ns]    \n",
      "dtypes: Int64(1), category(4), datetime64[ns, UTC](3), datetime64[ns](3), float64(6), int64(7), object(1), timedelta64[ns](3)\n",
      "memory usage: 803.2+ KB\n"
     ]
    }
   ],
   "source": [
    "df_new_3.info()"
   ]
  },
  {
   "cell_type": "markdown",
   "metadata": {},
   "source": [
    "Saving final result"
   ]
  },
  {
   "cell_type": "code",
   "execution_count": 86,
   "metadata": {},
   "outputs": [],
   "source": [
    "df_new_3.to_csv('data_final.csv', index=False)"
   ]
  },
  {
   "cell_type": "code",
   "execution_count": 87,
   "metadata": {},
   "outputs": [],
   "source": [
    "df_new_3.to_parquet('data_final.parquet', engine='pyarrow')"
   ]
  },
  {
   "cell_type": "markdown",
   "metadata": {},
   "source": [
    "<h3><b>DATA ANALYSIS</b></h3> "
   ]
  },
  {
   "cell_type": "markdown",
   "metadata": {},
   "source": [
    "**Crime data**"
   ]
  },
  {
   "cell_type": "code",
   "execution_count": 88,
   "metadata": {},
   "outputs": [
    {
     "data": {
      "application/vnd.microsoft.datawrangler.viewer.v0+json": {
       "columns": [
        {
         "name": "index",
         "rawType": "int64",
         "type": "integer"
        },
        {
         "name": "X",
         "rawType": "float64",
         "type": "float"
        },
        {
         "name": "Y",
         "rawType": "float64",
         "type": "float"
        },
        {
         "name": "CCN",
         "rawType": "int64",
         "type": "integer"
        },
        {
         "name": "REPORT_DAT",
         "rawType": "datetime64[ns, UTC]",
         "type": "unknown"
        },
        {
         "name": "SHIFT",
         "rawType": "category",
         "type": "unknown"
        },
        {
         "name": "METHOD",
         "rawType": "category",
         "type": "unknown"
        },
        {
         "name": "OFFENSE",
         "rawType": "category",
         "type": "unknown"
        },
        {
         "name": "BLOCK",
         "rawType": "object",
         "type": "string"
        },
        {
         "name": "XBLOCK",
         "rawType": "float64",
         "type": "float"
        },
        {
         "name": "YBLOCK",
         "rawType": "float64",
         "type": "float"
        },
        {
         "name": "WARD",
         "rawType": "int64",
         "type": "integer"
        },
        {
         "name": "ANC",
         "rawType": "category",
         "type": "unknown"
        },
        {
         "name": "DISTRICT",
         "rawType": "int64",
         "type": "integer"
        },
        {
         "name": "PSA",
         "rawType": "int64",
         "type": "integer"
        },
        {
         "name": "NEIGHBORHOOD_CLUSTER",
         "rawType": "Int64",
         "type": "integer"
        },
        {
         "name": "BLOCK_GROUP",
         "rawType": "int64",
         "type": "integer"
        },
        {
         "name": "CENSUS_TRACT",
         "rawType": "int64",
         "type": "integer"
        },
        {
         "name": "LATITUDE",
         "rawType": "float64",
         "type": "float"
        },
        {
         "name": "LONGITUDE",
         "rawType": "float64",
         "type": "float"
        },
        {
         "name": "START_DATE",
         "rawType": "datetime64[ns, UTC]",
         "type": "unknown"
        },
        {
         "name": "END_DATE",
         "rawType": "datetime64[ns, UTC]",
         "type": "unknown"
        },
        {
         "name": "OBJECTID",
         "rawType": "int64",
         "type": "integer"
        },
        {
         "name": "DATE(REPORT)",
         "rawType": "datetime64[ns]",
         "type": "datetime"
        },
        {
         "name": "DATE(START)",
         "rawType": "datetime64[ns]",
         "type": "datetime"
        },
        {
         "name": "DATE(END)",
         "rawType": "datetime64[ns]",
         "type": "datetime"
        },
        {
         "name": "TIME(REPORT)",
         "rawType": "timedelta64[ns]",
         "type": "unknown"
        },
        {
         "name": "TIME(START)",
         "rawType": "timedelta64[ns]",
         "type": "unknown"
        },
        {
         "name": "TIME(END)",
         "rawType": "timedelta64[ns]",
         "type": "unknown"
        }
       ],
       "conversionMethod": "pd.DataFrame",
       "ref": "8f33732a-2267-46bc-99f3-0a1da1169854",
       "rows": [
        [
         "0",
         "400046.409999996",
         "137753.649999999",
         "25017503",
         "2025-02-05 19:50:58+00:00",
         "DAY",
         "OTHERS",
         "MOTOR VEHICLE THEFT",
         "400 - 499 BLOCK OF MORSE STREET NE",
         "400046.41",
         "137753.65",
         "5",
         "5D",
         "5",
         "501",
         "23",
         "2",
         "8803",
         "38.907642221",
         "-76.9994649192",
         "2025-02-05 19:22:00+00:00",
         "2025-02-05 19:25:00+00:00",
         "685784661",
         "2025-02-05 00:00:00",
         "2025-02-05 00:00:00",
         "2025-02-05 00:00:00",
         "0 days 19:50:58",
         "0 days 19:22:00",
         "0 days 19:25:00"
        ],
        [
         "1",
         "397868.68",
         "141140.379999999",
         "25013087",
         "2025-01-28 12:08:29+00:00",
         "DAY",
         "OTHERS",
         "THEFT/OTHER",
         "3800 - 3899 BLOCK OF GEORGIA AVENUE NW",
         "397868.68",
         "141140.38",
         "4",
         "4C",
         "4",
         "404",
         "18",
         "2",
         "2503",
         "38.938148387",
         "-77.024583415",
         "2025-01-28 11:06:00+00:00",
         "2025-01-28 11:07:00+00:00",
         "685784675",
         "2025-01-28 00:00:00",
         "2025-01-28 00:00:00",
         "2025-01-28 00:00:00",
         "0 days 12:08:29",
         "0 days 11:06:00",
         "0 days 11:07:00"
        ],
        [
         "2",
         "399489.479999997",
         "137372.649999999",
         "25012701",
         "2025-01-27 17:28:06+00:00",
         "DAY",
         "OTHERS",
         "ROBBERY",
         "1100 - 1150 BLOCK OF 1ST STREET NE",
         "399489.48",
         "137372.65",
         "6",
         "6E",
         "5",
         "501",
         "25",
         "3",
         "10603",
         "38.9042098931",
         "-77.0058857204",
         "2025-01-27 15:00:00+00:00",
         "2025-01-27 15:20:00+00:00",
         "685784796",
         "2025-01-27 00:00:00",
         "2025-01-27 00:00:00",
         "2025-01-27 00:00:00",
         "0 days 17:28:06",
         "0 days 15:00:00",
         "0 days 15:20:00"
        ],
        [
         "3",
         "401498.969999999",
         "138734.57",
         "25008887",
         "2025-01-19 19:59:51+00:00",
         "DAY",
         "OTHERS",
         "THEFT/OTHER",
         "1500 - 1599 BLOCK OF NEW YORK AVENUE NE",
         "401498.97",
         "138734.57",
         "5",
         "5D",
         "5",
         "506",
         "23",
         "1",
         "8803",
         "38.9164774036",
         "-76.9827155922",
         "2025-01-19 19:22:00+00:00",
         "2025-01-19 19:32:00+00:00",
         "685784829",
         "2025-01-19 00:00:00",
         "2025-01-19 00:00:00",
         "2025-01-19 00:00:00",
         "0 days 19:59:51",
         "0 days 19:22:00",
         "0 days 19:32:00"
        ],
        [
         "4",
         "400212.850000001",
         "137949.329999998",
         "25011684",
         "2025-01-25 15:45:47+00:00",
         "DAY",
         "OTHERS",
         "THEFT F/AUTO",
         "1300 - 1399 BLOCK OF 5TH STREET NE",
         "400212.85",
         "137949.33",
         "5",
         "5D",
         "5",
         "501",
         "23",
         "2",
         "8803",
         "38.9094049494",
         "-76.9975459006",
         "2025-01-24 00:00:00+00:00",
         "2025-01-24 03:30:00+00:00",
         "685784830",
         "2025-01-25 00:00:00",
         "2025-01-24 00:00:00",
         "2025-01-24 00:00:00",
         "0 days 15:45:47",
         "0 days 00:00:00",
         "0 days 03:30:00"
        ],
        [
         "5",
         "397655.460000001",
         "139302.91",
         "25013283",
         "2025-01-28 20:29:39+00:00",
         "EVENING",
         "GUN",
         "ROBBERY",
         "2300 - 2499 BLOCK OF 11TH STREET NW",
         "397655.46",
         "139302.91",
         "1",
         "1B",
         "3",
         "304",
         "2",
         "3",
         "3600",
         "38.9215953471",
         "-77.0270364945",
         "2025-01-28 17:50:00+00:00",
         "2025-01-28 17:52:00+00:00",
         "685784831",
         "2025-01-28 00:00:00",
         "2025-01-28 00:00:00",
         "2025-01-28 00:00:00",
         "0 days 20:29:39",
         "0 days 17:50:00",
         "0 days 17:52:00"
        ],
        [
         "6",
         "397921.520000003",
         "138712.809999999",
         "25002549",
         "2025-01-06 03:12:43+00:00",
         "EVENING",
         "OTHERS",
         "THEFT/OTHER",
         "1900 - 1999 BLOCK OF 9TH STREET NW",
         "397921.52",
         "138712.81",
         "1",
         "1B",
         "3",
         "305",
         "3",
         "2",
         "4402",
         "38.9162802028",
         "-77.0239665883",
         "2025-01-05 11:00:00+00:00",
         "2025-01-05 11:30:00+00:00",
         "685784832",
         "2025-01-06 00:00:00",
         "2025-01-05 00:00:00",
         "2025-01-05 00:00:00",
         "0 days 03:12:43",
         "0 days 11:00:00",
         "0 days 11:30:00"
        ],
        [
         "7",
         "401627.936999999",
         "132937.326900002",
         "25420547",
         "2025-02-06 12:01:12+00:00",
         "DAY",
         "OTHERS",
         "THEFT/OTHER",
         "1600 - 1699 BLOCK OF V STREET SE",
         "401627.936959464",
         "132937.326936797",
         "8",
         "8A",
         "7",
         "701",
         "28",
         "2",
         "7504",
         "38.8642534441",
         "-76.9812422284",
         "2025-02-05 21:31:00+00:00",
         "2025-02-05 21:40:00+00:00",
         "685784987",
         "2025-02-06 00:00:00",
         "2025-02-05 00:00:00",
         "2025-02-05 00:00:00",
         "0 days 12:01:12",
         "0 days 21:31:00",
         "0 days 21:40:00"
        ],
        [
         "8",
         "393619.539999999",
         "143740.09",
         "25420388",
         "2025-01-30 11:31:22+00:00",
         "MIDNIGHT",
         "OTHERS",
         "THEFT/OTHER",
         "5400 - 5419 BLOCK OF CONNECTICUT AVENUE NW",
         "393619.54",
         "143740.09",
         "3",
         "3/4G",
         "2",
         "201",
         "10",
         "1",
         "1100",
         "38.9615466978",
         "-77.073618699",
         "2024-12-23 15:00:00+00:00",
         "2025-01-22 00:50:00+00:00",
         "685785027",
         "2025-01-30 00:00:00",
         "2024-12-23 00:00:00",
         "2025-01-22 00:00:00",
         "0 days 11:31:22",
         "0 days 15:00:00",
         "0 days 00:50:00"
        ],
        [
         "9",
         "399868.920000002",
         "143373.539999999",
         "25018642",
         "2025-02-08 02:07:45+00:00",
         "EVENING",
         "OTHERS",
         "THEFT/OTHER",
         "310 - 399 BLOCK OF RIGGS ROAD NE",
         "399868.92",
         "143373.54",
         "4",
         "4B",
         "4",
         "406",
         "19",
         "3",
         "9505",
         "38.9582678873",
         "-77.0015123508",
         "2025-02-07 22:34:00+00:00",
         "2025-02-07 23:56:00+00:00",
         "685785032",
         "2025-02-08 00:00:00",
         "2025-02-07 00:00:00",
         "2025-02-07 00:00:00",
         "0 days 02:07:45",
         "0 days 22:34:00",
         "0 days 23:56:00"
        ]
       ],
       "shape": {
        "columns": 28,
        "rows": 10
       }
      },
      "text/html": [
       "<div>\n",
       "<style scoped>\n",
       "    .dataframe tbody tr th:only-of-type {\n",
       "        vertical-align: middle;\n",
       "    }\n",
       "\n",
       "    .dataframe tbody tr th {\n",
       "        vertical-align: top;\n",
       "    }\n",
       "\n",
       "    .dataframe thead th {\n",
       "        text-align: right;\n",
       "    }\n",
       "</style>\n",
       "<table border=\"1\" class=\"dataframe\">\n",
       "  <thead>\n",
       "    <tr style=\"text-align: right;\">\n",
       "      <th></th>\n",
       "      <th>X</th>\n",
       "      <th>Y</th>\n",
       "      <th>CCN</th>\n",
       "      <th>REPORT_DAT</th>\n",
       "      <th>SHIFT</th>\n",
       "      <th>METHOD</th>\n",
       "      <th>OFFENSE</th>\n",
       "      <th>BLOCK</th>\n",
       "      <th>XBLOCK</th>\n",
       "      <th>YBLOCK</th>\n",
       "      <th>...</th>\n",
       "      <th>LONGITUDE</th>\n",
       "      <th>START_DATE</th>\n",
       "      <th>END_DATE</th>\n",
       "      <th>OBJECTID</th>\n",
       "      <th>DATE(REPORT)</th>\n",
       "      <th>DATE(START)</th>\n",
       "      <th>DATE(END)</th>\n",
       "      <th>TIME(REPORT)</th>\n",
       "      <th>TIME(START)</th>\n",
       "      <th>TIME(END)</th>\n",
       "    </tr>\n",
       "  </thead>\n",
       "  <tbody>\n",
       "    <tr>\n",
       "      <th>0</th>\n",
       "      <td>400046.410</td>\n",
       "      <td>137753.6500</td>\n",
       "      <td>25017503</td>\n",
       "      <td>2025-02-05 19:50:58+00:00</td>\n",
       "      <td>DAY</td>\n",
       "      <td>OTHERS</td>\n",
       "      <td>MOTOR VEHICLE THEFT</td>\n",
       "      <td>400 - 499 BLOCK OF MORSE STREET NE</td>\n",
       "      <td>400046.410000</td>\n",
       "      <td>137753.650000</td>\n",
       "      <td>...</td>\n",
       "      <td>-76.999465</td>\n",
       "      <td>2025-02-05 19:22:00+00:00</td>\n",
       "      <td>2025-02-05 19:25:00+00:00</td>\n",
       "      <td>685784661</td>\n",
       "      <td>2025-02-05</td>\n",
       "      <td>2025-02-05</td>\n",
       "      <td>2025-02-05</td>\n",
       "      <td>0 days 19:50:58</td>\n",
       "      <td>0 days 19:22:00</td>\n",
       "      <td>0 days 19:25:00</td>\n",
       "    </tr>\n",
       "    <tr>\n",
       "      <th>1</th>\n",
       "      <td>397868.680</td>\n",
       "      <td>141140.3800</td>\n",
       "      <td>25013087</td>\n",
       "      <td>2025-01-28 12:08:29+00:00</td>\n",
       "      <td>DAY</td>\n",
       "      <td>OTHERS</td>\n",
       "      <td>THEFT/OTHER</td>\n",
       "      <td>3800 - 3899 BLOCK OF GEORGIA AVENUE NW</td>\n",
       "      <td>397868.680000</td>\n",
       "      <td>141140.380000</td>\n",
       "      <td>...</td>\n",
       "      <td>-77.024583</td>\n",
       "      <td>2025-01-28 11:06:00+00:00</td>\n",
       "      <td>2025-01-28 11:07:00+00:00</td>\n",
       "      <td>685784675</td>\n",
       "      <td>2025-01-28</td>\n",
       "      <td>2025-01-28</td>\n",
       "      <td>2025-01-28</td>\n",
       "      <td>0 days 12:08:29</td>\n",
       "      <td>0 days 11:06:00</td>\n",
       "      <td>0 days 11:07:00</td>\n",
       "    </tr>\n",
       "    <tr>\n",
       "      <th>2</th>\n",
       "      <td>399489.480</td>\n",
       "      <td>137372.6500</td>\n",
       "      <td>25012701</td>\n",
       "      <td>2025-01-27 17:28:06+00:00</td>\n",
       "      <td>DAY</td>\n",
       "      <td>OTHERS</td>\n",
       "      <td>ROBBERY</td>\n",
       "      <td>1100 - 1150 BLOCK OF 1ST STREET NE</td>\n",
       "      <td>399489.480000</td>\n",
       "      <td>137372.650000</td>\n",
       "      <td>...</td>\n",
       "      <td>-77.005886</td>\n",
       "      <td>2025-01-27 15:00:00+00:00</td>\n",
       "      <td>2025-01-27 15:20:00+00:00</td>\n",
       "      <td>685784796</td>\n",
       "      <td>2025-01-27</td>\n",
       "      <td>2025-01-27</td>\n",
       "      <td>2025-01-27</td>\n",
       "      <td>0 days 17:28:06</td>\n",
       "      <td>0 days 15:00:00</td>\n",
       "      <td>0 days 15:20:00</td>\n",
       "    </tr>\n",
       "    <tr>\n",
       "      <th>3</th>\n",
       "      <td>401498.970</td>\n",
       "      <td>138734.5700</td>\n",
       "      <td>25008887</td>\n",
       "      <td>2025-01-19 19:59:51+00:00</td>\n",
       "      <td>DAY</td>\n",
       "      <td>OTHERS</td>\n",
       "      <td>THEFT/OTHER</td>\n",
       "      <td>1500 - 1599 BLOCK OF NEW YORK AVENUE NE</td>\n",
       "      <td>401498.970000</td>\n",
       "      <td>138734.570000</td>\n",
       "      <td>...</td>\n",
       "      <td>-76.982716</td>\n",
       "      <td>2025-01-19 19:22:00+00:00</td>\n",
       "      <td>2025-01-19 19:32:00+00:00</td>\n",
       "      <td>685784829</td>\n",
       "      <td>2025-01-19</td>\n",
       "      <td>2025-01-19</td>\n",
       "      <td>2025-01-19</td>\n",
       "      <td>0 days 19:59:51</td>\n",
       "      <td>0 days 19:22:00</td>\n",
       "      <td>0 days 19:32:00</td>\n",
       "    </tr>\n",
       "    <tr>\n",
       "      <th>4</th>\n",
       "      <td>400212.850</td>\n",
       "      <td>137949.3300</td>\n",
       "      <td>25011684</td>\n",
       "      <td>2025-01-25 15:45:47+00:00</td>\n",
       "      <td>DAY</td>\n",
       "      <td>OTHERS</td>\n",
       "      <td>THEFT F/AUTO</td>\n",
       "      <td>1300 - 1399 BLOCK OF 5TH STREET NE</td>\n",
       "      <td>400212.850000</td>\n",
       "      <td>137949.330000</td>\n",
       "      <td>...</td>\n",
       "      <td>-76.997546</td>\n",
       "      <td>2025-01-24 00:00:00+00:00</td>\n",
       "      <td>2025-01-24 03:30:00+00:00</td>\n",
       "      <td>685784830</td>\n",
       "      <td>2025-01-25</td>\n",
       "      <td>2025-01-24</td>\n",
       "      <td>2025-01-24</td>\n",
       "      <td>0 days 15:45:47</td>\n",
       "      <td>0 days 00:00:00</td>\n",
       "      <td>0 days 03:30:00</td>\n",
       "    </tr>\n",
       "    <tr>\n",
       "      <th>5</th>\n",
       "      <td>397655.460</td>\n",
       "      <td>139302.9100</td>\n",
       "      <td>25013283</td>\n",
       "      <td>2025-01-28 20:29:39+00:00</td>\n",
       "      <td>EVENING</td>\n",
       "      <td>GUN</td>\n",
       "      <td>ROBBERY</td>\n",
       "      <td>2300 - 2499 BLOCK OF 11TH STREET NW</td>\n",
       "      <td>397655.460000</td>\n",
       "      <td>139302.910000</td>\n",
       "      <td>...</td>\n",
       "      <td>-77.027036</td>\n",
       "      <td>2025-01-28 17:50:00+00:00</td>\n",
       "      <td>2025-01-28 17:52:00+00:00</td>\n",
       "      <td>685784831</td>\n",
       "      <td>2025-01-28</td>\n",
       "      <td>2025-01-28</td>\n",
       "      <td>2025-01-28</td>\n",
       "      <td>0 days 20:29:39</td>\n",
       "      <td>0 days 17:50:00</td>\n",
       "      <td>0 days 17:52:00</td>\n",
       "    </tr>\n",
       "    <tr>\n",
       "      <th>6</th>\n",
       "      <td>397921.520</td>\n",
       "      <td>138712.8100</td>\n",
       "      <td>25002549</td>\n",
       "      <td>2025-01-06 03:12:43+00:00</td>\n",
       "      <td>EVENING</td>\n",
       "      <td>OTHERS</td>\n",
       "      <td>THEFT/OTHER</td>\n",
       "      <td>1900 - 1999 BLOCK OF 9TH STREET NW</td>\n",
       "      <td>397921.520000</td>\n",
       "      <td>138712.810000</td>\n",
       "      <td>...</td>\n",
       "      <td>-77.023967</td>\n",
       "      <td>2025-01-05 11:00:00+00:00</td>\n",
       "      <td>2025-01-05 11:30:00+00:00</td>\n",
       "      <td>685784832</td>\n",
       "      <td>2025-01-06</td>\n",
       "      <td>2025-01-05</td>\n",
       "      <td>2025-01-05</td>\n",
       "      <td>0 days 03:12:43</td>\n",
       "      <td>0 days 11:00:00</td>\n",
       "      <td>0 days 11:30:00</td>\n",
       "    </tr>\n",
       "    <tr>\n",
       "      <th>7</th>\n",
       "      <td>401627.937</td>\n",
       "      <td>132937.3269</td>\n",
       "      <td>25420547</td>\n",
       "      <td>2025-02-06 12:01:12+00:00</td>\n",
       "      <td>DAY</td>\n",
       "      <td>OTHERS</td>\n",
       "      <td>THEFT/OTHER</td>\n",
       "      <td>1600 - 1699 BLOCK OF V STREET SE</td>\n",
       "      <td>401627.936959</td>\n",
       "      <td>132937.326937</td>\n",
       "      <td>...</td>\n",
       "      <td>-76.981242</td>\n",
       "      <td>2025-02-05 21:31:00+00:00</td>\n",
       "      <td>2025-02-05 21:40:00+00:00</td>\n",
       "      <td>685784987</td>\n",
       "      <td>2025-02-06</td>\n",
       "      <td>2025-02-05</td>\n",
       "      <td>2025-02-05</td>\n",
       "      <td>0 days 12:01:12</td>\n",
       "      <td>0 days 21:31:00</td>\n",
       "      <td>0 days 21:40:00</td>\n",
       "    </tr>\n",
       "    <tr>\n",
       "      <th>8</th>\n",
       "      <td>393619.540</td>\n",
       "      <td>143740.0900</td>\n",
       "      <td>25420388</td>\n",
       "      <td>2025-01-30 11:31:22+00:00</td>\n",
       "      <td>MIDNIGHT</td>\n",
       "      <td>OTHERS</td>\n",
       "      <td>THEFT/OTHER</td>\n",
       "      <td>5400 - 5419 BLOCK OF CONNECTICUT AVENUE NW</td>\n",
       "      <td>393619.540000</td>\n",
       "      <td>143740.090000</td>\n",
       "      <td>...</td>\n",
       "      <td>-77.073619</td>\n",
       "      <td>2024-12-23 15:00:00+00:00</td>\n",
       "      <td>2025-01-22 00:50:00+00:00</td>\n",
       "      <td>685785027</td>\n",
       "      <td>2025-01-30</td>\n",
       "      <td>2024-12-23</td>\n",
       "      <td>2025-01-22</td>\n",
       "      <td>0 days 11:31:22</td>\n",
       "      <td>0 days 15:00:00</td>\n",
       "      <td>0 days 00:50:00</td>\n",
       "    </tr>\n",
       "    <tr>\n",
       "      <th>9</th>\n",
       "      <td>399868.920</td>\n",
       "      <td>143373.5400</td>\n",
       "      <td>25018642</td>\n",
       "      <td>2025-02-08 02:07:45+00:00</td>\n",
       "      <td>EVENING</td>\n",
       "      <td>OTHERS</td>\n",
       "      <td>THEFT/OTHER</td>\n",
       "      <td>310 - 399 BLOCK OF RIGGS ROAD NE</td>\n",
       "      <td>399868.920000</td>\n",
       "      <td>143373.540000</td>\n",
       "      <td>...</td>\n",
       "      <td>-77.001512</td>\n",
       "      <td>2025-02-07 22:34:00+00:00</td>\n",
       "      <td>2025-02-07 23:56:00+00:00</td>\n",
       "      <td>685785032</td>\n",
       "      <td>2025-02-08</td>\n",
       "      <td>2025-02-07</td>\n",
       "      <td>2025-02-07</td>\n",
       "      <td>0 days 02:07:45</td>\n",
       "      <td>0 days 22:34:00</td>\n",
       "      <td>0 days 23:56:00</td>\n",
       "    </tr>\n",
       "  </tbody>\n",
       "</table>\n",
       "<p>10 rows × 28 columns</p>\n",
       "</div>"
      ],
      "text/plain": [
       "            X            Y       CCN                REPORT_DAT     SHIFT  \\\n",
       "0  400046.410  137753.6500  25017503 2025-02-05 19:50:58+00:00       DAY   \n",
       "1  397868.680  141140.3800  25013087 2025-01-28 12:08:29+00:00       DAY   \n",
       "2  399489.480  137372.6500  25012701 2025-01-27 17:28:06+00:00       DAY   \n",
       "3  401498.970  138734.5700  25008887 2025-01-19 19:59:51+00:00       DAY   \n",
       "4  400212.850  137949.3300  25011684 2025-01-25 15:45:47+00:00       DAY   \n",
       "5  397655.460  139302.9100  25013283 2025-01-28 20:29:39+00:00   EVENING   \n",
       "6  397921.520  138712.8100  25002549 2025-01-06 03:12:43+00:00   EVENING   \n",
       "7  401627.937  132937.3269  25420547 2025-02-06 12:01:12+00:00       DAY   \n",
       "8  393619.540  143740.0900  25420388 2025-01-30 11:31:22+00:00  MIDNIGHT   \n",
       "9  399868.920  143373.5400  25018642 2025-02-08 02:07:45+00:00   EVENING   \n",
       "\n",
       "   METHOD              OFFENSE                                       BLOCK  \\\n",
       "0  OTHERS  MOTOR VEHICLE THEFT          400 - 499 BLOCK OF MORSE STREET NE   \n",
       "1  OTHERS          THEFT/OTHER      3800 - 3899 BLOCK OF GEORGIA AVENUE NW   \n",
       "2  OTHERS              ROBBERY          1100 - 1150 BLOCK OF 1ST STREET NE   \n",
       "3  OTHERS          THEFT/OTHER     1500 - 1599 BLOCK OF NEW YORK AVENUE NE   \n",
       "4  OTHERS         THEFT F/AUTO          1300 - 1399 BLOCK OF 5TH STREET NE   \n",
       "5     GUN              ROBBERY         2300 - 2499 BLOCK OF 11TH STREET NW   \n",
       "6  OTHERS          THEFT/OTHER          1900 - 1999 BLOCK OF 9TH STREET NW   \n",
       "7  OTHERS          THEFT/OTHER            1600 - 1699 BLOCK OF V STREET SE   \n",
       "8  OTHERS          THEFT/OTHER  5400 - 5419 BLOCK OF CONNECTICUT AVENUE NW   \n",
       "9  OTHERS          THEFT/OTHER            310 - 399 BLOCK OF RIGGS ROAD NE   \n",
       "\n",
       "          XBLOCK         YBLOCK  ...  LONGITUDE                START_DATE  \\\n",
       "0  400046.410000  137753.650000  ... -76.999465 2025-02-05 19:22:00+00:00   \n",
       "1  397868.680000  141140.380000  ... -77.024583 2025-01-28 11:06:00+00:00   \n",
       "2  399489.480000  137372.650000  ... -77.005886 2025-01-27 15:00:00+00:00   \n",
       "3  401498.970000  138734.570000  ... -76.982716 2025-01-19 19:22:00+00:00   \n",
       "4  400212.850000  137949.330000  ... -76.997546 2025-01-24 00:00:00+00:00   \n",
       "5  397655.460000  139302.910000  ... -77.027036 2025-01-28 17:50:00+00:00   \n",
       "6  397921.520000  138712.810000  ... -77.023967 2025-01-05 11:00:00+00:00   \n",
       "7  401627.936959  132937.326937  ... -76.981242 2025-02-05 21:31:00+00:00   \n",
       "8  393619.540000  143740.090000  ... -77.073619 2024-12-23 15:00:00+00:00   \n",
       "9  399868.920000  143373.540000  ... -77.001512 2025-02-07 22:34:00+00:00   \n",
       "\n",
       "                   END_DATE   OBJECTID  DATE(REPORT)  DATE(START)  DATE(END)  \\\n",
       "0 2025-02-05 19:25:00+00:00  685784661    2025-02-05   2025-02-05 2025-02-05   \n",
       "1 2025-01-28 11:07:00+00:00  685784675    2025-01-28   2025-01-28 2025-01-28   \n",
       "2 2025-01-27 15:20:00+00:00  685784796    2025-01-27   2025-01-27 2025-01-27   \n",
       "3 2025-01-19 19:32:00+00:00  685784829    2025-01-19   2025-01-19 2025-01-19   \n",
       "4 2025-01-24 03:30:00+00:00  685784830    2025-01-25   2025-01-24 2025-01-24   \n",
       "5 2025-01-28 17:52:00+00:00  685784831    2025-01-28   2025-01-28 2025-01-28   \n",
       "6 2025-01-05 11:30:00+00:00  685784832    2025-01-06   2025-01-05 2025-01-05   \n",
       "7 2025-02-05 21:40:00+00:00  685784987    2025-02-06   2025-02-05 2025-02-05   \n",
       "8 2025-01-22 00:50:00+00:00  685785027    2025-01-30   2024-12-23 2025-01-22   \n",
       "9 2025-02-07 23:56:00+00:00  685785032    2025-02-08   2025-02-07 2025-02-07   \n",
       "\n",
       "     TIME(REPORT)     TIME(START)       TIME(END)  \n",
       "0 0 days 19:50:58 0 days 19:22:00 0 days 19:25:00  \n",
       "1 0 days 12:08:29 0 days 11:06:00 0 days 11:07:00  \n",
       "2 0 days 17:28:06 0 days 15:00:00 0 days 15:20:00  \n",
       "3 0 days 19:59:51 0 days 19:22:00 0 days 19:32:00  \n",
       "4 0 days 15:45:47 0 days 00:00:00 0 days 03:30:00  \n",
       "5 0 days 20:29:39 0 days 17:50:00 0 days 17:52:00  \n",
       "6 0 days 03:12:43 0 days 11:00:00 0 days 11:30:00  \n",
       "7 0 days 12:01:12 0 days 21:31:00 0 days 21:40:00  \n",
       "8 0 days 11:31:22 0 days 15:00:00 0 days 00:50:00  \n",
       "9 0 days 02:07:45 0 days 22:34:00 0 days 23:56:00  \n",
       "\n",
       "[10 rows x 28 columns]"
      ]
     },
     "execution_count": 88,
     "metadata": {},
     "output_type": "execute_result"
    }
   ],
   "source": [
    "import pandas as pd\n",
    "import matplotlib.pyplot as plt\n",
    "import numpy as np  \n",
    "import seaborn as sns\n",
    "\n",
    "data = pd.read_parquet('data_final.parquet')\n",
    "data.head(10)"
   ]
  },
  {
   "cell_type": "markdown",
   "metadata": {},
   "source": [
    "**Total cases analysis**"
   ]
  },
  {
   "cell_type": "code",
   "execution_count": 89,
   "metadata": {},
   "outputs": [
    {
     "name": "stdout",
     "output_type": "stream",
     "text": [
      "No Duplicate Rows\n"
     ]
    }
   ],
   "source": [
    "duplicate_rows = data[data.duplicated()]\n",
    "\n",
    "if not duplicate_rows.empty:\n",
    "    print('Duplicate Rows based on all columns:')\n",
    "    print(duplicate_rows)\n",
    "else:\n",
    "    print('No Duplicate Rows')"
   ]
  },
  {
   "cell_type": "code",
   "execution_count": 90,
   "metadata": {},
   "outputs": [
    {
     "name": "stdout",
     "output_type": "stream",
     "text": [
      "Total number of cases: 4164\n"
     ]
    }
   ],
   "source": [
    "total_cases = len(data)\n",
    "print(f\"Total number of cases: {total_cases}\")"
   ]
  },
  {
   "cell_type": "code",
   "execution_count": 91,
   "metadata": {},
   "outputs": [
    {
     "name": "stdout",
     "output_type": "stream",
     "text": [
      "Date crime occured: \n",
      "Earliest date: 2005-09-27 00:00:00\n",
      "Latest date: 2025-03-04 00:00:00\n"
     ]
    }
   ],
   "source": [
    "default_date = \"1989-05-19\"\n",
    "\n",
    "earliest_date = data.loc[data['DATE(START)'] != default_date, 'DATE(START)'].min()\n",
    "latest_date = data['DATE(START)'].max()\n",
    "\n",
    "print('Date crime occured: ')\n",
    "print(f\"Earliest date: {earliest_date}\")\n",
    "print(f\"Latest date: {latest_date}\")\n"
   ]
  },
  {
   "cell_type": "code",
   "execution_count": 92,
   "metadata": {},
   "outputs": [
    {
     "name": "stdout",
     "output_type": "stream",
     "text": [
      "Most common date: 0   2025-01-25\n",
      "Name: DATE(START), dtype: datetime64[ns]\n"
     ]
    }
   ],
   "source": [
    "majority_case = data['DATE(START)'].mode()\n",
    "print(f\"Most common date: {majority_case}\")\n"
   ]
  },
  {
   "cell_type": "markdown",
   "metadata": {},
   "source": [
    "There's an invalid case. When majority of cases occured/retreived in last 2024 and 2 months early in 2025 , this case in month 9/2005 \n",
    "(There may be recording errors)"
   ]
  },
  {
   "cell_type": "code",
   "execution_count": 93,
   "metadata": {},
   "outputs": [
    {
     "data": {
      "application/vnd.microsoft.datawrangler.viewer.v0+json": {
       "columns": [
        {
         "name": "index",
         "rawType": "int64",
         "type": "integer"
        },
        {
         "name": "X",
         "rawType": "float64",
         "type": "float"
        },
        {
         "name": "Y",
         "rawType": "float64",
         "type": "float"
        },
        {
         "name": "CCN",
         "rawType": "int64",
         "type": "integer"
        },
        {
         "name": "REPORT_DAT",
         "rawType": "datetime64[ns, UTC]",
         "type": "unknown"
        },
        {
         "name": "SHIFT",
         "rawType": "category",
         "type": "unknown"
        },
        {
         "name": "METHOD",
         "rawType": "category",
         "type": "unknown"
        },
        {
         "name": "OFFENSE",
         "rawType": "category",
         "type": "unknown"
        },
        {
         "name": "BLOCK",
         "rawType": "object",
         "type": "string"
        },
        {
         "name": "XBLOCK",
         "rawType": "float64",
         "type": "float"
        },
        {
         "name": "YBLOCK",
         "rawType": "float64",
         "type": "float"
        },
        {
         "name": "WARD",
         "rawType": "int64",
         "type": "integer"
        },
        {
         "name": "ANC",
         "rawType": "category",
         "type": "unknown"
        },
        {
         "name": "DISTRICT",
         "rawType": "int64",
         "type": "integer"
        },
        {
         "name": "PSA",
         "rawType": "int64",
         "type": "integer"
        },
        {
         "name": "NEIGHBORHOOD_CLUSTER",
         "rawType": "Int64",
         "type": "integer"
        },
        {
         "name": "BLOCK_GROUP",
         "rawType": "int64",
         "type": "integer"
        },
        {
         "name": "CENSUS_TRACT",
         "rawType": "int64",
         "type": "integer"
        },
        {
         "name": "LATITUDE",
         "rawType": "float64",
         "type": "float"
        },
        {
         "name": "LONGITUDE",
         "rawType": "float64",
         "type": "float"
        },
        {
         "name": "START_DATE",
         "rawType": "datetime64[ns, UTC]",
         "type": "unknown"
        },
        {
         "name": "END_DATE",
         "rawType": "datetime64[ns, UTC]",
         "type": "unknown"
        },
        {
         "name": "OBJECTID",
         "rawType": "int64",
         "type": "integer"
        },
        {
         "name": "DATE(REPORT)",
         "rawType": "datetime64[ns]",
         "type": "datetime"
        },
        {
         "name": "DATE(START)",
         "rawType": "datetime64[ns]",
         "type": "datetime"
        },
        {
         "name": "DATE(END)",
         "rawType": "datetime64[ns]",
         "type": "datetime"
        },
        {
         "name": "TIME(REPORT)",
         "rawType": "timedelta64[ns]",
         "type": "unknown"
        },
        {
         "name": "TIME(START)",
         "rawType": "timedelta64[ns]",
         "type": "unknown"
        },
        {
         "name": "TIME(END)",
         "rawType": "timedelta64[ns]",
         "type": "unknown"
        }
       ],
       "conversionMethod": "pd.DataFrame",
       "ref": "60a35168-db00-4816-93f4-288ded290c38",
       "rows": [
        [
         "525",
         "400588.465000004",
         "129470.042399999",
         "5131706",
         "2025-02-05 05:00:00+00:00",
         "MIDNIGHT",
         "GUN",
         "HOMICIDE",
         "800 - 899 BLOCK OF XENIA STREET SE",
         "400588.464990499",
         "129470.042357579",
         "8",
         "8E",
         "7",
         "706",
         "39",
         "1",
         "9801",
         "38.8330199372",
         "-76.9932224259",
         "2005-09-27 07:25:00+00:00",
         "2005-09-27 07:26:00+00:00",
         "686110728",
         "2025-02-05 00:00:00",
         "2005-09-27 00:00:00",
         "2005-09-27 00:00:00",
         "0 days 05:00:00",
         "0 days 07:25:00",
         "0 days 07:26:00"
        ]
       ],
       "shape": {
        "columns": 28,
        "rows": 1
       }
      },
      "text/html": [
       "<div>\n",
       "<style scoped>\n",
       "    .dataframe tbody tr th:only-of-type {\n",
       "        vertical-align: middle;\n",
       "    }\n",
       "\n",
       "    .dataframe tbody tr th {\n",
       "        vertical-align: top;\n",
       "    }\n",
       "\n",
       "    .dataframe thead th {\n",
       "        text-align: right;\n",
       "    }\n",
       "</style>\n",
       "<table border=\"1\" class=\"dataframe\">\n",
       "  <thead>\n",
       "    <tr style=\"text-align: right;\">\n",
       "      <th></th>\n",
       "      <th>X</th>\n",
       "      <th>Y</th>\n",
       "      <th>CCN</th>\n",
       "      <th>REPORT_DAT</th>\n",
       "      <th>SHIFT</th>\n",
       "      <th>METHOD</th>\n",
       "      <th>OFFENSE</th>\n",
       "      <th>BLOCK</th>\n",
       "      <th>XBLOCK</th>\n",
       "      <th>YBLOCK</th>\n",
       "      <th>...</th>\n",
       "      <th>LONGITUDE</th>\n",
       "      <th>START_DATE</th>\n",
       "      <th>END_DATE</th>\n",
       "      <th>OBJECTID</th>\n",
       "      <th>DATE(REPORT)</th>\n",
       "      <th>DATE(START)</th>\n",
       "      <th>DATE(END)</th>\n",
       "      <th>TIME(REPORT)</th>\n",
       "      <th>TIME(START)</th>\n",
       "      <th>TIME(END)</th>\n",
       "    </tr>\n",
       "  </thead>\n",
       "  <tbody>\n",
       "    <tr>\n",
       "      <th>525</th>\n",
       "      <td>400588.465</td>\n",
       "      <td>129470.0424</td>\n",
       "      <td>5131706</td>\n",
       "      <td>2025-02-05 05:00:00+00:00</td>\n",
       "      <td>MIDNIGHT</td>\n",
       "      <td>GUN</td>\n",
       "      <td>HOMICIDE</td>\n",
       "      <td>800 - 899 BLOCK OF XENIA STREET SE</td>\n",
       "      <td>400588.46499</td>\n",
       "      <td>129470.042358</td>\n",
       "      <td>...</td>\n",
       "      <td>-76.993222</td>\n",
       "      <td>2005-09-27 07:25:00+00:00</td>\n",
       "      <td>2005-09-27 07:26:00+00:00</td>\n",
       "      <td>686110728</td>\n",
       "      <td>2025-02-05</td>\n",
       "      <td>2005-09-27</td>\n",
       "      <td>2005-09-27</td>\n",
       "      <td>0 days 05:00:00</td>\n",
       "      <td>0 days 07:25:00</td>\n",
       "      <td>0 days 07:26:00</td>\n",
       "    </tr>\n",
       "  </tbody>\n",
       "</table>\n",
       "<p>1 rows × 28 columns</p>\n",
       "</div>"
      ],
      "text/plain": [
       "              X            Y      CCN                REPORT_DAT     SHIFT  \\\n",
       "525  400588.465  129470.0424  5131706 2025-02-05 05:00:00+00:00  MIDNIGHT   \n",
       "\n",
       "    METHOD   OFFENSE                               BLOCK        XBLOCK  \\\n",
       "525    GUN  HOMICIDE  800 - 899 BLOCK OF XENIA STREET SE  400588.46499   \n",
       "\n",
       "            YBLOCK  ...  LONGITUDE                START_DATE  \\\n",
       "525  129470.042358  ... -76.993222 2005-09-27 07:25:00+00:00   \n",
       "\n",
       "                     END_DATE   OBJECTID  DATE(REPORT)  DATE(START)  \\\n",
       "525 2005-09-27 07:26:00+00:00  686110728    2025-02-05   2005-09-27   \n",
       "\n",
       "     DATE(END)    TIME(REPORT)     TIME(START)       TIME(END)  \n",
       "525 2005-09-27 0 days 05:00:00 0 days 07:25:00 0 days 07:26:00  \n",
       "\n",
       "[1 rows x 28 columns]"
      ]
     },
     "execution_count": 93,
     "metadata": {},
     "output_type": "execute_result"
    }
   ],
   "source": [
    "data[data['DATE(START)'].dt.year == 2005].head() "
   ]
  },
  {
   "cell_type": "code",
   "execution_count": 94,
   "metadata": {},
   "outputs": [],
   "source": [
    "data.drop(index=525, inplace=True)"
   ]
  },
  {
   "cell_type": "markdown",
   "metadata": {},
   "source": [
    "**Total case analysis**"
   ]
  },
  {
   "cell_type": "code",
   "execution_count": 95,
   "metadata": {},
   "outputs": [
    {
     "name": "stdout",
     "output_type": "stream",
     "text": [
      "Total cases: 4163\n"
     ]
    }
   ],
   "source": [
    "print(f'Total cases: {len(data)}')"
   ]
  },
  {
   "cell_type": "code",
   "execution_count": 96,
   "metadata": {},
   "outputs": [
    {
     "name": "stdout",
     "output_type": "stream",
     "text": [
      "Date crime occured: \n",
      "Earliest date: 2022-07-30 00:00:00\n",
      "Latest date: 2025-03-04 00:00:00\n"
     ]
    }
   ],
   "source": [
    "default_date = \"1989-05-19\"\n",
    "\n",
    "earliest_date = data.loc[data['DATE(START)'] != default_date, 'DATE(START)'].min()\n",
    "latest_date = data['DATE(START)'].max()\n",
    "\n",
    "print('Date crime occured: ')\n",
    "print(f\"Earliest date: {earliest_date}\")\n",
    "print(f\"Latest date: {latest_date}\")"
   ]
  },
  {
   "cell_type": "markdown",
   "metadata": {},
   "source": [
    "There's an invalid case. When majority of cases occured/retreived in last 2024 and 2 months early in 2025, this case in month 7/2022\n",
    "(There may be recording errors)"
   ]
  },
  {
   "cell_type": "code",
   "execution_count": 97,
   "metadata": {},
   "outputs": [
    {
     "data": {
      "application/vnd.microsoft.datawrangler.viewer.v0+json": {
       "columns": [
        {
         "name": "index",
         "rawType": "int64",
         "type": "integer"
        },
        {
         "name": "X",
         "rawType": "float64",
         "type": "float"
        },
        {
         "name": "Y",
         "rawType": "float64",
         "type": "float"
        },
        {
         "name": "CCN",
         "rawType": "int64",
         "type": "integer"
        },
        {
         "name": "REPORT_DAT",
         "rawType": "datetime64[ns, UTC]",
         "type": "unknown"
        },
        {
         "name": "SHIFT",
         "rawType": "category",
         "type": "unknown"
        },
        {
         "name": "METHOD",
         "rawType": "category",
         "type": "unknown"
        },
        {
         "name": "OFFENSE",
         "rawType": "category",
         "type": "unknown"
        },
        {
         "name": "BLOCK",
         "rawType": "object",
         "type": "string"
        },
        {
         "name": "XBLOCK",
         "rawType": "float64",
         "type": "float"
        },
        {
         "name": "YBLOCK",
         "rawType": "float64",
         "type": "float"
        },
        {
         "name": "WARD",
         "rawType": "int64",
         "type": "integer"
        },
        {
         "name": "ANC",
         "rawType": "category",
         "type": "unknown"
        },
        {
         "name": "DISTRICT",
         "rawType": "int64",
         "type": "integer"
        },
        {
         "name": "PSA",
         "rawType": "int64",
         "type": "integer"
        },
        {
         "name": "NEIGHBORHOOD_CLUSTER",
         "rawType": "Int64",
         "type": "integer"
        },
        {
         "name": "BLOCK_GROUP",
         "rawType": "int64",
         "type": "integer"
        },
        {
         "name": "CENSUS_TRACT",
         "rawType": "int64",
         "type": "integer"
        },
        {
         "name": "LATITUDE",
         "rawType": "float64",
         "type": "float"
        },
        {
         "name": "LONGITUDE",
         "rawType": "float64",
         "type": "float"
        },
        {
         "name": "START_DATE",
         "rawType": "datetime64[ns, UTC]",
         "type": "unknown"
        },
        {
         "name": "END_DATE",
         "rawType": "datetime64[ns, UTC]",
         "type": "unknown"
        },
        {
         "name": "OBJECTID",
         "rawType": "int64",
         "type": "integer"
        },
        {
         "name": "DATE(REPORT)",
         "rawType": "datetime64[ns]",
         "type": "datetime"
        },
        {
         "name": "DATE(START)",
         "rawType": "datetime64[ns]",
         "type": "datetime"
        },
        {
         "name": "DATE(END)",
         "rawType": "datetime64[ns]",
         "type": "datetime"
        },
        {
         "name": "TIME(REPORT)",
         "rawType": "timedelta64[ns]",
         "type": "unknown"
        },
        {
         "name": "TIME(START)",
         "rawType": "timedelta64[ns]",
         "type": "unknown"
        },
        {
         "name": "TIME(END)",
         "rawType": "timedelta64[ns]",
         "type": "unknown"
        }
       ],
       "conversionMethod": "pd.DataFrame",
       "ref": "4281220d-8108-4cbf-8f95-4c379c022a9b",
       "rows": [
        [
         "2677",
         "399075.710000001",
         "128801.539999999",
         "22108667",
         "2025-01-02 05:00:00+00:00",
         "MIDNIGHT",
         "GUN",
         "HOMICIDE",
         "1 - 199 BLOCK OF DARRINGTON STREET SW",
         "399075.71",
         "128801.54",
         "8",
         "8D",
         "7",
         "708",
         "39",
         "3",
         "9807",
         "38.8269974687",
         "-77.0106445001",
         "2022-07-30 01:12:00+00:00",
         "2022-07-30 01:13:00+00:00",
         "686284217",
         "2025-01-02 00:00:00",
         "2022-07-30 00:00:00",
         "2022-07-30 00:00:00",
         "0 days 05:00:00",
         "0 days 01:12:00",
         "0 days 01:13:00"
        ]
       ],
       "shape": {
        "columns": 28,
        "rows": 1
       }
      },
      "text/html": [
       "<div>\n",
       "<style scoped>\n",
       "    .dataframe tbody tr th:only-of-type {\n",
       "        vertical-align: middle;\n",
       "    }\n",
       "\n",
       "    .dataframe tbody tr th {\n",
       "        vertical-align: top;\n",
       "    }\n",
       "\n",
       "    .dataframe thead th {\n",
       "        text-align: right;\n",
       "    }\n",
       "</style>\n",
       "<table border=\"1\" class=\"dataframe\">\n",
       "  <thead>\n",
       "    <tr style=\"text-align: right;\">\n",
       "      <th></th>\n",
       "      <th>X</th>\n",
       "      <th>Y</th>\n",
       "      <th>CCN</th>\n",
       "      <th>REPORT_DAT</th>\n",
       "      <th>SHIFT</th>\n",
       "      <th>METHOD</th>\n",
       "      <th>OFFENSE</th>\n",
       "      <th>BLOCK</th>\n",
       "      <th>XBLOCK</th>\n",
       "      <th>YBLOCK</th>\n",
       "      <th>...</th>\n",
       "      <th>LONGITUDE</th>\n",
       "      <th>START_DATE</th>\n",
       "      <th>END_DATE</th>\n",
       "      <th>OBJECTID</th>\n",
       "      <th>DATE(REPORT)</th>\n",
       "      <th>DATE(START)</th>\n",
       "      <th>DATE(END)</th>\n",
       "      <th>TIME(REPORT)</th>\n",
       "      <th>TIME(START)</th>\n",
       "      <th>TIME(END)</th>\n",
       "    </tr>\n",
       "  </thead>\n",
       "  <tbody>\n",
       "    <tr>\n",
       "      <th>2677</th>\n",
       "      <td>399075.71</td>\n",
       "      <td>128801.54</td>\n",
       "      <td>22108667</td>\n",
       "      <td>2025-01-02 05:00:00+00:00</td>\n",
       "      <td>MIDNIGHT</td>\n",
       "      <td>GUN</td>\n",
       "      <td>HOMICIDE</td>\n",
       "      <td>1 - 199 BLOCK OF DARRINGTON STREET SW</td>\n",
       "      <td>399075.71</td>\n",
       "      <td>128801.54</td>\n",
       "      <td>...</td>\n",
       "      <td>-77.010645</td>\n",
       "      <td>2022-07-30 01:12:00+00:00</td>\n",
       "      <td>2022-07-30 01:13:00+00:00</td>\n",
       "      <td>686284217</td>\n",
       "      <td>2025-01-02</td>\n",
       "      <td>2022-07-30</td>\n",
       "      <td>2022-07-30</td>\n",
       "      <td>0 days 05:00:00</td>\n",
       "      <td>0 days 01:12:00</td>\n",
       "      <td>0 days 01:13:00</td>\n",
       "    </tr>\n",
       "  </tbody>\n",
       "</table>\n",
       "<p>1 rows × 28 columns</p>\n",
       "</div>"
      ],
      "text/plain": [
       "              X          Y       CCN                REPORT_DAT     SHIFT  \\\n",
       "2677  399075.71  128801.54  22108667 2025-01-02 05:00:00+00:00  MIDNIGHT   \n",
       "\n",
       "     METHOD   OFFENSE                                  BLOCK     XBLOCK  \\\n",
       "2677    GUN  HOMICIDE  1 - 199 BLOCK OF DARRINGTON STREET SW  399075.71   \n",
       "\n",
       "         YBLOCK  ...  LONGITUDE                START_DATE  \\\n",
       "2677  128801.54  ... -77.010645 2022-07-30 01:12:00+00:00   \n",
       "\n",
       "                      END_DATE   OBJECTID  DATE(REPORT)  DATE(START)  \\\n",
       "2677 2022-07-30 01:13:00+00:00  686284217    2025-01-02   2022-07-30   \n",
       "\n",
       "      DATE(END)    TIME(REPORT)     TIME(START)       TIME(END)  \n",
       "2677 2022-07-30 0 days 05:00:00 0 days 01:12:00 0 days 01:13:00  \n",
       "\n",
       "[1 rows x 28 columns]"
      ]
     },
     "execution_count": 97,
     "metadata": {},
     "output_type": "execute_result"
    }
   ],
   "source": [
    "data[data['DATE(START)'].dt.year == 2022].head() "
   ]
  },
  {
   "cell_type": "code",
   "execution_count": 98,
   "metadata": {},
   "outputs": [],
   "source": [
    "data.drop(index=2677, inplace=True)"
   ]
  },
  {
   "cell_type": "markdown",
   "metadata": {},
   "source": [
    "**Total case analysis**"
   ]
  },
  {
   "cell_type": "code",
   "execution_count": 99,
   "metadata": {},
   "outputs": [
    {
     "name": "stdout",
     "output_type": "stream",
     "text": [
      "Total cases: 4162\n"
     ]
    }
   ],
   "source": [
    "print(f'Total cases: {len(data)}')"
   ]
  },
  {
   "cell_type": "code",
   "execution_count": 100,
   "metadata": {},
   "outputs": [
    {
     "name": "stdout",
     "output_type": "stream",
     "text": [
      "Date crime occured: \n",
      "Earliest date: 2024-04-15 00:00:00\n",
      "Latest date: 2025-03-04 00:00:00\n"
     ]
    }
   ],
   "source": [
    "default_date = \"1989-05-19\"\n",
    "\n",
    "earliest_date = data.loc[data['DATE(START)'] != default_date, 'DATE(START)'].min()\n",
    "latest_date = data['DATE(START)'].max()\n",
    "\n",
    "print('Date crime occured: ')\n",
    "print(f\"Earliest date: {earliest_date}\")\n",
    "print(f\"Latest date: {latest_date}\")"
   ]
  },
  {
   "cell_type": "code",
   "execution_count": 101,
   "metadata": {},
   "outputs": [
    {
     "name": "stdout",
     "output_type": "stream",
     "text": [
      "Total cases in 2024, Month 1: 0\n",
      "Total cases in 2024, Month 2: 0\n",
      "Total cases in 2024, Month 3: 0\n",
      "Total cases in 2024, Month 4: 2\n",
      "Total cases in 2024, Month 5: 0\n",
      "Total cases in 2024, Month 6: 0\n",
      "Total cases in 2024, Month 7: 0\n",
      "Total cases in 2024, Month 8: 2\n",
      "Total cases in 2024, Month 9: 3\n",
      "Total cases in 2024, Month 10: 4\n",
      "Total cases in 2024, Month 11: 15\n",
      "Total cases in 2024, Month 12: 130\n"
     ]
    }
   ],
   "source": [
    "year = 2024\n",
    "month = 12 \n",
    "\n",
    "data_2024 = data[data['DATE(START)'].dt.year == year]\n",
    "\n",
    "for i in range(1, month + 1):\n",
    "    total_cases = data_2024[data_2024['DATE(START)'].dt.month == i].shape[0]\n",
    "    print(f\"Total cases in {year}, Month {i}: {total_cases}\")\n"
   ]
  },
  {
   "cell_type": "code",
   "execution_count": 102,
   "metadata": {},
   "outputs": [
    {
     "data": {
      "application/vnd.microsoft.datawrangler.viewer.v0+json": {
       "columns": [
        {
         "name": "index",
         "rawType": "int64",
         "type": "integer"
        },
        {
         "name": "X",
         "rawType": "float64",
         "type": "float"
        },
        {
         "name": "Y",
         "rawType": "float64",
         "type": "float"
        },
        {
         "name": "CCN",
         "rawType": "int64",
         "type": "integer"
        },
        {
         "name": "REPORT_DAT",
         "rawType": "datetime64[ns, UTC]",
         "type": "unknown"
        },
        {
         "name": "SHIFT",
         "rawType": "category",
         "type": "unknown"
        },
        {
         "name": "METHOD",
         "rawType": "category",
         "type": "unknown"
        },
        {
         "name": "OFFENSE",
         "rawType": "category",
         "type": "unknown"
        },
        {
         "name": "BLOCK",
         "rawType": "object",
         "type": "string"
        },
        {
         "name": "XBLOCK",
         "rawType": "float64",
         "type": "float"
        },
        {
         "name": "YBLOCK",
         "rawType": "float64",
         "type": "float"
        },
        {
         "name": "WARD",
         "rawType": "int64",
         "type": "integer"
        },
        {
         "name": "ANC",
         "rawType": "category",
         "type": "unknown"
        },
        {
         "name": "DISTRICT",
         "rawType": "int64",
         "type": "integer"
        },
        {
         "name": "PSA",
         "rawType": "int64",
         "type": "integer"
        },
        {
         "name": "NEIGHBORHOOD_CLUSTER",
         "rawType": "Int64",
         "type": "integer"
        },
        {
         "name": "BLOCK_GROUP",
         "rawType": "int64",
         "type": "integer"
        },
        {
         "name": "CENSUS_TRACT",
         "rawType": "int64",
         "type": "integer"
        },
        {
         "name": "LATITUDE",
         "rawType": "float64",
         "type": "float"
        },
        {
         "name": "LONGITUDE",
         "rawType": "float64",
         "type": "float"
        },
        {
         "name": "START_DATE",
         "rawType": "datetime64[ns, UTC]",
         "type": "unknown"
        },
        {
         "name": "END_DATE",
         "rawType": "datetime64[ns, UTC]",
         "type": "unknown"
        },
        {
         "name": "OBJECTID",
         "rawType": "int64",
         "type": "integer"
        },
        {
         "name": "DATE(REPORT)",
         "rawType": "datetime64[ns]",
         "type": "datetime"
        },
        {
         "name": "DATE(START)",
         "rawType": "datetime64[ns]",
         "type": "datetime"
        },
        {
         "name": "DATE(END)",
         "rawType": "datetime64[ns]",
         "type": "datetime"
        },
        {
         "name": "TIME(REPORT)",
         "rawType": "timedelta64[ns]",
         "type": "unknown"
        },
        {
         "name": "TIME(START)",
         "rawType": "timedelta64[ns]",
         "type": "unknown"
        },
        {
         "name": "TIME(END)",
         "rawType": "timedelta64[ns]",
         "type": "unknown"
        }
       ],
       "conversionMethod": "pd.DataFrame",
       "ref": "9ef106dc-ecce-41fb-999a-073a962d2855",
       "rows": [
        [
         "950",
         "395423.619999997",
         "138083.379999999",
         "25024960",
         "2025-02-20 19:17:19+00:00",
         "DAY",
         "OTHERS",
         "THEFT/OTHER",
         "2300 - 2699 BLOCK OF Q STREET NW",
         "395423.62",
         "138083.38",
         "2",
         "2E",
         "2",
         "206",
         "4",
         "1",
         "101",
         "38.9106006291",
         "-77.0527652352",
         "2024-04-18 12:10:00+00:00",
         "2024-04-20 15:10:00+00:00",
         "686120602",
         "2025-02-20 00:00:00",
         "2024-04-18 00:00:00",
         "2024-04-20 00:00:00",
         "0 days 19:17:19",
         "0 days 12:10:00",
         "0 days 15:10:00"
        ],
        [
         "3616",
         "399878.210000001",
         "137742.289999999",
         "25027260",
         "2025-02-25 03:47:32+00:00",
         "EVENING",
         "OTHERS",
         "SEX ABUSE",
         "300 - 385 BLOCK OF FLORIDA AVENUE NE",
         "399878.21",
         "137742.29",
         "5",
         "5D",
         "5",
         "501",
         "23",
         "2",
         "8803",
         "38.907539879",
         "-77.001404167",
         "2024-04-15 23:00:00+00:00",
         "2024-04-15 23:02:00+00:00",
         "686320947",
         "2025-02-25 00:00:00",
         "2024-04-15 00:00:00",
         "2024-04-15 00:00:00",
         "0 days 03:47:32",
         "0 days 23:00:00",
         "0 days 23:02:00"
        ]
       ],
       "shape": {
        "columns": 28,
        "rows": 2
       }
      },
      "text/html": [
       "<div>\n",
       "<style scoped>\n",
       "    .dataframe tbody tr th:only-of-type {\n",
       "        vertical-align: middle;\n",
       "    }\n",
       "\n",
       "    .dataframe tbody tr th {\n",
       "        vertical-align: top;\n",
       "    }\n",
       "\n",
       "    .dataframe thead th {\n",
       "        text-align: right;\n",
       "    }\n",
       "</style>\n",
       "<table border=\"1\" class=\"dataframe\">\n",
       "  <thead>\n",
       "    <tr style=\"text-align: right;\">\n",
       "      <th></th>\n",
       "      <th>X</th>\n",
       "      <th>Y</th>\n",
       "      <th>CCN</th>\n",
       "      <th>REPORT_DAT</th>\n",
       "      <th>SHIFT</th>\n",
       "      <th>METHOD</th>\n",
       "      <th>OFFENSE</th>\n",
       "      <th>BLOCK</th>\n",
       "      <th>XBLOCK</th>\n",
       "      <th>YBLOCK</th>\n",
       "      <th>...</th>\n",
       "      <th>LONGITUDE</th>\n",
       "      <th>START_DATE</th>\n",
       "      <th>END_DATE</th>\n",
       "      <th>OBJECTID</th>\n",
       "      <th>DATE(REPORT)</th>\n",
       "      <th>DATE(START)</th>\n",
       "      <th>DATE(END)</th>\n",
       "      <th>TIME(REPORT)</th>\n",
       "      <th>TIME(START)</th>\n",
       "      <th>TIME(END)</th>\n",
       "    </tr>\n",
       "  </thead>\n",
       "  <tbody>\n",
       "    <tr>\n",
       "      <th>950</th>\n",
       "      <td>395423.62</td>\n",
       "      <td>138083.38</td>\n",
       "      <td>25024960</td>\n",
       "      <td>2025-02-20 19:17:19+00:00</td>\n",
       "      <td>DAY</td>\n",
       "      <td>OTHERS</td>\n",
       "      <td>THEFT/OTHER</td>\n",
       "      <td>2300 - 2699 BLOCK OF Q STREET NW</td>\n",
       "      <td>395423.62</td>\n",
       "      <td>138083.38</td>\n",
       "      <td>...</td>\n",
       "      <td>-77.052765</td>\n",
       "      <td>2024-04-18 12:10:00+00:00</td>\n",
       "      <td>2024-04-20 15:10:00+00:00</td>\n",
       "      <td>686120602</td>\n",
       "      <td>2025-02-20</td>\n",
       "      <td>2024-04-18</td>\n",
       "      <td>2024-04-20</td>\n",
       "      <td>0 days 19:17:19</td>\n",
       "      <td>0 days 12:10:00</td>\n",
       "      <td>0 days 15:10:00</td>\n",
       "    </tr>\n",
       "    <tr>\n",
       "      <th>3616</th>\n",
       "      <td>399878.21</td>\n",
       "      <td>137742.29</td>\n",
       "      <td>25027260</td>\n",
       "      <td>2025-02-25 03:47:32+00:00</td>\n",
       "      <td>EVENING</td>\n",
       "      <td>OTHERS</td>\n",
       "      <td>SEX ABUSE</td>\n",
       "      <td>300 - 385 BLOCK OF FLORIDA AVENUE NE</td>\n",
       "      <td>399878.21</td>\n",
       "      <td>137742.29</td>\n",
       "      <td>...</td>\n",
       "      <td>-77.001404</td>\n",
       "      <td>2024-04-15 23:00:00+00:00</td>\n",
       "      <td>2024-04-15 23:02:00+00:00</td>\n",
       "      <td>686320947</td>\n",
       "      <td>2025-02-25</td>\n",
       "      <td>2024-04-15</td>\n",
       "      <td>2024-04-15</td>\n",
       "      <td>0 days 03:47:32</td>\n",
       "      <td>0 days 23:00:00</td>\n",
       "      <td>0 days 23:02:00</td>\n",
       "    </tr>\n",
       "  </tbody>\n",
       "</table>\n",
       "<p>2 rows × 28 columns</p>\n",
       "</div>"
      ],
      "text/plain": [
       "              X          Y       CCN                REPORT_DAT    SHIFT  \\\n",
       "950   395423.62  138083.38  25024960 2025-02-20 19:17:19+00:00      DAY   \n",
       "3616  399878.21  137742.29  25027260 2025-02-25 03:47:32+00:00  EVENING   \n",
       "\n",
       "      METHOD      OFFENSE                                 BLOCK     XBLOCK  \\\n",
       "950   OTHERS  THEFT/OTHER      2300 - 2699 BLOCK OF Q STREET NW  395423.62   \n",
       "3616  OTHERS    SEX ABUSE  300 - 385 BLOCK OF FLORIDA AVENUE NE  399878.21   \n",
       "\n",
       "         YBLOCK  ...  LONGITUDE                START_DATE  \\\n",
       "950   138083.38  ... -77.052765 2024-04-18 12:10:00+00:00   \n",
       "3616  137742.29  ... -77.001404 2024-04-15 23:00:00+00:00   \n",
       "\n",
       "                      END_DATE   OBJECTID  DATE(REPORT)  DATE(START)  \\\n",
       "950  2024-04-20 15:10:00+00:00  686120602    2025-02-20   2024-04-18   \n",
       "3616 2024-04-15 23:02:00+00:00  686320947    2025-02-25   2024-04-15   \n",
       "\n",
       "      DATE(END)    TIME(REPORT)     TIME(START)       TIME(END)  \n",
       "950  2024-04-20 0 days 19:17:19 0 days 12:10:00 0 days 15:10:00  \n",
       "3616 2024-04-15 0 days 03:47:32 0 days 23:00:00 0 days 23:02:00  \n",
       "\n",
       "[2 rows x 28 columns]"
      ]
     },
     "execution_count": 102,
     "metadata": {},
     "output_type": "execute_result"
    }
   ],
   "source": [
    "data_apr_2024 = data[(data['DATE(START)'].dt.year == 2024) & (data['DATE(START)'].dt.month == 4)]\n",
    "data_apr_2024.head()"
   ]
  },
  {
   "cell_type": "markdown",
   "metadata": {},
   "source": [
    "There's an invalid case (for analyisis context). When majority of cases occured/retreived in last 2024 and 2 months early in 2025, this case in month 4 (there is a period of recording that does not match or make sense because of the gap between months 4 to 8, where in months 5,6,7 there are no cases/case reports at all and this is very odd in the context of the dataset (in reality, it is impossible that there are no crime reports in these months, unless the crime reports are not recorded in the report/system, or because the latest data is available only for the end of 2024 to the beginning of 2025))."
   ]
  },
  {
   "cell_type": "code",
   "execution_count": 103,
   "metadata": {},
   "outputs": [],
   "source": [
    "data.drop(index=950, inplace=True)\n",
    "data.drop(index=3616, inplace=True)"
   ]
  },
  {
   "cell_type": "code",
   "execution_count": 104,
   "metadata": {},
   "outputs": [
    {
     "name": "stdout",
     "output_type": "stream",
     "text": [
      "Total cases in 2024, Month 1: 0\n",
      "Total cases in 2024, Month 2: 0\n",
      "Total cases in 2024, Month 3: 0\n",
      "Total cases in 2024, Month 4: 0\n",
      "Total cases in 2024, Month 5: 0\n",
      "Total cases in 2024, Month 6: 0\n",
      "Total cases in 2024, Month 7: 0\n",
      "Total cases in 2024, Month 8: 2\n",
      "Total cases in 2024, Month 9: 3\n",
      "Total cases in 2024, Month 10: 4\n",
      "Total cases in 2024, Month 11: 15\n",
      "Total cases in 2024, Month 12: 130\n"
     ]
    }
   ],
   "source": [
    "year = 2024\n",
    "month = 12 \n",
    "\n",
    "data_2024 = data[data['DATE(START)'].dt.year == year]\n",
    "\n",
    "for i in range(1, month + 1):\n",
    "    total_cases = data_2024[data_2024['DATE(START)'].dt.month == i].shape[0]\n",
    "    print(f\"Total cases in {year}, Month {i}: {total_cases}\")"
   ]
  },
  {
   "cell_type": "markdown",
   "metadata": {},
   "source": [
    "**Total cases (valid)**"
   ]
  },
  {
   "cell_type": "code",
   "execution_count": 105,
   "metadata": {},
   "outputs": [
    {
     "data": {
      "application/vnd.microsoft.datawrangler.viewer.v0+json": {
       "columns": [
        {
         "name": "index",
         "rawType": "int64",
         "type": "integer"
        },
        {
         "name": "X",
         "rawType": "float64",
         "type": "float"
        },
        {
         "name": "Y",
         "rawType": "float64",
         "type": "float"
        },
        {
         "name": "CCN",
         "rawType": "int64",
         "type": "integer"
        },
        {
         "name": "REPORT_DAT",
         "rawType": "datetime64[ns, UTC]",
         "type": "unknown"
        },
        {
         "name": "SHIFT",
         "rawType": "category",
         "type": "unknown"
        },
        {
         "name": "METHOD",
         "rawType": "category",
         "type": "unknown"
        },
        {
         "name": "OFFENSE",
         "rawType": "category",
         "type": "unknown"
        },
        {
         "name": "BLOCK",
         "rawType": "object",
         "type": "string"
        },
        {
         "name": "XBLOCK",
         "rawType": "float64",
         "type": "float"
        },
        {
         "name": "YBLOCK",
         "rawType": "float64",
         "type": "float"
        },
        {
         "name": "WARD",
         "rawType": "int64",
         "type": "integer"
        },
        {
         "name": "ANC",
         "rawType": "category",
         "type": "unknown"
        },
        {
         "name": "DISTRICT",
         "rawType": "int64",
         "type": "integer"
        },
        {
         "name": "PSA",
         "rawType": "int64",
         "type": "integer"
        },
        {
         "name": "NEIGHBORHOOD_CLUSTER",
         "rawType": "Int64",
         "type": "integer"
        },
        {
         "name": "BLOCK_GROUP",
         "rawType": "int64",
         "type": "integer"
        },
        {
         "name": "CENSUS_TRACT",
         "rawType": "int64",
         "type": "integer"
        },
        {
         "name": "LATITUDE",
         "rawType": "float64",
         "type": "float"
        },
        {
         "name": "LONGITUDE",
         "rawType": "float64",
         "type": "float"
        },
        {
         "name": "START_DATE",
         "rawType": "datetime64[ns, UTC]",
         "type": "unknown"
        },
        {
         "name": "END_DATE",
         "rawType": "datetime64[ns, UTC]",
         "type": "unknown"
        },
        {
         "name": "OBJECTID",
         "rawType": "int64",
         "type": "integer"
        },
        {
         "name": "DATE(REPORT)",
         "rawType": "datetime64[ns]",
         "type": "datetime"
        },
        {
         "name": "DATE(START)",
         "rawType": "datetime64[ns]",
         "type": "datetime"
        },
        {
         "name": "DATE(END)",
         "rawType": "datetime64[ns]",
         "type": "datetime"
        },
        {
         "name": "TIME(REPORT)",
         "rawType": "timedelta64[ns]",
         "type": "unknown"
        },
        {
         "name": "TIME(START)",
         "rawType": "timedelta64[ns]",
         "type": "unknown"
        },
        {
         "name": "TIME(END)",
         "rawType": "timedelta64[ns]",
         "type": "unknown"
        }
       ],
       "conversionMethod": "pd.DataFrame",
       "ref": "28f8a1dd-673f-4e60-818e-f93307053177",
       "rows": [
        [
         "0",
         "400046.409999996",
         "137753.649999999",
         "25017503",
         "2025-02-05 19:50:58+00:00",
         "DAY",
         "OTHERS",
         "MOTOR VEHICLE THEFT",
         "400 - 499 BLOCK OF MORSE STREET NE",
         "400046.41",
         "137753.65",
         "5",
         "5D",
         "5",
         "501",
         "23",
         "2",
         "8803",
         "38.907642221",
         "-76.9994649192",
         "2025-02-05 19:22:00+00:00",
         "2025-02-05 19:25:00+00:00",
         "685784661",
         "2025-02-05 00:00:00",
         "2025-02-05 00:00:00",
         "2025-02-05 00:00:00",
         "0 days 19:50:58",
         "0 days 19:22:00",
         "0 days 19:25:00"
        ],
        [
         "1",
         "397868.68",
         "141140.379999999",
         "25013087",
         "2025-01-28 12:08:29+00:00",
         "DAY",
         "OTHERS",
         "THEFT/OTHER",
         "3800 - 3899 BLOCK OF GEORGIA AVENUE NW",
         "397868.68",
         "141140.38",
         "4",
         "4C",
         "4",
         "404",
         "18",
         "2",
         "2503",
         "38.938148387",
         "-77.024583415",
         "2025-01-28 11:06:00+00:00",
         "2025-01-28 11:07:00+00:00",
         "685784675",
         "2025-01-28 00:00:00",
         "2025-01-28 00:00:00",
         "2025-01-28 00:00:00",
         "0 days 12:08:29",
         "0 days 11:06:00",
         "0 days 11:07:00"
        ],
        [
         "2",
         "399489.479999997",
         "137372.649999999",
         "25012701",
         "2025-01-27 17:28:06+00:00",
         "DAY",
         "OTHERS",
         "ROBBERY",
         "1100 - 1150 BLOCK OF 1ST STREET NE",
         "399489.48",
         "137372.65",
         "6",
         "6E",
         "5",
         "501",
         "25",
         "3",
         "10603",
         "38.9042098931",
         "-77.0058857204",
         "2025-01-27 15:00:00+00:00",
         "2025-01-27 15:20:00+00:00",
         "685784796",
         "2025-01-27 00:00:00",
         "2025-01-27 00:00:00",
         "2025-01-27 00:00:00",
         "0 days 17:28:06",
         "0 days 15:00:00",
         "0 days 15:20:00"
        ],
        [
         "3",
         "401498.969999999",
         "138734.57",
         "25008887",
         "2025-01-19 19:59:51+00:00",
         "DAY",
         "OTHERS",
         "THEFT/OTHER",
         "1500 - 1599 BLOCK OF NEW YORK AVENUE NE",
         "401498.97",
         "138734.57",
         "5",
         "5D",
         "5",
         "506",
         "23",
         "1",
         "8803",
         "38.9164774036",
         "-76.9827155922",
         "2025-01-19 19:22:00+00:00",
         "2025-01-19 19:32:00+00:00",
         "685784829",
         "2025-01-19 00:00:00",
         "2025-01-19 00:00:00",
         "2025-01-19 00:00:00",
         "0 days 19:59:51",
         "0 days 19:22:00",
         "0 days 19:32:00"
        ],
        [
         "4",
         "400212.850000001",
         "137949.329999998",
         "25011684",
         "2025-01-25 15:45:47+00:00",
         "DAY",
         "OTHERS",
         "THEFT F/AUTO",
         "1300 - 1399 BLOCK OF 5TH STREET NE",
         "400212.85",
         "137949.33",
         "5",
         "5D",
         "5",
         "501",
         "23",
         "2",
         "8803",
         "38.9094049494",
         "-76.9975459006",
         "2025-01-24 00:00:00+00:00",
         "2025-01-24 03:30:00+00:00",
         "685784830",
         "2025-01-25 00:00:00",
         "2025-01-24 00:00:00",
         "2025-01-24 00:00:00",
         "0 days 15:45:47",
         "0 days 00:00:00",
         "0 days 03:30:00"
        ]
       ],
       "shape": {
        "columns": 28,
        "rows": 5
       }
      },
      "text/html": [
       "<div>\n",
       "<style scoped>\n",
       "    .dataframe tbody tr th:only-of-type {\n",
       "        vertical-align: middle;\n",
       "    }\n",
       "\n",
       "    .dataframe tbody tr th {\n",
       "        vertical-align: top;\n",
       "    }\n",
       "\n",
       "    .dataframe thead th {\n",
       "        text-align: right;\n",
       "    }\n",
       "</style>\n",
       "<table border=\"1\" class=\"dataframe\">\n",
       "  <thead>\n",
       "    <tr style=\"text-align: right;\">\n",
       "      <th></th>\n",
       "      <th>X</th>\n",
       "      <th>Y</th>\n",
       "      <th>CCN</th>\n",
       "      <th>REPORT_DAT</th>\n",
       "      <th>SHIFT</th>\n",
       "      <th>METHOD</th>\n",
       "      <th>OFFENSE</th>\n",
       "      <th>BLOCK</th>\n",
       "      <th>XBLOCK</th>\n",
       "      <th>YBLOCK</th>\n",
       "      <th>...</th>\n",
       "      <th>LONGITUDE</th>\n",
       "      <th>START_DATE</th>\n",
       "      <th>END_DATE</th>\n",
       "      <th>OBJECTID</th>\n",
       "      <th>DATE(REPORT)</th>\n",
       "      <th>DATE(START)</th>\n",
       "      <th>DATE(END)</th>\n",
       "      <th>TIME(REPORT)</th>\n",
       "      <th>TIME(START)</th>\n",
       "      <th>TIME(END)</th>\n",
       "    </tr>\n",
       "  </thead>\n",
       "  <tbody>\n",
       "    <tr>\n",
       "      <th>0</th>\n",
       "      <td>400046.41</td>\n",
       "      <td>137753.65</td>\n",
       "      <td>25017503</td>\n",
       "      <td>2025-02-05 19:50:58+00:00</td>\n",
       "      <td>DAY</td>\n",
       "      <td>OTHERS</td>\n",
       "      <td>MOTOR VEHICLE THEFT</td>\n",
       "      <td>400 - 499 BLOCK OF MORSE STREET NE</td>\n",
       "      <td>400046.41</td>\n",
       "      <td>137753.65</td>\n",
       "      <td>...</td>\n",
       "      <td>-76.999465</td>\n",
       "      <td>2025-02-05 19:22:00+00:00</td>\n",
       "      <td>2025-02-05 19:25:00+00:00</td>\n",
       "      <td>685784661</td>\n",
       "      <td>2025-02-05</td>\n",
       "      <td>2025-02-05</td>\n",
       "      <td>2025-02-05</td>\n",
       "      <td>0 days 19:50:58</td>\n",
       "      <td>0 days 19:22:00</td>\n",
       "      <td>0 days 19:25:00</td>\n",
       "    </tr>\n",
       "    <tr>\n",
       "      <th>1</th>\n",
       "      <td>397868.68</td>\n",
       "      <td>141140.38</td>\n",
       "      <td>25013087</td>\n",
       "      <td>2025-01-28 12:08:29+00:00</td>\n",
       "      <td>DAY</td>\n",
       "      <td>OTHERS</td>\n",
       "      <td>THEFT/OTHER</td>\n",
       "      <td>3800 - 3899 BLOCK OF GEORGIA AVENUE NW</td>\n",
       "      <td>397868.68</td>\n",
       "      <td>141140.38</td>\n",
       "      <td>...</td>\n",
       "      <td>-77.024583</td>\n",
       "      <td>2025-01-28 11:06:00+00:00</td>\n",
       "      <td>2025-01-28 11:07:00+00:00</td>\n",
       "      <td>685784675</td>\n",
       "      <td>2025-01-28</td>\n",
       "      <td>2025-01-28</td>\n",
       "      <td>2025-01-28</td>\n",
       "      <td>0 days 12:08:29</td>\n",
       "      <td>0 days 11:06:00</td>\n",
       "      <td>0 days 11:07:00</td>\n",
       "    </tr>\n",
       "    <tr>\n",
       "      <th>2</th>\n",
       "      <td>399489.48</td>\n",
       "      <td>137372.65</td>\n",
       "      <td>25012701</td>\n",
       "      <td>2025-01-27 17:28:06+00:00</td>\n",
       "      <td>DAY</td>\n",
       "      <td>OTHERS</td>\n",
       "      <td>ROBBERY</td>\n",
       "      <td>1100 - 1150 BLOCK OF 1ST STREET NE</td>\n",
       "      <td>399489.48</td>\n",
       "      <td>137372.65</td>\n",
       "      <td>...</td>\n",
       "      <td>-77.005886</td>\n",
       "      <td>2025-01-27 15:00:00+00:00</td>\n",
       "      <td>2025-01-27 15:20:00+00:00</td>\n",
       "      <td>685784796</td>\n",
       "      <td>2025-01-27</td>\n",
       "      <td>2025-01-27</td>\n",
       "      <td>2025-01-27</td>\n",
       "      <td>0 days 17:28:06</td>\n",
       "      <td>0 days 15:00:00</td>\n",
       "      <td>0 days 15:20:00</td>\n",
       "    </tr>\n",
       "    <tr>\n",
       "      <th>3</th>\n",
       "      <td>401498.97</td>\n",
       "      <td>138734.57</td>\n",
       "      <td>25008887</td>\n",
       "      <td>2025-01-19 19:59:51+00:00</td>\n",
       "      <td>DAY</td>\n",
       "      <td>OTHERS</td>\n",
       "      <td>THEFT/OTHER</td>\n",
       "      <td>1500 - 1599 BLOCK OF NEW YORK AVENUE NE</td>\n",
       "      <td>401498.97</td>\n",
       "      <td>138734.57</td>\n",
       "      <td>...</td>\n",
       "      <td>-76.982716</td>\n",
       "      <td>2025-01-19 19:22:00+00:00</td>\n",
       "      <td>2025-01-19 19:32:00+00:00</td>\n",
       "      <td>685784829</td>\n",
       "      <td>2025-01-19</td>\n",
       "      <td>2025-01-19</td>\n",
       "      <td>2025-01-19</td>\n",
       "      <td>0 days 19:59:51</td>\n",
       "      <td>0 days 19:22:00</td>\n",
       "      <td>0 days 19:32:00</td>\n",
       "    </tr>\n",
       "    <tr>\n",
       "      <th>4</th>\n",
       "      <td>400212.85</td>\n",
       "      <td>137949.33</td>\n",
       "      <td>25011684</td>\n",
       "      <td>2025-01-25 15:45:47+00:00</td>\n",
       "      <td>DAY</td>\n",
       "      <td>OTHERS</td>\n",
       "      <td>THEFT F/AUTO</td>\n",
       "      <td>1300 - 1399 BLOCK OF 5TH STREET NE</td>\n",
       "      <td>400212.85</td>\n",
       "      <td>137949.33</td>\n",
       "      <td>...</td>\n",
       "      <td>-76.997546</td>\n",
       "      <td>2025-01-24 00:00:00+00:00</td>\n",
       "      <td>2025-01-24 03:30:00+00:00</td>\n",
       "      <td>685784830</td>\n",
       "      <td>2025-01-25</td>\n",
       "      <td>2025-01-24</td>\n",
       "      <td>2025-01-24</td>\n",
       "      <td>0 days 15:45:47</td>\n",
       "      <td>0 days 00:00:00</td>\n",
       "      <td>0 days 03:30:00</td>\n",
       "    </tr>\n",
       "  </tbody>\n",
       "</table>\n",
       "<p>5 rows × 28 columns</p>\n",
       "</div>"
      ],
      "text/plain": [
       "           X          Y       CCN                REPORT_DAT SHIFT  METHOD  \\\n",
       "0  400046.41  137753.65  25017503 2025-02-05 19:50:58+00:00   DAY  OTHERS   \n",
       "1  397868.68  141140.38  25013087 2025-01-28 12:08:29+00:00   DAY  OTHERS   \n",
       "2  399489.48  137372.65  25012701 2025-01-27 17:28:06+00:00   DAY  OTHERS   \n",
       "3  401498.97  138734.57  25008887 2025-01-19 19:59:51+00:00   DAY  OTHERS   \n",
       "4  400212.85  137949.33  25011684 2025-01-25 15:45:47+00:00   DAY  OTHERS   \n",
       "\n",
       "               OFFENSE                                    BLOCK     XBLOCK  \\\n",
       "0  MOTOR VEHICLE THEFT       400 - 499 BLOCK OF MORSE STREET NE  400046.41   \n",
       "1          THEFT/OTHER   3800 - 3899 BLOCK OF GEORGIA AVENUE NW  397868.68   \n",
       "2              ROBBERY       1100 - 1150 BLOCK OF 1ST STREET NE  399489.48   \n",
       "3          THEFT/OTHER  1500 - 1599 BLOCK OF NEW YORK AVENUE NE  401498.97   \n",
       "4         THEFT F/AUTO       1300 - 1399 BLOCK OF 5TH STREET NE  400212.85   \n",
       "\n",
       "      YBLOCK  ...  LONGITUDE                START_DATE  \\\n",
       "0  137753.65  ... -76.999465 2025-02-05 19:22:00+00:00   \n",
       "1  141140.38  ... -77.024583 2025-01-28 11:06:00+00:00   \n",
       "2  137372.65  ... -77.005886 2025-01-27 15:00:00+00:00   \n",
       "3  138734.57  ... -76.982716 2025-01-19 19:22:00+00:00   \n",
       "4  137949.33  ... -76.997546 2025-01-24 00:00:00+00:00   \n",
       "\n",
       "                   END_DATE   OBJECTID  DATE(REPORT)  DATE(START)  DATE(END)  \\\n",
       "0 2025-02-05 19:25:00+00:00  685784661    2025-02-05   2025-02-05 2025-02-05   \n",
       "1 2025-01-28 11:07:00+00:00  685784675    2025-01-28   2025-01-28 2025-01-28   \n",
       "2 2025-01-27 15:20:00+00:00  685784796    2025-01-27   2025-01-27 2025-01-27   \n",
       "3 2025-01-19 19:32:00+00:00  685784829    2025-01-19   2025-01-19 2025-01-19   \n",
       "4 2025-01-24 03:30:00+00:00  685784830    2025-01-25   2025-01-24 2025-01-24   \n",
       "\n",
       "     TIME(REPORT)     TIME(START)       TIME(END)  \n",
       "0 0 days 19:50:58 0 days 19:22:00 0 days 19:25:00  \n",
       "1 0 days 12:08:29 0 days 11:06:00 0 days 11:07:00  \n",
       "2 0 days 17:28:06 0 days 15:00:00 0 days 15:20:00  \n",
       "3 0 days 19:59:51 0 days 19:22:00 0 days 19:32:00  \n",
       "4 0 days 15:45:47 0 days 00:00:00 0 days 03:30:00  \n",
       "\n",
       "[5 rows x 28 columns]"
      ]
     },
     "execution_count": 105,
     "metadata": {},
     "output_type": "execute_result"
    }
   ],
   "source": [
    "data.head()"
   ]
  },
  {
   "cell_type": "code",
   "execution_count": 106,
   "metadata": {},
   "outputs": [
    {
     "name": "stdout",
     "output_type": "stream",
     "text": [
      "Total cases: 4160\n"
     ]
    }
   ],
   "source": [
    "print(f'Total cases: {len(data)}')"
   ]
  },
  {
   "cell_type": "code",
   "execution_count": 107,
   "metadata": {},
   "outputs": [
    {
     "name": "stdout",
     "output_type": "stream",
     "text": [
      "======== Date crime occured ========\n",
      "Earliest case: 2024-08-06 00:00:00\n",
      "Latest case: 2025-03-04 00:00:00\n"
     ]
    }
   ],
   "source": [
    "earliest_case = data.loc[data['DATE(START)'] != default_date, 'DATE(START)'].min()\n",
    "latest_case = data['DATE(START)'].max()\n",
    "\n",
    "print('======== Date crime occured ========')\n",
    "print(f\"Earliest case: {earliest_case}\")\n",
    "print(f\"Latest case: {latest_case}\")"
   ]
  },
  {
   "cell_type": "markdown",
   "metadata": {},
   "source": [
    "Decision: in the period from the end of 2024 to the beginning of March 2025, the total number of reported crimes reached 4160."
   ]
  },
  {
   "cell_type": "code",
   "execution_count": 108,
   "metadata": {},
   "outputs": [],
   "source": [
    "data['DISTRICT'] = data['DISTRICT'].astype(int)"
   ]
  },
  {
   "cell_type": "code",
   "execution_count": 109,
   "metadata": {},
   "outputs": [
    {
     "name": "stdout",
     "output_type": "stream",
     "text": [
      "<class 'pandas.core.frame.DataFrame'>\n",
      "Index: 4160 entries, 0 to 4163\n",
      "Data columns (total 28 columns):\n",
      " #   Column                Non-Null Count  Dtype              \n",
      "---  ------                --------------  -----              \n",
      " 0   X                     4160 non-null   float64            \n",
      " 1   Y                     4160 non-null   float64            \n",
      " 2   CCN                   4160 non-null   int64              \n",
      " 3   REPORT_DAT            4160 non-null   datetime64[ns, UTC]\n",
      " 4   SHIFT                 4160 non-null   category           \n",
      " 5   METHOD                4160 non-null   category           \n",
      " 6   OFFENSE               4160 non-null   category           \n",
      " 7   BLOCK                 4160 non-null   object             \n",
      " 8   XBLOCK                4160 non-null   float64            \n",
      " 9   YBLOCK                4160 non-null   float64            \n",
      " 10  WARD                  4160 non-null   int64              \n",
      " 11  ANC                   4160 non-null   category           \n",
      " 12  DISTRICT              4160 non-null   int64              \n",
      " 13  PSA                   4160 non-null   int64              \n",
      " 14  NEIGHBORHOOD_CLUSTER  4160 non-null   Int64              \n",
      " 15  BLOCK_GROUP           4160 non-null   int64              \n",
      " 16  CENSUS_TRACT          4160 non-null   int64              \n",
      " 17  LATITUDE              4160 non-null   float64            \n",
      " 18  LONGITUDE             4160 non-null   float64            \n",
      " 19  START_DATE            4160 non-null   datetime64[ns, UTC]\n",
      " 20  END_DATE              4160 non-null   datetime64[ns, UTC]\n",
      " 21  OBJECTID              4160 non-null   int64              \n",
      " 22  DATE(REPORT)          4160 non-null   datetime64[ns]     \n",
      " 23  DATE(START)           4160 non-null   datetime64[ns]     \n",
      " 24  DATE(END)             4160 non-null   datetime64[ns]     \n",
      " 25  TIME(REPORT)          4160 non-null   timedelta64[ns]    \n",
      " 26  TIME(START)           4160 non-null   timedelta64[ns]    \n",
      " 27  TIME(END)             4160 non-null   timedelta64[ns]    \n",
      "dtypes: Int64(1), category(4), datetime64[ns, UTC](3), datetime64[ns](3), float64(6), int64(7), object(1), timedelta64[ns](3)\n",
      "memory usage: 834.8+ KB\n"
     ]
    }
   ],
   "source": [
    "data.info()"
   ]
  },
  {
   "cell_type": "markdown",
   "metadata": {},
   "source": [
    "Ready to analysis with tableau"
   ]
  },
  {
   "cell_type": "code",
   "execution_count": 110,
   "metadata": {},
   "outputs": [],
   "source": [
    "data.to_csv('CRIME_DATA.csv', index=False)"
   ]
  },
  {
   "cell_type": "code",
   "execution_count": 111,
   "metadata": {},
   "outputs": [],
   "source": [
    "data.to_parquet('CRIME_DATA.parquet', engine='pyarrow')"
   ]
  },
  {
   "cell_type": "markdown",
   "metadata": {},
   "source": [
    "<h3><b>CLEANING DATA VALUE PART 2</b></h3> "
   ]
  },
  {
   "cell_type": "code",
   "execution_count": 2,
   "metadata": {},
   "outputs": [
    {
     "data": {
      "application/vnd.microsoft.datawrangler.viewer.v0+json": {
       "columns": [
        {
         "name": "index",
         "rawType": "int64",
         "type": "integer"
        },
        {
         "name": "X",
         "rawType": "float64",
         "type": "float"
        },
        {
         "name": "Y",
         "rawType": "float64",
         "type": "float"
        },
        {
         "name": "CCN",
         "rawType": "int64",
         "type": "integer"
        },
        {
         "name": "REPORT_DAT",
         "rawType": "datetime64[ns, UTC]",
         "type": "unknown"
        },
        {
         "name": "SHIFT",
         "rawType": "category",
         "type": "unknown"
        },
        {
         "name": "METHOD",
         "rawType": "category",
         "type": "unknown"
        },
        {
         "name": "OFFENSE",
         "rawType": "category",
         "type": "unknown"
        },
        {
         "name": "BLOCK",
         "rawType": "object",
         "type": "string"
        },
        {
         "name": "XBLOCK",
         "rawType": "float64",
         "type": "float"
        },
        {
         "name": "YBLOCK",
         "rawType": "float64",
         "type": "float"
        },
        {
         "name": "WARD",
         "rawType": "int64",
         "type": "integer"
        },
        {
         "name": "ANC",
         "rawType": "category",
         "type": "unknown"
        },
        {
         "name": "DISTRICT",
         "rawType": "int64",
         "type": "integer"
        },
        {
         "name": "PSA",
         "rawType": "int64",
         "type": "integer"
        },
        {
         "name": "NEIGHBORHOOD_CLUSTER",
         "rawType": "Int64",
         "type": "integer"
        },
        {
         "name": "BLOCK_GROUP",
         "rawType": "int64",
         "type": "integer"
        },
        {
         "name": "CENSUS_TRACT",
         "rawType": "int64",
         "type": "integer"
        },
        {
         "name": "LATITUDE",
         "rawType": "float64",
         "type": "float"
        },
        {
         "name": "LONGITUDE",
         "rawType": "float64",
         "type": "float"
        },
        {
         "name": "START_DATE",
         "rawType": "datetime64[ns, UTC]",
         "type": "unknown"
        },
        {
         "name": "END_DATE",
         "rawType": "datetime64[ns, UTC]",
         "type": "unknown"
        },
        {
         "name": "OBJECTID",
         "rawType": "int64",
         "type": "integer"
        },
        {
         "name": "DATE(REPORT)",
         "rawType": "datetime64[ns]",
         "type": "datetime"
        },
        {
         "name": "DATE(START)",
         "rawType": "datetime64[ns]",
         "type": "datetime"
        },
        {
         "name": "DATE(END)",
         "rawType": "datetime64[ns]",
         "type": "datetime"
        },
        {
         "name": "TIME(REPORT)",
         "rawType": "timedelta64[ns]",
         "type": "unknown"
        },
        {
         "name": "TIME(START)",
         "rawType": "timedelta64[ns]",
         "type": "unknown"
        },
        {
         "name": "TIME(END)",
         "rawType": "timedelta64[ns]",
         "type": "unknown"
        }
       ],
       "conversionMethod": "pd.DataFrame",
       "ref": "7dd519be-0872-4afd-a9df-ab41dc75ebe0",
       "rows": [
        [
         "0",
         "400046.409999996",
         "137753.649999999",
         "25017503",
         "2025-02-05 19:50:58+00:00",
         "DAY",
         "OTHERS",
         "MOTOR VEHICLE THEFT",
         "400 - 499 BLOCK OF MORSE STREET NE",
         "400046.41",
         "137753.65",
         "5",
         "5D",
         "5",
         "501",
         "23",
         "2",
         "8803",
         "38.907642221",
         "-76.9994649192",
         "2025-02-05 19:22:00+00:00",
         "2025-02-05 19:25:00+00:00",
         "685784661",
         "2025-02-05 00:00:00",
         "2025-02-05 00:00:00",
         "2025-02-05 00:00:00",
         "0 days 19:50:58",
         "0 days 19:22:00",
         "0 days 19:25:00"
        ],
        [
         "1",
         "397868.68",
         "141140.379999999",
         "25013087",
         "2025-01-28 12:08:29+00:00",
         "DAY",
         "OTHERS",
         "THEFT/OTHER",
         "3800 - 3899 BLOCK OF GEORGIA AVENUE NW",
         "397868.68",
         "141140.38",
         "4",
         "4C",
         "4",
         "404",
         "18",
         "2",
         "2503",
         "38.938148387",
         "-77.024583415",
         "2025-01-28 11:06:00+00:00",
         "2025-01-28 11:07:00+00:00",
         "685784675",
         "2025-01-28 00:00:00",
         "2025-01-28 00:00:00",
         "2025-01-28 00:00:00",
         "0 days 12:08:29",
         "0 days 11:06:00",
         "0 days 11:07:00"
        ],
        [
         "2",
         "399489.479999997",
         "137372.649999999",
         "25012701",
         "2025-01-27 17:28:06+00:00",
         "DAY",
         "OTHERS",
         "ROBBERY",
         "1100 - 1150 BLOCK OF 1ST STREET NE",
         "399489.48",
         "137372.65",
         "6",
         "6E",
         "5",
         "501",
         "25",
         "3",
         "10603",
         "38.9042098931",
         "-77.0058857204",
         "2025-01-27 15:00:00+00:00",
         "2025-01-27 15:20:00+00:00",
         "685784796",
         "2025-01-27 00:00:00",
         "2025-01-27 00:00:00",
         "2025-01-27 00:00:00",
         "0 days 17:28:06",
         "0 days 15:00:00",
         "0 days 15:20:00"
        ],
        [
         "3",
         "401498.969999999",
         "138734.57",
         "25008887",
         "2025-01-19 19:59:51+00:00",
         "DAY",
         "OTHERS",
         "THEFT/OTHER",
         "1500 - 1599 BLOCK OF NEW YORK AVENUE NE",
         "401498.97",
         "138734.57",
         "5",
         "5D",
         "5",
         "506",
         "23",
         "1",
         "8803",
         "38.9164774036",
         "-76.9827155922",
         "2025-01-19 19:22:00+00:00",
         "2025-01-19 19:32:00+00:00",
         "685784829",
         "2025-01-19 00:00:00",
         "2025-01-19 00:00:00",
         "2025-01-19 00:00:00",
         "0 days 19:59:51",
         "0 days 19:22:00",
         "0 days 19:32:00"
        ],
        [
         "4",
         "400212.850000001",
         "137949.329999998",
         "25011684",
         "2025-01-25 15:45:47+00:00",
         "DAY",
         "OTHERS",
         "THEFT F/AUTO",
         "1300 - 1399 BLOCK OF 5TH STREET NE",
         "400212.85",
         "137949.33",
         "5",
         "5D",
         "5",
         "501",
         "23",
         "2",
         "8803",
         "38.9094049494",
         "-76.9975459006",
         "2025-01-24 00:00:00+00:00",
         "2025-01-24 03:30:00+00:00",
         "685784830",
         "2025-01-25 00:00:00",
         "2025-01-24 00:00:00",
         "2025-01-24 00:00:00",
         "0 days 15:45:47",
         "0 days 00:00:00",
         "0 days 03:30:00"
        ],
        [
         "5",
         "397655.460000001",
         "139302.91",
         "25013283",
         "2025-01-28 20:29:39+00:00",
         "EVENING",
         "GUN",
         "ROBBERY",
         "2300 - 2499 BLOCK OF 11TH STREET NW",
         "397655.46",
         "139302.91",
         "1",
         "1B",
         "3",
         "304",
         "2",
         "3",
         "3600",
         "38.9215953471",
         "-77.0270364945",
         "2025-01-28 17:50:00+00:00",
         "2025-01-28 17:52:00+00:00",
         "685784831",
         "2025-01-28 00:00:00",
         "2025-01-28 00:00:00",
         "2025-01-28 00:00:00",
         "0 days 20:29:39",
         "0 days 17:50:00",
         "0 days 17:52:00"
        ],
        [
         "6",
         "397921.520000003",
         "138712.809999999",
         "25002549",
         "2025-01-06 03:12:43+00:00",
         "EVENING",
         "OTHERS",
         "THEFT/OTHER",
         "1900 - 1999 BLOCK OF 9TH STREET NW",
         "397921.52",
         "138712.81",
         "1",
         "1B",
         "3",
         "305",
         "3",
         "2",
         "4402",
         "38.9162802028",
         "-77.0239665883",
         "2025-01-05 11:00:00+00:00",
         "2025-01-05 11:30:00+00:00",
         "685784832",
         "2025-01-06 00:00:00",
         "2025-01-05 00:00:00",
         "2025-01-05 00:00:00",
         "0 days 03:12:43",
         "0 days 11:00:00",
         "0 days 11:30:00"
        ],
        [
         "7",
         "401627.936999999",
         "132937.326900002",
         "25420547",
         "2025-02-06 12:01:12+00:00",
         "DAY",
         "OTHERS",
         "THEFT/OTHER",
         "1600 - 1699 BLOCK OF V STREET SE",
         "401627.936959464",
         "132937.326936797",
         "8",
         "8A",
         "7",
         "701",
         "28",
         "2",
         "7504",
         "38.8642534441",
         "-76.9812422284",
         "2025-02-05 21:31:00+00:00",
         "2025-02-05 21:40:00+00:00",
         "685784987",
         "2025-02-06 00:00:00",
         "2025-02-05 00:00:00",
         "2025-02-05 00:00:00",
         "0 days 12:01:12",
         "0 days 21:31:00",
         "0 days 21:40:00"
        ],
        [
         "8",
         "393619.539999999",
         "143740.09",
         "25420388",
         "2025-01-30 11:31:22+00:00",
         "MIDNIGHT",
         "OTHERS",
         "THEFT/OTHER",
         "5400 - 5419 BLOCK OF CONNECTICUT AVENUE NW",
         "393619.54",
         "143740.09",
         "3",
         "3/4G",
         "2",
         "201",
         "10",
         "1",
         "1100",
         "38.9615466978",
         "-77.073618699",
         "2024-12-23 15:00:00+00:00",
         "2025-01-22 00:50:00+00:00",
         "685785027",
         "2025-01-30 00:00:00",
         "2024-12-23 00:00:00",
         "2025-01-22 00:00:00",
         "0 days 11:31:22",
         "0 days 15:00:00",
         "0 days 00:50:00"
        ],
        [
         "9",
         "399868.920000002",
         "143373.539999999",
         "25018642",
         "2025-02-08 02:07:45+00:00",
         "EVENING",
         "OTHERS",
         "THEFT/OTHER",
         "310 - 399 BLOCK OF RIGGS ROAD NE",
         "399868.92",
         "143373.54",
         "4",
         "4B",
         "4",
         "406",
         "19",
         "3",
         "9505",
         "38.9582678873",
         "-77.0015123508",
         "2025-02-07 22:34:00+00:00",
         "2025-02-07 23:56:00+00:00",
         "685785032",
         "2025-02-08 00:00:00",
         "2025-02-07 00:00:00",
         "2025-02-07 00:00:00",
         "0 days 02:07:45",
         "0 days 22:34:00",
         "0 days 23:56:00"
        ]
       ],
       "shape": {
        "columns": 28,
        "rows": 10
       }
      },
      "text/html": [
       "<div>\n",
       "<style scoped>\n",
       "    .dataframe tbody tr th:only-of-type {\n",
       "        vertical-align: middle;\n",
       "    }\n",
       "\n",
       "    .dataframe tbody tr th {\n",
       "        vertical-align: top;\n",
       "    }\n",
       "\n",
       "    .dataframe thead th {\n",
       "        text-align: right;\n",
       "    }\n",
       "</style>\n",
       "<table border=\"1\" class=\"dataframe\">\n",
       "  <thead>\n",
       "    <tr style=\"text-align: right;\">\n",
       "      <th></th>\n",
       "      <th>X</th>\n",
       "      <th>Y</th>\n",
       "      <th>CCN</th>\n",
       "      <th>REPORT_DAT</th>\n",
       "      <th>SHIFT</th>\n",
       "      <th>METHOD</th>\n",
       "      <th>OFFENSE</th>\n",
       "      <th>BLOCK</th>\n",
       "      <th>XBLOCK</th>\n",
       "      <th>YBLOCK</th>\n",
       "      <th>...</th>\n",
       "      <th>LONGITUDE</th>\n",
       "      <th>START_DATE</th>\n",
       "      <th>END_DATE</th>\n",
       "      <th>OBJECTID</th>\n",
       "      <th>DATE(REPORT)</th>\n",
       "      <th>DATE(START)</th>\n",
       "      <th>DATE(END)</th>\n",
       "      <th>TIME(REPORT)</th>\n",
       "      <th>TIME(START)</th>\n",
       "      <th>TIME(END)</th>\n",
       "    </tr>\n",
       "  </thead>\n",
       "  <tbody>\n",
       "    <tr>\n",
       "      <th>0</th>\n",
       "      <td>400046.410</td>\n",
       "      <td>137753.6500</td>\n",
       "      <td>25017503</td>\n",
       "      <td>2025-02-05 19:50:58+00:00</td>\n",
       "      <td>DAY</td>\n",
       "      <td>OTHERS</td>\n",
       "      <td>MOTOR VEHICLE THEFT</td>\n",
       "      <td>400 - 499 BLOCK OF MORSE STREET NE</td>\n",
       "      <td>400046.410000</td>\n",
       "      <td>137753.650000</td>\n",
       "      <td>...</td>\n",
       "      <td>-76.999465</td>\n",
       "      <td>2025-02-05 19:22:00+00:00</td>\n",
       "      <td>2025-02-05 19:25:00+00:00</td>\n",
       "      <td>685784661</td>\n",
       "      <td>2025-02-05</td>\n",
       "      <td>2025-02-05</td>\n",
       "      <td>2025-02-05</td>\n",
       "      <td>0 days 19:50:58</td>\n",
       "      <td>0 days 19:22:00</td>\n",
       "      <td>0 days 19:25:00</td>\n",
       "    </tr>\n",
       "    <tr>\n",
       "      <th>1</th>\n",
       "      <td>397868.680</td>\n",
       "      <td>141140.3800</td>\n",
       "      <td>25013087</td>\n",
       "      <td>2025-01-28 12:08:29+00:00</td>\n",
       "      <td>DAY</td>\n",
       "      <td>OTHERS</td>\n",
       "      <td>THEFT/OTHER</td>\n",
       "      <td>3800 - 3899 BLOCK OF GEORGIA AVENUE NW</td>\n",
       "      <td>397868.680000</td>\n",
       "      <td>141140.380000</td>\n",
       "      <td>...</td>\n",
       "      <td>-77.024583</td>\n",
       "      <td>2025-01-28 11:06:00+00:00</td>\n",
       "      <td>2025-01-28 11:07:00+00:00</td>\n",
       "      <td>685784675</td>\n",
       "      <td>2025-01-28</td>\n",
       "      <td>2025-01-28</td>\n",
       "      <td>2025-01-28</td>\n",
       "      <td>0 days 12:08:29</td>\n",
       "      <td>0 days 11:06:00</td>\n",
       "      <td>0 days 11:07:00</td>\n",
       "    </tr>\n",
       "    <tr>\n",
       "      <th>2</th>\n",
       "      <td>399489.480</td>\n",
       "      <td>137372.6500</td>\n",
       "      <td>25012701</td>\n",
       "      <td>2025-01-27 17:28:06+00:00</td>\n",
       "      <td>DAY</td>\n",
       "      <td>OTHERS</td>\n",
       "      <td>ROBBERY</td>\n",
       "      <td>1100 - 1150 BLOCK OF 1ST STREET NE</td>\n",
       "      <td>399489.480000</td>\n",
       "      <td>137372.650000</td>\n",
       "      <td>...</td>\n",
       "      <td>-77.005886</td>\n",
       "      <td>2025-01-27 15:00:00+00:00</td>\n",
       "      <td>2025-01-27 15:20:00+00:00</td>\n",
       "      <td>685784796</td>\n",
       "      <td>2025-01-27</td>\n",
       "      <td>2025-01-27</td>\n",
       "      <td>2025-01-27</td>\n",
       "      <td>0 days 17:28:06</td>\n",
       "      <td>0 days 15:00:00</td>\n",
       "      <td>0 days 15:20:00</td>\n",
       "    </tr>\n",
       "    <tr>\n",
       "      <th>3</th>\n",
       "      <td>401498.970</td>\n",
       "      <td>138734.5700</td>\n",
       "      <td>25008887</td>\n",
       "      <td>2025-01-19 19:59:51+00:00</td>\n",
       "      <td>DAY</td>\n",
       "      <td>OTHERS</td>\n",
       "      <td>THEFT/OTHER</td>\n",
       "      <td>1500 - 1599 BLOCK OF NEW YORK AVENUE NE</td>\n",
       "      <td>401498.970000</td>\n",
       "      <td>138734.570000</td>\n",
       "      <td>...</td>\n",
       "      <td>-76.982716</td>\n",
       "      <td>2025-01-19 19:22:00+00:00</td>\n",
       "      <td>2025-01-19 19:32:00+00:00</td>\n",
       "      <td>685784829</td>\n",
       "      <td>2025-01-19</td>\n",
       "      <td>2025-01-19</td>\n",
       "      <td>2025-01-19</td>\n",
       "      <td>0 days 19:59:51</td>\n",
       "      <td>0 days 19:22:00</td>\n",
       "      <td>0 days 19:32:00</td>\n",
       "    </tr>\n",
       "    <tr>\n",
       "      <th>4</th>\n",
       "      <td>400212.850</td>\n",
       "      <td>137949.3300</td>\n",
       "      <td>25011684</td>\n",
       "      <td>2025-01-25 15:45:47+00:00</td>\n",
       "      <td>DAY</td>\n",
       "      <td>OTHERS</td>\n",
       "      <td>THEFT F/AUTO</td>\n",
       "      <td>1300 - 1399 BLOCK OF 5TH STREET NE</td>\n",
       "      <td>400212.850000</td>\n",
       "      <td>137949.330000</td>\n",
       "      <td>...</td>\n",
       "      <td>-76.997546</td>\n",
       "      <td>2025-01-24 00:00:00+00:00</td>\n",
       "      <td>2025-01-24 03:30:00+00:00</td>\n",
       "      <td>685784830</td>\n",
       "      <td>2025-01-25</td>\n",
       "      <td>2025-01-24</td>\n",
       "      <td>2025-01-24</td>\n",
       "      <td>0 days 15:45:47</td>\n",
       "      <td>0 days 00:00:00</td>\n",
       "      <td>0 days 03:30:00</td>\n",
       "    </tr>\n",
       "    <tr>\n",
       "      <th>5</th>\n",
       "      <td>397655.460</td>\n",
       "      <td>139302.9100</td>\n",
       "      <td>25013283</td>\n",
       "      <td>2025-01-28 20:29:39+00:00</td>\n",
       "      <td>EVENING</td>\n",
       "      <td>GUN</td>\n",
       "      <td>ROBBERY</td>\n",
       "      <td>2300 - 2499 BLOCK OF 11TH STREET NW</td>\n",
       "      <td>397655.460000</td>\n",
       "      <td>139302.910000</td>\n",
       "      <td>...</td>\n",
       "      <td>-77.027036</td>\n",
       "      <td>2025-01-28 17:50:00+00:00</td>\n",
       "      <td>2025-01-28 17:52:00+00:00</td>\n",
       "      <td>685784831</td>\n",
       "      <td>2025-01-28</td>\n",
       "      <td>2025-01-28</td>\n",
       "      <td>2025-01-28</td>\n",
       "      <td>0 days 20:29:39</td>\n",
       "      <td>0 days 17:50:00</td>\n",
       "      <td>0 days 17:52:00</td>\n",
       "    </tr>\n",
       "    <tr>\n",
       "      <th>6</th>\n",
       "      <td>397921.520</td>\n",
       "      <td>138712.8100</td>\n",
       "      <td>25002549</td>\n",
       "      <td>2025-01-06 03:12:43+00:00</td>\n",
       "      <td>EVENING</td>\n",
       "      <td>OTHERS</td>\n",
       "      <td>THEFT/OTHER</td>\n",
       "      <td>1900 - 1999 BLOCK OF 9TH STREET NW</td>\n",
       "      <td>397921.520000</td>\n",
       "      <td>138712.810000</td>\n",
       "      <td>...</td>\n",
       "      <td>-77.023967</td>\n",
       "      <td>2025-01-05 11:00:00+00:00</td>\n",
       "      <td>2025-01-05 11:30:00+00:00</td>\n",
       "      <td>685784832</td>\n",
       "      <td>2025-01-06</td>\n",
       "      <td>2025-01-05</td>\n",
       "      <td>2025-01-05</td>\n",
       "      <td>0 days 03:12:43</td>\n",
       "      <td>0 days 11:00:00</td>\n",
       "      <td>0 days 11:30:00</td>\n",
       "    </tr>\n",
       "    <tr>\n",
       "      <th>7</th>\n",
       "      <td>401627.937</td>\n",
       "      <td>132937.3269</td>\n",
       "      <td>25420547</td>\n",
       "      <td>2025-02-06 12:01:12+00:00</td>\n",
       "      <td>DAY</td>\n",
       "      <td>OTHERS</td>\n",
       "      <td>THEFT/OTHER</td>\n",
       "      <td>1600 - 1699 BLOCK OF V STREET SE</td>\n",
       "      <td>401627.936959</td>\n",
       "      <td>132937.326937</td>\n",
       "      <td>...</td>\n",
       "      <td>-76.981242</td>\n",
       "      <td>2025-02-05 21:31:00+00:00</td>\n",
       "      <td>2025-02-05 21:40:00+00:00</td>\n",
       "      <td>685784987</td>\n",
       "      <td>2025-02-06</td>\n",
       "      <td>2025-02-05</td>\n",
       "      <td>2025-02-05</td>\n",
       "      <td>0 days 12:01:12</td>\n",
       "      <td>0 days 21:31:00</td>\n",
       "      <td>0 days 21:40:00</td>\n",
       "    </tr>\n",
       "    <tr>\n",
       "      <th>8</th>\n",
       "      <td>393619.540</td>\n",
       "      <td>143740.0900</td>\n",
       "      <td>25420388</td>\n",
       "      <td>2025-01-30 11:31:22+00:00</td>\n",
       "      <td>MIDNIGHT</td>\n",
       "      <td>OTHERS</td>\n",
       "      <td>THEFT/OTHER</td>\n",
       "      <td>5400 - 5419 BLOCK OF CONNECTICUT AVENUE NW</td>\n",
       "      <td>393619.540000</td>\n",
       "      <td>143740.090000</td>\n",
       "      <td>...</td>\n",
       "      <td>-77.073619</td>\n",
       "      <td>2024-12-23 15:00:00+00:00</td>\n",
       "      <td>2025-01-22 00:50:00+00:00</td>\n",
       "      <td>685785027</td>\n",
       "      <td>2025-01-30</td>\n",
       "      <td>2024-12-23</td>\n",
       "      <td>2025-01-22</td>\n",
       "      <td>0 days 11:31:22</td>\n",
       "      <td>0 days 15:00:00</td>\n",
       "      <td>0 days 00:50:00</td>\n",
       "    </tr>\n",
       "    <tr>\n",
       "      <th>9</th>\n",
       "      <td>399868.920</td>\n",
       "      <td>143373.5400</td>\n",
       "      <td>25018642</td>\n",
       "      <td>2025-02-08 02:07:45+00:00</td>\n",
       "      <td>EVENING</td>\n",
       "      <td>OTHERS</td>\n",
       "      <td>THEFT/OTHER</td>\n",
       "      <td>310 - 399 BLOCK OF RIGGS ROAD NE</td>\n",
       "      <td>399868.920000</td>\n",
       "      <td>143373.540000</td>\n",
       "      <td>...</td>\n",
       "      <td>-77.001512</td>\n",
       "      <td>2025-02-07 22:34:00+00:00</td>\n",
       "      <td>2025-02-07 23:56:00+00:00</td>\n",
       "      <td>685785032</td>\n",
       "      <td>2025-02-08</td>\n",
       "      <td>2025-02-07</td>\n",
       "      <td>2025-02-07</td>\n",
       "      <td>0 days 02:07:45</td>\n",
       "      <td>0 days 22:34:00</td>\n",
       "      <td>0 days 23:56:00</td>\n",
       "    </tr>\n",
       "  </tbody>\n",
       "</table>\n",
       "<p>10 rows × 28 columns</p>\n",
       "</div>"
      ],
      "text/plain": [
       "            X            Y       CCN                REPORT_DAT     SHIFT  \\\n",
       "0  400046.410  137753.6500  25017503 2025-02-05 19:50:58+00:00       DAY   \n",
       "1  397868.680  141140.3800  25013087 2025-01-28 12:08:29+00:00       DAY   \n",
       "2  399489.480  137372.6500  25012701 2025-01-27 17:28:06+00:00       DAY   \n",
       "3  401498.970  138734.5700  25008887 2025-01-19 19:59:51+00:00       DAY   \n",
       "4  400212.850  137949.3300  25011684 2025-01-25 15:45:47+00:00       DAY   \n",
       "5  397655.460  139302.9100  25013283 2025-01-28 20:29:39+00:00   EVENING   \n",
       "6  397921.520  138712.8100  25002549 2025-01-06 03:12:43+00:00   EVENING   \n",
       "7  401627.937  132937.3269  25420547 2025-02-06 12:01:12+00:00       DAY   \n",
       "8  393619.540  143740.0900  25420388 2025-01-30 11:31:22+00:00  MIDNIGHT   \n",
       "9  399868.920  143373.5400  25018642 2025-02-08 02:07:45+00:00   EVENING   \n",
       "\n",
       "   METHOD              OFFENSE                                       BLOCK  \\\n",
       "0  OTHERS  MOTOR VEHICLE THEFT          400 - 499 BLOCK OF MORSE STREET NE   \n",
       "1  OTHERS          THEFT/OTHER      3800 - 3899 BLOCK OF GEORGIA AVENUE NW   \n",
       "2  OTHERS              ROBBERY          1100 - 1150 BLOCK OF 1ST STREET NE   \n",
       "3  OTHERS          THEFT/OTHER     1500 - 1599 BLOCK OF NEW YORK AVENUE NE   \n",
       "4  OTHERS         THEFT F/AUTO          1300 - 1399 BLOCK OF 5TH STREET NE   \n",
       "5     GUN              ROBBERY         2300 - 2499 BLOCK OF 11TH STREET NW   \n",
       "6  OTHERS          THEFT/OTHER          1900 - 1999 BLOCK OF 9TH STREET NW   \n",
       "7  OTHERS          THEFT/OTHER            1600 - 1699 BLOCK OF V STREET SE   \n",
       "8  OTHERS          THEFT/OTHER  5400 - 5419 BLOCK OF CONNECTICUT AVENUE NW   \n",
       "9  OTHERS          THEFT/OTHER            310 - 399 BLOCK OF RIGGS ROAD NE   \n",
       "\n",
       "          XBLOCK         YBLOCK  ...  LONGITUDE                START_DATE  \\\n",
       "0  400046.410000  137753.650000  ... -76.999465 2025-02-05 19:22:00+00:00   \n",
       "1  397868.680000  141140.380000  ... -77.024583 2025-01-28 11:06:00+00:00   \n",
       "2  399489.480000  137372.650000  ... -77.005886 2025-01-27 15:00:00+00:00   \n",
       "3  401498.970000  138734.570000  ... -76.982716 2025-01-19 19:22:00+00:00   \n",
       "4  400212.850000  137949.330000  ... -76.997546 2025-01-24 00:00:00+00:00   \n",
       "5  397655.460000  139302.910000  ... -77.027036 2025-01-28 17:50:00+00:00   \n",
       "6  397921.520000  138712.810000  ... -77.023967 2025-01-05 11:00:00+00:00   \n",
       "7  401627.936959  132937.326937  ... -76.981242 2025-02-05 21:31:00+00:00   \n",
       "8  393619.540000  143740.090000  ... -77.073619 2024-12-23 15:00:00+00:00   \n",
       "9  399868.920000  143373.540000  ... -77.001512 2025-02-07 22:34:00+00:00   \n",
       "\n",
       "                   END_DATE   OBJECTID  DATE(REPORT)  DATE(START)  DATE(END)  \\\n",
       "0 2025-02-05 19:25:00+00:00  685784661    2025-02-05   2025-02-05 2025-02-05   \n",
       "1 2025-01-28 11:07:00+00:00  685784675    2025-01-28   2025-01-28 2025-01-28   \n",
       "2 2025-01-27 15:20:00+00:00  685784796    2025-01-27   2025-01-27 2025-01-27   \n",
       "3 2025-01-19 19:32:00+00:00  685784829    2025-01-19   2025-01-19 2025-01-19   \n",
       "4 2025-01-24 03:30:00+00:00  685784830    2025-01-25   2025-01-24 2025-01-24   \n",
       "5 2025-01-28 17:52:00+00:00  685784831    2025-01-28   2025-01-28 2025-01-28   \n",
       "6 2025-01-05 11:30:00+00:00  685784832    2025-01-06   2025-01-05 2025-01-05   \n",
       "7 2025-02-05 21:40:00+00:00  685784987    2025-02-06   2025-02-05 2025-02-05   \n",
       "8 2025-01-22 00:50:00+00:00  685785027    2025-01-30   2024-12-23 2025-01-22   \n",
       "9 2025-02-07 23:56:00+00:00  685785032    2025-02-08   2025-02-07 2025-02-07   \n",
       "\n",
       "     TIME(REPORT)     TIME(START)       TIME(END)  \n",
       "0 0 days 19:50:58 0 days 19:22:00 0 days 19:25:00  \n",
       "1 0 days 12:08:29 0 days 11:06:00 0 days 11:07:00  \n",
       "2 0 days 17:28:06 0 days 15:00:00 0 days 15:20:00  \n",
       "3 0 days 19:59:51 0 days 19:22:00 0 days 19:32:00  \n",
       "4 0 days 15:45:47 0 days 00:00:00 0 days 03:30:00  \n",
       "5 0 days 20:29:39 0 days 17:50:00 0 days 17:52:00  \n",
       "6 0 days 03:12:43 0 days 11:00:00 0 days 11:30:00  \n",
       "7 0 days 12:01:12 0 days 21:31:00 0 days 21:40:00  \n",
       "8 0 days 11:31:22 0 days 15:00:00 0 days 00:50:00  \n",
       "9 0 days 02:07:45 0 days 22:34:00 0 days 23:56:00  \n",
       "\n",
       "[10 rows x 28 columns]"
      ]
     },
     "execution_count": 2,
     "metadata": {},
     "output_type": "execute_result"
    }
   ],
   "source": [
    "import pandas as pd\n",
    "import matplotlib.pyplot as plt \n",
    "import numpy as np\n",
    "import seaborn as sns\n",
    "\n",
    "datasets = pd.read_parquet('CRIME_DATA.parquet')\n",
    "datasets.head(10)\n"
   ]
  },
  {
   "cell_type": "code",
   "execution_count": 3,
   "metadata": {},
   "outputs": [
    {
     "name": "stdout",
     "output_type": "stream",
     "text": [
      "<class 'pandas.core.frame.DataFrame'>\n",
      "Index: 4160 entries, 0 to 4163\n",
      "Data columns (total 28 columns):\n",
      " #   Column                Non-Null Count  Dtype              \n",
      "---  ------                --------------  -----              \n",
      " 0   X                     4160 non-null   float64            \n",
      " 1   Y                     4160 non-null   float64            \n",
      " 2   CCN                   4160 non-null   int64              \n",
      " 3   REPORT_DAT            4160 non-null   datetime64[ns, UTC]\n",
      " 4   SHIFT                 4160 non-null   category           \n",
      " 5   METHOD                4160 non-null   category           \n",
      " 6   OFFENSE               4160 non-null   category           \n",
      " 7   BLOCK                 4160 non-null   object             \n",
      " 8   XBLOCK                4160 non-null   float64            \n",
      " 9   YBLOCK                4160 non-null   float64            \n",
      " 10  WARD                  4160 non-null   int64              \n",
      " 11  ANC                   4160 non-null   category           \n",
      " 12  DISTRICT              4160 non-null   int64              \n",
      " 13  PSA                   4160 non-null   int64              \n",
      " 14  NEIGHBORHOOD_CLUSTER  4160 non-null   Int64              \n",
      " 15  BLOCK_GROUP           4160 non-null   int64              \n",
      " 16  CENSUS_TRACT          4160 non-null   int64              \n",
      " 17  LATITUDE              4160 non-null   float64            \n",
      " 18  LONGITUDE             4160 non-null   float64            \n",
      " 19  START_DATE            4160 non-null   datetime64[ns, UTC]\n",
      " 20  END_DATE              4160 non-null   datetime64[ns, UTC]\n",
      " 21  OBJECTID              4160 non-null   int64              \n",
      " 22  DATE(REPORT)          4160 non-null   datetime64[ns]     \n",
      " 23  DATE(START)           4160 non-null   datetime64[ns]     \n",
      " 24  DATE(END)             4160 non-null   datetime64[ns]     \n",
      " 25  TIME(REPORT)          4160 non-null   timedelta64[ns]    \n",
      " 26  TIME(START)           4160 non-null   timedelta64[ns]    \n",
      " 27  TIME(END)             4160 non-null   timedelta64[ns]    \n",
      "dtypes: Int64(1), category(4), datetime64[ns, UTC](3), datetime64[ns](3), float64(6), int64(7), object(1), timedelta64[ns](3)\n",
      "memory usage: 834.8+ KB\n"
     ]
    }
   ],
   "source": [
    "datasets.info()"
   ]
  },
  {
   "cell_type": "markdown",
   "metadata": {},
   "source": [
    "Crime Trend"
   ]
  },
  {
   "cell_type": "code",
   "execution_count": 14,
   "metadata": {},
   "outputs": [
    {
     "name": "stdout",
     "output_type": "stream",
     "text": [
      "Count of default date: 1\n"
     ]
    }
   ],
   "source": [
    "default_date = \"1989-05-19\"\n",
    "count_default = (datasets['DATE(END)'] == default_date).sum()\n",
    "print(f\"Count of default date: {count_default}\")"
   ]
  },
  {
   "cell_type": "code",
   "execution_count": null,
   "metadata": {},
   "outputs": [
    {
     "data": {
      "application/vnd.microsoft.datawrangler.viewer.v0+json": {
       "columns": [
        {
         "name": "index",
         "rawType": "int64",
         "type": "integer"
        },
        {
         "name": "X",
         "rawType": "float64",
         "type": "float"
        },
        {
         "name": "Y",
         "rawType": "float64",
         "type": "float"
        },
        {
         "name": "CCN",
         "rawType": "int64",
         "type": "integer"
        },
        {
         "name": "REPORT_DAT",
         "rawType": "datetime64[ns, UTC]",
         "type": "unknown"
        },
        {
         "name": "SHIFT",
         "rawType": "category",
         "type": "unknown"
        },
        {
         "name": "METHOD",
         "rawType": "category",
         "type": "unknown"
        },
        {
         "name": "OFFENSE",
         "rawType": "category",
         "type": "unknown"
        },
        {
         "name": "BLOCK",
         "rawType": "object",
         "type": "string"
        },
        {
         "name": "XBLOCK",
         "rawType": "float64",
         "type": "float"
        },
        {
         "name": "YBLOCK",
         "rawType": "float64",
         "type": "float"
        },
        {
         "name": "WARD",
         "rawType": "int64",
         "type": "integer"
        },
        {
         "name": "ANC",
         "rawType": "category",
         "type": "unknown"
        },
        {
         "name": "DISTRICT",
         "rawType": "int64",
         "type": "integer"
        },
        {
         "name": "PSA",
         "rawType": "int64",
         "type": "integer"
        },
        {
         "name": "NEIGHBORHOOD_CLUSTER",
         "rawType": "Int64",
         "type": "integer"
        },
        {
         "name": "BLOCK_GROUP",
         "rawType": "int64",
         "type": "integer"
        },
        {
         "name": "CENSUS_TRACT",
         "rawType": "int64",
         "type": "integer"
        },
        {
         "name": "LATITUDE",
         "rawType": "float64",
         "type": "float"
        },
        {
         "name": "LONGITUDE",
         "rawType": "float64",
         "type": "float"
        },
        {
         "name": "START_DATE",
         "rawType": "datetime64[ns, UTC]",
         "type": "unknown"
        },
        {
         "name": "END_DATE",
         "rawType": "datetime64[ns, UTC]",
         "type": "unknown"
        },
        {
         "name": "OBJECTID",
         "rawType": "int64",
         "type": "integer"
        },
        {
         "name": "DATE(REPORT)",
         "rawType": "datetime64[ns]",
         "type": "datetime"
        },
        {
         "name": "DATE(START)",
         "rawType": "datetime64[ns]",
         "type": "datetime"
        },
        {
         "name": "DATE(END)",
         "rawType": "datetime64[ns]",
         "type": "datetime"
        },
        {
         "name": "TIME(REPORT)",
         "rawType": "timedelta64[ns]",
         "type": "unknown"
        },
        {
         "name": "TIME(START)",
         "rawType": "timedelta64[ns]",
         "type": "unknown"
        },
        {
         "name": "TIME(END)",
         "rawType": "timedelta64[ns]",
         "type": "unknown"
        }
       ],
       "conversionMethod": "pd.DataFrame",
       "ref": "bc52ae0f-63d4-4f38-8496-345e71f11284",
       "rows": [
        [
         "4058",
         "400425.065800004",
         "132906.288400002",
         "89272849",
         "2025-01-15 05:00:00+00:00",
         "MIDNIGHT",
         "GUN",
         "HOMICIDE",
         "INTERSTATE 295 SOUTHBOUND AND RAMP TO HOWARD ROAD SE",
         "400425.0658125",
         "132906.288375",
         "8",
         "8A",
         "7",
         "703",
         "37",
         "1",
         "7401",
         "38.8639752398",
         "-76.9951022328",
         "1989-05-19 21:10:00+00:00",
         "1989-05-19 21:11:00+00:00",
         "686344406",
         "2025-01-15 00:00:00",
         "1989-05-19 00:00:00",
         "1989-05-19 00:00:00",
         "0 days 05:00:00",
         "0 days 21:10:00",
         "0 days 21:11:00"
        ]
       ],
       "shape": {
        "columns": 28,
        "rows": 1
       }
      },
      "text/html": [
       "<div>\n",
       "<style scoped>\n",
       "    .dataframe tbody tr th:only-of-type {\n",
       "        vertical-align: middle;\n",
       "    }\n",
       "\n",
       "    .dataframe tbody tr th {\n",
       "        vertical-align: top;\n",
       "    }\n",
       "\n",
       "    .dataframe thead th {\n",
       "        text-align: right;\n",
       "    }\n",
       "</style>\n",
       "<table border=\"1\" class=\"dataframe\">\n",
       "  <thead>\n",
       "    <tr style=\"text-align: right;\">\n",
       "      <th></th>\n",
       "      <th>X</th>\n",
       "      <th>Y</th>\n",
       "      <th>CCN</th>\n",
       "      <th>REPORT_DAT</th>\n",
       "      <th>SHIFT</th>\n",
       "      <th>METHOD</th>\n",
       "      <th>OFFENSE</th>\n",
       "      <th>BLOCK</th>\n",
       "      <th>XBLOCK</th>\n",
       "      <th>YBLOCK</th>\n",
       "      <th>...</th>\n",
       "      <th>LONGITUDE</th>\n",
       "      <th>START_DATE</th>\n",
       "      <th>END_DATE</th>\n",
       "      <th>OBJECTID</th>\n",
       "      <th>DATE(REPORT)</th>\n",
       "      <th>DATE(START)</th>\n",
       "      <th>DATE(END)</th>\n",
       "      <th>TIME(REPORT)</th>\n",
       "      <th>TIME(START)</th>\n",
       "      <th>TIME(END)</th>\n",
       "    </tr>\n",
       "  </thead>\n",
       "  <tbody>\n",
       "    <tr>\n",
       "      <th>4058</th>\n",
       "      <td>400425.0658</td>\n",
       "      <td>132906.2884</td>\n",
       "      <td>89272849</td>\n",
       "      <td>2025-01-15 05:00:00+00:00</td>\n",
       "      <td>MIDNIGHT</td>\n",
       "      <td>GUN</td>\n",
       "      <td>HOMICIDE</td>\n",
       "      <td>INTERSTATE 295 SOUTHBOUND AND RAMP TO HOWARD R...</td>\n",
       "      <td>400425.065813</td>\n",
       "      <td>132906.288375</td>\n",
       "      <td>...</td>\n",
       "      <td>-76.995102</td>\n",
       "      <td>1989-05-19 21:10:00+00:00</td>\n",
       "      <td>1989-05-19 21:11:00+00:00</td>\n",
       "      <td>686344406</td>\n",
       "      <td>2025-01-15</td>\n",
       "      <td>1989-05-19</td>\n",
       "      <td>1989-05-19</td>\n",
       "      <td>0 days 05:00:00</td>\n",
       "      <td>0 days 21:10:00</td>\n",
       "      <td>0 days 21:11:00</td>\n",
       "    </tr>\n",
       "  </tbody>\n",
       "</table>\n",
       "<p>1 rows × 28 columns</p>\n",
       "</div>"
      ],
      "text/plain": [
       "                X            Y       CCN                REPORT_DAT     SHIFT  \\\n",
       "4058  400425.0658  132906.2884  89272849 2025-01-15 05:00:00+00:00  MIDNIGHT   \n",
       "\n",
       "     METHOD   OFFENSE                                              BLOCK  \\\n",
       "4058    GUN  HOMICIDE  INTERSTATE 295 SOUTHBOUND AND RAMP TO HOWARD R...   \n",
       "\n",
       "             XBLOCK         YBLOCK  ...  LONGITUDE                START_DATE  \\\n",
       "4058  400425.065813  132906.288375  ... -76.995102 1989-05-19 21:10:00+00:00   \n",
       "\n",
       "                      END_DATE   OBJECTID  DATE(REPORT)  DATE(START)  \\\n",
       "4058 1989-05-19 21:11:00+00:00  686344406    2025-01-15   1989-05-19   \n",
       "\n",
       "      DATE(END)    TIME(REPORT)     TIME(START)       TIME(END)  \n",
       "4058 1989-05-19 0 days 05:00:00 0 days 21:10:00 0 days 21:11:00  \n",
       "\n",
       "[1 rows x 28 columns]"
      ]
     },
     "execution_count": 18,
     "metadata": {},
     "output_type": "execute_result"
    }
   ],
   "source": [
    "default_date = pd.to_datetime(\"1989-05-19\")\n",
    "default_date_rows = datasets[datasets['DATE(END)'] == default_date]\n",
    "default_date_rows"
   ]
  },
  {
   "cell_type": "code",
   "execution_count": null,
   "metadata": {},
   "outputs": [
    {
     "name": "stdout",
     "output_type": "stream",
     "text": [
      "4159\n"
     ]
    }
   ],
   "source": [
    "default_date = pd.to_datetime(\"1989-05-19\")\n",
    "default_date_rows = datasets[datasets['DATE(END)'] == default_date].index\n",
    "datasets = datasets.drop(default_date_rows)\n",
    "print(len(datasets))"
   ]
  },
  {
   "cell_type": "code",
   "execution_count": 24,
   "metadata": {},
   "outputs": [],
   "source": [
    "datasets.to_parquet('CRIME_DATA_FINAL.parquet', engine='pyarrow')"
   ]
  },
  {
   "cell_type": "code",
   "execution_count": 25,
   "metadata": {},
   "outputs": [],
   "source": [
    "datasets.to_csv('CRIME_DATA_FINAL.csv', index = False)"
   ]
  }
 ],
 "metadata": {
  "kernelspec": {
   "display_name": "Python 3",
   "language": "python",
   "name": "python3"
  },
  "language_info": {
   "codemirror_mode": {
    "name": "ipython",
    "version": 3
   },
   "file_extension": ".py",
   "mimetype": "text/x-python",
   "name": "python",
   "nbconvert_exporter": "python",
   "pygments_lexer": "ipython3",
   "version": "3.10.10"
  }
 },
 "nbformat": 4,
 "nbformat_minor": 2
}
